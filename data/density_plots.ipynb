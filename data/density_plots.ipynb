{
 "cells": [
  {
   "attachments": {},
   "cell_type": "markdown",
   "metadata": {},
   "source": [
    "# Density plots"
   ]
  },
  {
   "cell_type": "code",
   "execution_count": 1,
   "metadata": {
    "vscode": {
     "languageId": "r"
    }
   },
   "outputs": [
    {
     "name": "stderr",
     "output_type": "stream",
     "text": [
      "Warning message:\n",
      "\"Paket 'raster' wurde unter R Version 4.2.3 erstellt\"\n",
      "Lade nötiges Paket: sp\n",
      "\n",
      "Warning message:\n",
      "\"Paket 'sp' wurde unter R Version 4.2.3 erstellt\"\n",
      "The legacy packages maptools, rgdal, and rgeos, underpinning the sp package,\n",
      "which was just loaded, will retire in October 2023.\n",
      "Please refer to R-spatial evolution reports for details, especially\n",
      "https://r-spatial.org/r/2023/05/15/evolution4.html.\n",
      "It may be desirable to make the sf package available;\n",
      "package maintainers should consider adding sf to Suggests:.\n",
      "The sp package is now running under evolution status 2\n",
      "     (status 2 uses the sf package in place of rgdal)\n",
      "\n",
      "Warning message:\n",
      "\"Paket 'viridis' wurde unter R Version 4.2.3 erstellt\"\n",
      "Lade nötiges Paket: viridisLite\n",
      "\n"
     ]
    }
   ],
   "source": [
    "library(raster)\n",
    "library(RColorBrewer)\n",
    "library(colorRamps)\n",
    "library(viridis)"
   ]
  },
  {
   "attachments": {},
   "cell_type": "markdown",
   "metadata": {},
   "source": [
    "## Time averaged field strength density plots"
   ]
  },
  {
   "cell_type": "code",
   "execution_count": 2,
   "metadata": {
    "vscode": {
     "languageId": "r"
    }
   },
   "outputs": [],
   "source": [
    "plot_raster_field_strength <- function(max_x, max_y, values, name, charges) {\n",
    "r <- raster(xmn = 0, xmx = max_x, ymn = 0, ymx = max_y, nrows = max_y, ncols = max_x)\n",
    "r[] <- values\n",
    "plot(r, col = plasma(256), xlab = \"x\", ylab = \"y\", xaxt = \"n\", yaxt = \"n\")\n",
    "title(paste(\"Time averaged \", name, \"-direction field strength plot\\n\",\n",
    "\tifelse(charges, \" with Polyakov loops\", \"\"), sep = \"\"))\n",
    "axis(1, at = seq(from = 0.5, by = 5, to = max_x), labels = seq(from = 0, by = 5, to = max_x))\n",
    "axis(2, at = seq(from = 0.5, by = 5, to = max_y), labels = seq(from = 0, by = 5, to = max_y))\n",
    "box(col = \"white\")\n",
    "}"
   ]
  },
  {
   "cell_type": "code",
   "execution_count": 3,
   "metadata": {
    "vscode": {
     "languageId": "r"
    }
   },
   "outputs": [
    {
     "name": "stderr",
     "output_type": "stream",
     "text": [
      "Warning message in sp::CRS(...):\n",
      "\"sf required for evolution_status==2L\"\n"
     ]
    }
   ],
   "source": [
    "results <- read.csv(\"..\\\\data\\\\results.csv\", header = TRUE, sep = \",\")\n",
    "results <- results[results$difference_data == \"true\", ]\n",
    "\n",
    "entries <- data.frame(list(\n",
    "\tindex = c(5363, 5366, 5364, 5365, 5363, 5366, 5364, 5365),\n",
    "\tdirection = c(0, 0, 0, 0, 1, 1, 1, 1),\n",
    "\tblind = c(FALSE, TRUE, FALSE, TRUE, FALSE, FALSE, FALSE, FALSE),\n",
    "\tcharges = c(FALSE, TRUE, FALSE, TRUE, FALSE, TRUE, FALSE, TRUE)\n",
    "))\n",
    "\n",
    "direction_names <- c(\"x\", \"y\")\n",
    "\n",
    "for (i in 1:nrow(entries)) {\n",
    "\tindex <- entries$index[i]\n",
    "\tblind <- entries$blind[i]\n",
    "\tdirection <- entries$direction[i]\n",
    "\tcharges <- entries$charges[i]\n",
    "\n",
    "\tmax_x <- results$x[results$index == index]\n",
    "\tmax_y <- results$y[results$index == index]\n",
    "\n",
    "\td <- read.csv(paste(\"..\\\\data\\\\plot_data\\\\difference_\", index, \"_\", direction, \".csv\", sep = \"\"), header = TRUE, sep = \",\")\n",
    "\n",
    "\t# Time averaging\n",
    "\tfor (x in 0:(max_x - 1)) for (y in 0:(max_y - 1)) {\n",
    "\t\td <- rbind(d, c(x, y, -1, mean(d$value[d$x == x & d$y == y])))\n",
    "\t}\n",
    "\td <- d[d$t == -1, ]\n",
    "\n",
    "\tif (blind) {\n",
    "\t\td$value[which.max(d$value)] <- 0\n",
    "\t\td$value[which.min(d$value)] <- 0\n",
    "\t\td$value[which.max(d$value)] <- 0\n",
    "\t\td$value[which.min(d$value)] <- 0\n",
    "\t}\n",
    "\n",
    "\tif (FALSE) {\n",
    "\t\td$x_shifted <- 0\n",
    "\t\tfor (i in 1:nrow(d)) {\n",
    "\t\t\td$x_shifted[i] <- d$value[d$x == (d$x - 1) %% max_x]\n",
    "\t\t}\n",
    "\t}\n",
    "\n",
    "\td$x <- (d$x + floor(max_x / 3) + 1) %% max_x\n",
    "\td$y <- (d$y + floor((max_y - 1) / 2)) %% max_y\n",
    "\td <- d[order(d$y, d$x), ]\n",
    "\n",
    "\tpng(filename = paste(\"plots\\\\field_strength_\", index, \"_\", direction, \".png\", sep = \"\"),\n",
    "\t\twidth = 1440, height = 1440, type = c(\"cairo-png\"), res = 250)\n",
    "\tplot_raster_field_strength(max_x, max_y, d$value, direction_names[direction + 1], charges)\n",
    "\tdev.off()\n",
    "}"
   ]
  },
  {
   "attachments": {},
   "cell_type": "markdown",
   "metadata": {},
   "source": [
    "## Energy density plot\n",
    "\n"
   ]
  },
  {
   "cell_type": "code",
   "execution_count": 4,
   "metadata": {
    "vscode": {
     "languageId": "r"
    }
   },
   "outputs": [],
   "source": [
    "plot_raster_energy <- function(max_x, max_y, values, name, charges) {\n",
    "r <- raster(xmn = 0, xmx = max_x, ymn = 0, ymx = max_y, nrows = max_y, ncols = max_x)\n",
    "r[] <- values\n",
    "plot(r, col = plasma(256), xlab = \"x\", ylab = \"y\", xaxt = \"n\", yaxt = \"n\")\n",
    "title(paste(\"Time averaged energy density plot\\n\",\n",
    "\tifelse(charges, \" with Polyakov loops\", \"\"), sep = \"\"))\n",
    "axis(1, at = seq(from = 0.5, by = 5, to = max_x), labels = seq(from = 0, by = 5, to = max_x))\n",
    "axis(2, at = seq(from = 0.5, by = 5, to = max_y), labels = seq(from = 0, by = 5, to = max_y))\n",
    "box(col = \"white\")\n",
    "}"
   ]
  },
  {
   "cell_type": "code",
   "execution_count": 6,
   "metadata": {
    "vscode": {
     "languageId": "r"
    }
   },
   "outputs": [],
   "source": [
    "results <- read.csv(\"..\\\\data\\\\results.csv\", header = TRUE, sep = \",\")\n",
    "results <- results[results$difference_data == \"true\", ]\n",
    "\n",
    "entries <- data.frame(list(\n",
    "\tindex = c(5363, 5366, 5364, 5365),\n",
    "\tblind = c(FALSE, TRUE, FALSE, TRUE),\n",
    "\tcharges = c(FALSE, TRUE, FALSE, TRUE)\n",
    "))\n",
    "\n",
    "for (i in 1:nrow(entries)) {\n",
    "\tindex <- entries$index[i]\n",
    "\tblind <- entries$blind[i]\n",
    "\tcharges <- entries$charges[i]\n",
    "\n",
    "\tmax_x <- results$x[results$index == index]\n",
    "\tmax_y <- results$y[results$index == index]\n",
    "\tmax_t <- results$t[results$index == index]\n",
    "\n",
    "\tdx <- read.csv(paste(\"..\\\\data\\\\plot_data\\\\difference_\", index, \"_\", 0, \".csv\", sep = \"\"), header = TRUE, sep = \",\")\n",
    "\tdy <- read.csv(paste(\"..\\\\data\\\\plot_data\\\\difference_\", index, \"_\", 1, \".csv\", sep = \"\"), header = TRUE, sep = \",\")\n",
    "\tdt <- read.csv(paste(\"..\\\\data\\\\plot_data\\\\difference_\", index, \"_\", 2, \".csv\", sep = \"\"), header = TRUE, sep = \",\")\n",
    "\n",
    "\tdx$value <- dx$value * dx$value\n",
    "\tdy$value <- dy$value * dy$value\n",
    "\tdt$value <- dt$value * dt$value\n",
    "\n",
    "\td <- dx\n",
    "\td$value <- 0\n",
    "\tfor (i in 1:nrow(d)) {\n",
    "\t\tx <- d$x[i]\n",
    "\t\ty <- d$y[i]\n",
    "\t\tt <- d$t[i]\n",
    "\t\td$value[i] <- dx$value[dx$x == x & dx$y == y & dx$t == t] +\n",
    "\t\t\tdy$value[dy$x == x & dy$y == y & dy$t == t] -\n",
    "\t\t\tdt$value[dx$x == x & dt$y == y & dt$t == t] +\n",
    "\t\t\tdx$value[dx$x == (x - 1) %% max_x & dx$y == y & dx$t == t] +\n",
    "\t\t\tdy$value[dy$x == x & dy$y == (y - 1) %% max_y & dy$t == t] -\n",
    "\t\t\tdt$value[dx$x == x & dt$y == y & dt$t == (t - 1) %% max_t]\n",
    "\t}\n",
    "\n",
    "\td$value <- d$value / 2\n",
    "\n",
    "\t# Time averaging\n",
    "\tfor (x in 0:(max_x - 1)) for (y in 0:(max_y - 1)) {\n",
    "\t\td <- rbind(d, c(x, y, -1, mean(d$value[d$x == x & d$y == y])))\n",
    "\t}\n",
    "\td <- d[d$t == -1, ]\n",
    "\n",
    "\tif (blind & FALSE) {\n",
    "\t\td$value[which.max(d$value)] <- 0\n",
    "\t\td$value[which.min(d$value)] <- 0\n",
    "\t\td$value[which.max(d$value)] <- 0\n",
    "\t\td$value[which.min(d$value)] <- 0\n",
    "\t}\n",
    "\n",
    "\td$x <- (d$x + floor(max_x / 3) + 1) %% max_x\n",
    "\td$y <- (d$y + floor((max_y - 1) / 2)) %% max_y\n",
    "\td <- d[order(d$y, d$x), ]\n",
    "\n",
    "\t\n",
    "\tpng(filename = paste(\"plots\\\\energy_density_\", index, \"_\", direction, \".png\", sep = \"\"),\n",
    "\t\twidth = 1440, height = 1440, type = c(\"cairo-png\"), res = 250)\n",
    "\tplot_raster_energy(max_x, max_y, d$value, direction_names[direction + 1], charges)\n",
    "\tdev.off()\n",
    "}"
   ]
  }
 ],
 "metadata": {
  "kernelspec": {
   "display_name": "R",
   "language": "R",
   "name": "ir"
  },
  "language_info": {
   "codemirror_mode": "r",
   "file_extension": ".r",
   "mimetype": "text/x-r-source",
   "name": "R",
   "pygments_lexer": "r",
   "version": "4.2.2"
  },
  "orig_nbformat": 4
 },
 "nbformat": 4,
 "nbformat_minor": 2
}
