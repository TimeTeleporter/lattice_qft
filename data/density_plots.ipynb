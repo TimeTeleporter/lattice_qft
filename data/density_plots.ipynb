{
 "cells": [
  {
   "attachments": {},
   "cell_type": "markdown",
   "metadata": {},
   "source": [
    "# Density plots"
   ]
  },
  {
   "cell_type": "code",
   "execution_count": 18,
   "metadata": {
    "vscode": {
     "languageId": "r"
    }
   },
   "outputs": [
    {
     "name": "stderr",
     "output_type": "stream",
     "text": [
      "Warning message:\n",
      "\"Paket 'latex2exp' wurde unter R Version 4.2.3 erstellt\"\n"
     ]
    }
   ],
   "source": [
    "library(raster)\n",
    "library(RColorBrewer)\n",
    "library(colorRamps)\n",
    "library(viridis)\n",
    "library(latex2exp)"
   ]
  },
  {
   "cell_type": "code",
   "execution_count": 32,
   "metadata": {
    "vscode": {
     "languageId": "r"
    }
   },
   "outputs": [
    {
     "data": {
      "text/html": [
       "<table class=\"dataframe\">\n",
       "<caption>A data.frame: 4 × 16</caption>\n",
       "<thead>\n",
       "\t<tr><th></th><th scope=col>index</th><th scope=col>d</th><th scope=col>size</th><th scope=col>x</th><th scope=col>y</th><th scope=col>t</th><th scope=col>temp</th><th scope=col>comptype</th><th scope=col>burnin</th><th scope=col>iterations</th><th scope=col>duration</th><th scope=col>algorithm_statistic</th><th scope=col>action_data</th><th scope=col>energy_data</th><th scope=col>difference_data</th><th scope=col>correlation_data</th></tr>\n",
       "\t<tr><th></th><th scope=col>&lt;int&gt;</th><th scope=col>&lt;int&gt;</th><th scope=col>&lt;int&gt;</th><th scope=col>&lt;int&gt;</th><th scope=col>&lt;int&gt;</th><th scope=col>&lt;int&gt;</th><th scope=col>&lt;dbl&gt;</th><th scope=col>&lt;chr&gt;</th><th scope=col>&lt;int&gt;</th><th scope=col>&lt;int&gt;</th><th scope=col>&lt;int&gt;</th><th scope=col>&lt;lgl&gt;</th><th scope=col>&lt;chr&gt;</th><th scope=col>&lt;chr&gt;</th><th scope=col>&lt;chr&gt;</th><th scope=col>&lt;chr&gt;</th></tr>\n",
       "</thead>\n",
       "<tbody>\n",
       "\t<tr><th scope=row>5364</th><td>5363</td><td>3</td><td> 4096</td><td>16</td><td>16</td><td>16</td><td>0.27</td><td>Metropolis Simulation             </td><td>1000</td><td>409600</td><td> 47</td><td>NA</td><td>false</td><td>false</td><td>true</td><td>false</td></tr>\n",
       "\t<tr><th scope=row>5365</th><td>5364</td><td>3</td><td>46656</td><td>36</td><td>36</td><td>36</td><td>0.27</td><td>Metropolis Simulation             </td><td>1000</td><td>409600</td><td>546</td><td>NA</td><td>false</td><td>false</td><td>true</td><td>false</td></tr>\n",
       "\t<tr><th scope=row>5366</th><td>5365</td><td>3</td><td>46656</td><td>36</td><td>36</td><td>36</td><td>0.27</td><td>12x36 Wilson Metropolis Simulation</td><td>1000</td><td>409600</td><td> NA</td><td>NA</td><td>false</td><td>false</td><td>true</td><td>false</td></tr>\n",
       "\t<tr><th scope=row>5367</th><td>5366</td><td>3</td><td> 4096</td><td>16</td><td>16</td><td>16</td><td>0.27</td><td>5x16 Wilson Metropolis Simulation </td><td>1000</td><td>409600</td><td> NA</td><td>NA</td><td>false</td><td>false</td><td>true</td><td>false</td></tr>\n",
       "</tbody>\n",
       "</table>\n"
      ],
      "text/latex": [
       "A data.frame: 4 × 16\n",
       "\\begin{tabular}{r|llllllllllllllll}\n",
       "  & index & d & size & x & y & t & temp & comptype & burnin & iterations & duration & algorithm\\_statistic & action\\_data & energy\\_data & difference\\_data & correlation\\_data\\\\\n",
       "  & <int> & <int> & <int> & <int> & <int> & <int> & <dbl> & <chr> & <int> & <int> & <int> & <lgl> & <chr> & <chr> & <chr> & <chr>\\\\\n",
       "\\hline\n",
       "\t5364 & 5363 & 3 &  4096 & 16 & 16 & 16 & 0.27 & Metropolis Simulation              & 1000 & 409600 &  47 & NA & false & false & true & false\\\\\n",
       "\t5365 & 5364 & 3 & 46656 & 36 & 36 & 36 & 0.27 & Metropolis Simulation              & 1000 & 409600 & 546 & NA & false & false & true & false\\\\\n",
       "\t5366 & 5365 & 3 & 46656 & 36 & 36 & 36 & 0.27 & 12x36 Wilson Metropolis Simulation & 1000 & 409600 &  NA & NA & false & false & true & false\\\\\n",
       "\t5367 & 5366 & 3 &  4096 & 16 & 16 & 16 & 0.27 & 5x16 Wilson Metropolis Simulation  & 1000 & 409600 &  NA & NA & false & false & true & false\\\\\n",
       "\\end{tabular}\n"
      ],
      "text/markdown": [
       "\n",
       "A data.frame: 4 × 16\n",
       "\n",
       "| <!--/--> | index &lt;int&gt; | d &lt;int&gt; | size &lt;int&gt; | x &lt;int&gt; | y &lt;int&gt; | t &lt;int&gt; | temp &lt;dbl&gt; | comptype &lt;chr&gt; | burnin &lt;int&gt; | iterations &lt;int&gt; | duration &lt;int&gt; | algorithm_statistic &lt;lgl&gt; | action_data &lt;chr&gt; | energy_data &lt;chr&gt; | difference_data &lt;chr&gt; | correlation_data &lt;chr&gt; |\n",
       "|---|---|---|---|---|---|---|---|---|---|---|---|---|---|---|---|---|\n",
       "| 5364 | 5363 | 3 |  4096 | 16 | 16 | 16 | 0.27 | Metropolis Simulation              | 1000 | 409600 |  47 | NA | false | false | true | false |\n",
       "| 5365 | 5364 | 3 | 46656 | 36 | 36 | 36 | 0.27 | Metropolis Simulation              | 1000 | 409600 | 546 | NA | false | false | true | false |\n",
       "| 5366 | 5365 | 3 | 46656 | 36 | 36 | 36 | 0.27 | 12x36 Wilson Metropolis Simulation | 1000 | 409600 |  NA | NA | false | false | true | false |\n",
       "| 5367 | 5366 | 3 |  4096 | 16 | 16 | 16 | 0.27 | 5x16 Wilson Metropolis Simulation  | 1000 | 409600 |  NA | NA | false | false | true | false |\n",
       "\n"
      ],
      "text/plain": [
       "     index d size  x  y  t  temp comptype                           burnin\n",
       "5364 5363  3  4096 16 16 16 0.27 Metropolis Simulation              1000  \n",
       "5365 5364  3 46656 36 36 36 0.27 Metropolis Simulation              1000  \n",
       "5366 5365  3 46656 36 36 36 0.27 12x36 Wilson Metropolis Simulation 1000  \n",
       "5367 5366  3  4096 16 16 16 0.27 5x16 Wilson Metropolis Simulation  1000  \n",
       "     iterations duration algorithm_statistic action_data energy_data\n",
       "5364 409600      47      NA                  false       false      \n",
       "5365 409600     546      NA                  false       false      \n",
       "5366 409600      NA      NA                  false       false      \n",
       "5367 409600      NA      NA                  false       false      \n",
       "     difference_data correlation_data\n",
       "5364 true            false           \n",
       "5365 true            false           \n",
       "5366 true            false           \n",
       "5367 true            false           "
      ]
     },
     "metadata": {},
     "output_type": "display_data"
    }
   ],
   "source": [
    "results <- read.csv(\"..\\\\data\\\\results.csv\", header = TRUE, sep = \",\")\n",
    "results <- results[results$difference_data == \"true\", ]\n",
    "results"
   ]
  },
  {
   "attachments": {},
   "cell_type": "markdown",
   "metadata": {},
   "source": [
    "## Time averaged field strength plots"
   ]
  },
  {
   "cell_type": "code",
   "execution_count": 25,
   "metadata": {
    "vscode": {
     "languageId": "r"
    }
   },
   "outputs": [],
   "source": [
    "plot_raster_field_strength <- function(max_x, max_y, values, name, charges, range) {\n",
    "\trequire(raster)\n",
    "\tr <- raster(xmn = 0, xmx = max_x, ymn = 0, ymx = max_y, nrows = max_y, ncols = max_x)\n",
    "\tr[] <- values\n",
    "\tplot(r, col = plasma(256), xlab = \"x\", ylab = \"y\", xaxt = \"n\", yaxt = \"n\", zlim = range)\n",
    "\ttitle(TeX(paste(\"$\", name, \"$ field strength plot\",\n",
    "\t\tifelse(charges, \" with Polyakov loops\", \"\"), sep = \"\"), bold = TRUE))\n",
    "\taxis(1, at = seq(from = 0.5, by = 5, to = max_x), labels = seq(from = 0, by = 5, to = max_x))\n",
    "\taxis(2, at = seq(from = 0.5, by = 5, to = max_y), labels = seq(from = 0, by = 5, to = max_y))\n",
    "\tbox(col = \"white\")\n",
    "}"
   ]
  },
  {
   "cell_type": "code",
   "execution_count": 26,
   "metadata": {
    "vscode": {
     "languageId": "r"
    }
   },
   "outputs": [],
   "source": [
    "results <- read.csv(\"..\\\\data\\\\results.csv\", header = TRUE, sep = \",\")\n",
    "results <- results[results$difference_data == \"true\", ]\n",
    "\n",
    "entries <- data.frame(list(\n",
    "\tindex = c(5363, 5366, 5364, 5365, 5363, 5366, 5364, 5365),\n",
    "\tdirection = c(0, 0, 0, 0, 1, 1, 1, 1),\n",
    "\tblind = c(FALSE, FALSE, FALSE, FALSE, FALSE, FALSE, FALSE, FALSE),\n",
    "\tcharges = c(FALSE, TRUE, FALSE, TRUE, FALSE, TRUE, FALSE, TRUE),\n",
    "\t#max_vals = c(0.0034, 0.25, 0.003, 0.25, 0.004, 0.125, 0.0032, 0.10005),\n",
    "\t#min_vals = c(-0.0035, -0.25, -0.003, -0.25, -0.004, -0.86, -0.003, -0.93)\n",
    "\tmax_vals = c(0.25, 0.25, 0.25, 0.25, 0.125, 0.125, 0.10005, 0.10005),\n",
    "\tmin_vals = c(-0.25, -0.25, -0.25, -0.25, -0.86, -0.86, -0.93, -0.93)\n",
    "))\n",
    "\n",
    "direction_names <- c(\"E_y\", \"E_x\")\n",
    "\n",
    "for (i in 1:nrow(entries)) {\n",
    "\tindex <- entries$index[i]\n",
    "\tblind <- entries$blind[i]\n",
    "\tdirection <- entries$direction[i]\n",
    "\tcharges <- entries$charges[i]\n",
    "\trange <- c(entries$min_vals[i], entries$max_vals[i])\n",
    "\n",
    "\tmax_x <- results$x[results$index == index]\n",
    "\tmax_y <- results$y[results$index == index]\n",
    "\n",
    "\td <- read.csv(paste(\"..\\\\data\\\\plot_data\\\\difference_\", index, \"_\", direction, \".csv\", sep = \"\"), header = TRUE, sep = \",\")\n",
    "\n",
    "\t# Time averaging\n",
    "\tfor (x in 0:(max_x - 1)) for (y in 0:(max_y - 1)) {\n",
    "\t\td <- rbind(d, c(x, y, -1, mean(d$value[d$x == x & d$y == y])))\n",
    "\t}\n",
    "\td <- d[d$t == -1, ]\n",
    "\n",
    "\tif (blind) {\n",
    "\t\td$value[which.max(d$value)] <- 0\n",
    "\t\td$value[which.min(d$value)] <- 0\n",
    "\t\td$value[which.max(d$value)] <- 0\n",
    "\t\td$value[which.min(d$value)] <- 0\n",
    "\t}\n",
    "\n",
    "\td$x <- (d$x + floor(max_x / 3) + 1) %% max_x\n",
    "\td$y <- (d$y + floor((max_y - 1) / 2)) %% max_y\n",
    "\td <- d[order(d$y, d$x), ]\n",
    "\n",
    "\tpng(filename = paste(\"plots\\\\field_strength_\", index, \"_\", direction, \".png\", sep = \"\"),\n",
    "\t\twidth = 1440, height = 1440, type = c(\"cairo-png\"), res = 250)\n",
    "\tplot_raster_field_strength(max_x, max_y, d$value, direction_names[direction + 1], charges, range)\n",
    "\tdev.off()\n",
    "}"
   ]
  },
  {
   "attachments": {},
   "cell_type": "markdown",
   "metadata": {},
   "source": [
    "## Energy density plot\n",
    "\n"
   ]
  },
  {
   "cell_type": "code",
   "execution_count": 33,
   "metadata": {
    "vscode": {
     "languageId": "r"
    }
   },
   "outputs": [],
   "source": [
    "plot_raster_energy <- function(max_x, max_y, values, name, charges, range) {\n",
    "r <- raster(xmn = 0, xmx = max_x, ymn = 0, ymx = max_y, nrows = max_y, ncols = max_x)\n",
    "r[] <- values\n",
    "plot(r, col = plasma(256), xlab = \"x\", ylab = \"y\", xaxt = \"n\", yaxt = \"n\", zlim = range)\n",
    "title(paste(\"Energy density plot\\n\",\n",
    "\tifelse(charges, \" with Polyakov loops\", \"\"), sep = \"\"))\n",
    "axis(1, at = seq(from = 0.5, by = 5, to = max_x), labels = seq(from = 0, by = 5, to = max_x))\n",
    "axis(2, at = seq(from = 0.5, by = 5, to = max_y), labels = seq(from = 0, by = 5, to = max_y))\n",
    "box(col = \"white\")\n",
    "}"
   ]
  },
  {
   "cell_type": "code",
   "execution_count": 35,
   "metadata": {
    "vscode": {
     "languageId": "r"
    }
   },
   "outputs": [],
   "source": [
    "results <- read.csv(\"..\\\\data\\\\results.csv\", header = TRUE, sep = \",\")\n",
    "results <- results[results$difference_data == \"true\", ]\n",
    "\n",
    "entries <- data.frame(list(\n",
    "\tindex = c(5363, 5366, 5364, 5365),\n",
    "\tblind = c(FALSE, FALSE, FALSE, FALSE),\n",
    "\tcharges = c(FALSE, TRUE, FALSE, TRUE),\n",
    "\t#max_vals = c(3.873752e-05, 3.711278e-01, 3.208702e-05, 4.342130e-01),\n",
    "\t#min_vals = c(-2.502818e-06,  1.002163e-05,  2.415023e-06,  2.464816e-06)\n",
    "\tmax_vals = c(0.372, 0.372, 0.44, 0.44),\n",
    "\tmin_vals = c(-0.001, 0, 0, 0)\n",
    "))\n",
    "\n",
    "max_val <- c()\n",
    "min_val <- c()\n",
    "\n",
    "for (i in c(1)) {\n",
    "\tindex <- entries$index[i]\n",
    "\tblind <- entries$blind[i]\n",
    "\tcharges <- entries$charges[i]\n",
    "\trange <- c(entries$min_vals[i], entries$max_vals[i])\n",
    "\n",
    "\tmax_x <- results$x[results$index == index]\n",
    "\tmax_y <- results$y[results$index == index]\n",
    "\tmax_t <- results$t[results$index == index]\n",
    "\n",
    "\tdx <- read.csv(paste(\"..\\\\data\\\\plot_data\\\\difference_\", index, \"_\", 0, \".csv\", sep = \"\"), header = TRUE, sep = \",\")\n",
    "\tdy <- read.csv(paste(\"..\\\\data\\\\plot_data\\\\difference_\", index, \"_\", 1, \".csv\", sep = \"\"), header = TRUE, sep = \",\")\n",
    "\tdt <- read.csv(paste(\"..\\\\data\\\\plot_data\\\\difference_\", index, \"_\", 2, \".csv\", sep = \"\"), header = TRUE, sep = \",\")\n",
    "\n",
    "\tdx$value <- dx$value * dx$value\n",
    "\tdy$value <- dy$value * dy$value\n",
    "\tdt$value <- dt$value * dt$value\n",
    "\n",
    "\td <- dx\n",
    "\td$value <- 0\n",
    "\tfor (i in 1:nrow(d)) {\n",
    "\t\tx <- d$x[i]\n",
    "\t\ty <- d$y[i]\n",
    "\t\tt <- d$t[i]\n",
    "\t\td$value[i] <- dx$value[dx$x == x & dx$y == y & dx$t == t] +\n",
    "\t\t\tdy$value[dy$x == x & dy$y == y & dy$t == t] -\n",
    "\t\t\tdt$value[dx$x == x & dt$y == y & dt$t == t] +\n",
    "\t\t\tdx$value[dx$x == (x - 1) %% max_x & dx$y == y & dx$t == t] +\n",
    "\t\t\tdy$value[dy$x == x & dy$y == (y - 1) %% max_y & dy$t == t] -\n",
    "\t\t\tdt$value[dx$x == x & dt$y == y & dt$t == (t - 1) %% max_t]\n",
    "\t}\n",
    "\n",
    "\td$value <- d$value / 2\n",
    "\n",
    "\t# Time averaging\n",
    "\tfor (x in 0:(max_x - 1)) for (y in 0:(max_y - 1)) {\n",
    "\t\td <- rbind(d, c(x, y, -1, mean(d$value[d$x == x & d$y == y])))\n",
    "\t}\n",
    "\td <- d[d$t == -1, ]\n",
    "\n",
    "\td$x <- (d$x + floor(max_x / 3) + 1) %% max_x\n",
    "\td$y <- (d$y + floor((max_y - 1) / 2)) %% max_y\n",
    "\td <- d[order(d$y, d$x), ]\n",
    "\n",
    "\t\n",
    "\tpng(filename = paste(\"plots\\\\energy_density_\", index, \"_\", direction, \".png\", sep = \"\"),\n",
    "\t\twidth = 1440, height = 1440, type = c(\"cairo-png\"), res = 250)\n",
    "\tplot_raster_energy(max_x, max_y, d$value, direction_names[direction + 1], charges, range)\n",
    "\tdev.off()\n",
    "\n",
    "\tmax_val <- append(max_val, max(d$value))\n",
    "\tmin_val <- append(min_val, min(d$value))\n",
    "}"
   ]
  }
 ],
 "metadata": {
  "kernelspec": {
   "display_name": "R",
   "language": "R",
   "name": "ir"
  },
  "language_info": {
   "codemirror_mode": "r",
   "file_extension": ".r",
   "mimetype": "text/x-r-source",
   "name": "R",
   "pygments_lexer": "r",
   "version": "4.2.2"
  },
  "orig_nbformat": 4
 },
 "nbformat": 4,
 "nbformat_minor": 2
}
