{
 "cells": [
  {
   "cell_type": "code",
   "execution_count": 2,
   "metadata": {
    "vscode": {
     "languageId": "r"
    }
   },
   "outputs": [
    {
     "name": "stderr",
     "output_type": "stream",
     "text": [
      "Warning message:\n",
      "\"Paket 'latex2exp' wurde unter R Version 4.2.3 erstellt\"\n"
     ]
    }
   ],
   "source": [
    "library(latex2exp)"
   ]
  },
  {
   "attachments": {},
   "cell_type": "markdown",
   "metadata": {},
   "source": [
    "# Simulation analysis\n",
    "## Thermalization\n",
    "\n",
    "We consider the lattice action as an observable in order to see how many sweeps it takes to thermalize the system."
   ]
  },
  {
   "cell_type": "code",
   "execution_count": 11,
   "metadata": {
    "vscode": {
     "languageId": "r"
    }
   },
   "outputs": [
    {
     "data": {
      "text/html": [
       "<table class=\"dataframe\">\n",
       "<caption>A data.frame: 4 × 16</caption>\n",
       "<thead>\n",
       "\t<tr><th></th><th scope=col>index</th><th scope=col>d</th><th scope=col>size</th><th scope=col>x</th><th scope=col>y</th><th scope=col>t</th><th scope=col>temp</th><th scope=col>comptype</th><th scope=col>burnin</th><th scope=col>iterations</th><th scope=col>duration</th><th scope=col>algorithm_statistic</th><th scope=col>action_data</th><th scope=col>energy_data</th><th scope=col>difference_data</th><th scope=col>correlation_data</th></tr>\n",
       "\t<tr><th></th><th scope=col>&lt;int&gt;</th><th scope=col>&lt;int&gt;</th><th scope=col>&lt;int&gt;</th><th scope=col>&lt;int&gt;</th><th scope=col>&lt;int&gt;</th><th scope=col>&lt;int&gt;</th><th scope=col>&lt;dbl&gt;</th><th scope=col>&lt;chr&gt;</th><th scope=col>&lt;int&gt;</th><th scope=col>&lt;int&gt;</th><th scope=col>&lt;int&gt;</th><th scope=col>&lt;lgl&gt;</th><th scope=col>&lt;chr&gt;</th><th scope=col>&lt;chr&gt;</th><th scope=col>&lt;chr&gt;</th><th scope=col>&lt;chr&gt;</th></tr>\n",
       "</thead>\n",
       "<tbody>\n",
       "\t<tr><th scope=row>6466</th><td>6465</td><td>3</td><td>  4096</td><td>16</td><td>16</td><td>16</td><td>0.2</td><td>10x16 Wilson Metropolis Simulation</td><td>0</td><td>2000</td><td>NA</td><td>NA</td><td>true</td><td>false</td><td>false</td><td>false</td></tr>\n",
       "\t<tr><th scope=row>6468</th><td>6467</td><td>3</td><td>  4096</td><td>16</td><td>16</td><td>16</td><td>0.3</td><td>10x16 Wilson Metropolis Simulation</td><td>0</td><td>2000</td><td>NA</td><td>NA</td><td>true</td><td>false</td><td>false</td><td>false</td></tr>\n",
       "\t<tr><th scope=row>6470</th><td>6469</td><td>3</td><td>157464</td><td>54</td><td>54</td><td>54</td><td>0.2</td><td>36x54 Wilson Metropolis Simulation</td><td>0</td><td>2000</td><td>NA</td><td>NA</td><td>true</td><td>false</td><td>false</td><td>false</td></tr>\n",
       "\t<tr><th scope=row>6472</th><td>6471</td><td>3</td><td>157464</td><td>54</td><td>54</td><td>54</td><td>0.3</td><td>36x54 Wilson Metropolis Simulation</td><td>0</td><td>2000</td><td>NA</td><td>NA</td><td>true</td><td>false</td><td>false</td><td>false</td></tr>\n",
       "</tbody>\n",
       "</table>\n"
      ],
      "text/latex": [
       "A data.frame: 4 × 16\n",
       "\\begin{tabular}{r|llllllllllllllll}\n",
       "  & index & d & size & x & y & t & temp & comptype & burnin & iterations & duration & algorithm\\_statistic & action\\_data & energy\\_data & difference\\_data & correlation\\_data\\\\\n",
       "  & <int> & <int> & <int> & <int> & <int> & <int> & <dbl> & <chr> & <int> & <int> & <int> & <lgl> & <chr> & <chr> & <chr> & <chr>\\\\\n",
       "\\hline\n",
       "\t6466 & 6465 & 3 &   4096 & 16 & 16 & 16 & 0.2 & 10x16 Wilson Metropolis Simulation & 0 & 2000 & NA & NA & true & false & false & false\\\\\n",
       "\t6468 & 6467 & 3 &   4096 & 16 & 16 & 16 & 0.3 & 10x16 Wilson Metropolis Simulation & 0 & 2000 & NA & NA & true & false & false & false\\\\\n",
       "\t6470 & 6469 & 3 & 157464 & 54 & 54 & 54 & 0.2 & 36x54 Wilson Metropolis Simulation & 0 & 2000 & NA & NA & true & false & false & false\\\\\n",
       "\t6472 & 6471 & 3 & 157464 & 54 & 54 & 54 & 0.3 & 36x54 Wilson Metropolis Simulation & 0 & 2000 & NA & NA & true & false & false & false\\\\\n",
       "\\end{tabular}\n"
      ],
      "text/markdown": [
       "\n",
       "A data.frame: 4 × 16\n",
       "\n",
       "| <!--/--> | index &lt;int&gt; | d &lt;int&gt; | size &lt;int&gt; | x &lt;int&gt; | y &lt;int&gt; | t &lt;int&gt; | temp &lt;dbl&gt; | comptype &lt;chr&gt; | burnin &lt;int&gt; | iterations &lt;int&gt; | duration &lt;int&gt; | algorithm_statistic &lt;lgl&gt; | action_data &lt;chr&gt; | energy_data &lt;chr&gt; | difference_data &lt;chr&gt; | correlation_data &lt;chr&gt; |\n",
       "|---|---|---|---|---|---|---|---|---|---|---|---|---|---|---|---|---|\n",
       "| 6466 | 6465 | 3 |   4096 | 16 | 16 | 16 | 0.2 | 10x16 Wilson Metropolis Simulation | 0 | 2000 | NA | NA | true | false | false | false |\n",
       "| 6468 | 6467 | 3 |   4096 | 16 | 16 | 16 | 0.3 | 10x16 Wilson Metropolis Simulation | 0 | 2000 | NA | NA | true | false | false | false |\n",
       "| 6470 | 6469 | 3 | 157464 | 54 | 54 | 54 | 0.2 | 36x54 Wilson Metropolis Simulation | 0 | 2000 | NA | NA | true | false | false | false |\n",
       "| 6472 | 6471 | 3 | 157464 | 54 | 54 | 54 | 0.3 | 36x54 Wilson Metropolis Simulation | 0 | 2000 | NA | NA | true | false | false | false |\n",
       "\n"
      ],
      "text/plain": [
       "     index d size   x  y  t  temp comptype                           burnin\n",
       "6466 6465  3   4096 16 16 16 0.2  10x16 Wilson Metropolis Simulation 0     \n",
       "6468 6467  3   4096 16 16 16 0.3  10x16 Wilson Metropolis Simulation 0     \n",
       "6470 6469  3 157464 54 54 54 0.2  36x54 Wilson Metropolis Simulation 0     \n",
       "6472 6471  3 157464 54 54 54 0.3  36x54 Wilson Metropolis Simulation 0     \n",
       "     iterations duration algorithm_statistic action_data energy_data\n",
       "6466 2000       NA       NA                  true        false      \n",
       "6468 2000       NA       NA                  true        false      \n",
       "6470 2000       NA       NA                  true        false      \n",
       "6472 2000       NA       NA                  true        false      \n",
       "     difference_data correlation_data\n",
       "6466 false           false           \n",
       "6468 false           false           \n",
       "6470 false           false           \n",
       "6472 false           false           "
      ]
     },
     "metadata": {},
     "output_type": "display_data"
    },
    {
     "data": {
      "text/html": [
       "<strong>png:</strong> 2"
      ],
      "text/latex": [
       "\\textbf{png:} 2"
      ],
      "text/markdown": [
       "**png:** 2"
      ],
      "text/plain": [
       "png \n",
       "  2 "
      ]
     },
     "metadata": {},
     "output_type": "display_data"
    }
   ],
   "source": [
    "sizes <- c(16, 54)\n",
    "\n",
    "png(filename = \"plots\\\\thermalization.png\", width = 1920, height = 960, type = c(\"cairo-png\"), res = 200)\n",
    "par(mfrow = c(1, 4), mar = c(5, 5, 4, 1))\n",
    "\n",
    "results <- read.csv(\"..\\\\data\\\\results.csv\", header = TRUE, sep = \",\")\n",
    "results <- results[results$action_data == \"true\"\n",
    "\t& results$comptype != \"Metropolis Simulation\"\n",
    "\t, ]\n",
    "results <- results[results$x %in% sizes, ]\n",
    "results\n",
    "\n",
    "first <- TRUE\n",
    "\n",
    "for (i in 1:nrow(results)) {\n",
    "\tindex <- results$index[i]\n",
    "\tsize <- results$x[i]\n",
    "\ttemp <- results$temp[i]\n",
    "\tcomptype <- results$comptype[i]\n",
    "\n",
    "\td <- read.csv(paste(\"..\\\\data\\\\action_data\\\\action_\", index, \".csv\", sep = \"\"), header = FALSE, sep = \",\")\n",
    "\t\tcolnames(d) <- c(\"action\")\n",
    "\t\td$x <- 1:nrow(d) - 1\n",
    "\n",
    "\tplot(d$x, d$action,\n",
    "\t\txlab = \"Markov chain steps\",\n",
    "\t\tylab = \"action observable\",\n",
    "\t\tlog = \"y\", \n",
    "\t\txlim = c(0, 500),\n",
    "\t\tylim = c(1e3, 2e9),\n",
    "\t\ttype = \"l\")\n",
    "\ttitle(TeX(paste(\"$\", size, \"^3$ lattice, $e^2 / 2 = $\", temp, \"$\", sep = \"\"), bold = TRUE))\n",
    "\n",
    "\tfirst <- FALSE\n",
    "}\n",
    "dev.off()"
   ]
  }
 ],
 "metadata": {
  "kernelspec": {
   "display_name": "R",
   "language": "R",
   "name": "ir"
  },
  "language_info": {
   "codemirror_mode": "r",
   "file_extension": ".r",
   "mimetype": "text/x-r-source",
   "name": "R",
   "pygments_lexer": "r",
   "version": "4.2.2"
  },
  "orig_nbformat": 4
 },
 "nbformat": 4,
 "nbformat_minor": 2
}
