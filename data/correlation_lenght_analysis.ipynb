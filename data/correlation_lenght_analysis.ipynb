{
 "cells": [
  {
   "attachments": {},
   "cell_type": "markdown",
   "metadata": {},
   "source": [
    "# Data examination\n",
    "\n",
    "In a first step we present a concise overview table over the correlation lenght data."
   ]
  },
  {
   "cell_type": "code",
   "execution_count": 22,
   "metadata": {
    "vscode": {
     "languageId": "r"
    }
   },
   "outputs": [
    {
     "data": {
      "text/html": [
       "<table class=\"dataframe\">\n",
       "<caption>A data.frame: 1 × 7</caption>\n",
       "<thead>\n",
       "\t<tr><th></th><th scope=col>index</th><th scope=col>L</th><th scope=col>temp</th><th scope=col>info</th><th scope=col>corr12</th><th scope=col>corr12_err</th><th scope=col>corr12_err_perc</th></tr>\n",
       "\t<tr><th></th><th scope=col>&lt;int&gt;</th><th scope=col>&lt;int&gt;</th><th scope=col>&lt;dbl&gt;</th><th scope=col>&lt;chr&gt;</th><th scope=col>&lt;dbl&gt;</th><th scope=col>&lt;dbl&gt;</th><th scope=col>&lt;dbl&gt;</th></tr>\n",
       "</thead>\n",
       "<tbody>\n",
       "\t<tr><th scope=row>8</th><td>3007</td><td>16</td><td>0.26</td><td>100 Metropolis Simulations</td><td>12.09608</td><td>0.6067228</td><td>0.05015863</td></tr>\n",
       "</tbody>\n",
       "</table>\n"
      ],
      "text/latex": [
       "A data.frame: 1 × 7\n",
       "\\begin{tabular}{r|lllllll}\n",
       "  & index & L & temp & info & corr12 & corr12\\_err & corr12\\_err\\_perc\\\\\n",
       "  & <int> & <int> & <dbl> & <chr> & <dbl> & <dbl> & <dbl>\\\\\n",
       "\\hline\n",
       "\t8 & 3007 & 16 & 0.26 & 100 Metropolis Simulations & 12.09608 & 0.6067228 & 0.05015863\\\\\n",
       "\\end{tabular}\n"
      ],
      "text/markdown": [
       "\n",
       "A data.frame: 1 × 7\n",
       "\n",
       "| <!--/--> | index &lt;int&gt; | L &lt;int&gt; | temp &lt;dbl&gt; | info &lt;chr&gt; | corr12 &lt;dbl&gt; | corr12_err &lt;dbl&gt; | corr12_err_perc &lt;dbl&gt; |\n",
       "|---|---|---|---|---|---|---|---|\n",
       "| 8 | 3007 | 16 | 0.26 | 100 Metropolis Simulations | 12.09608 | 0.6067228 | 0.05015863 |\n",
       "\n"
      ],
      "text/plain": [
       "  index L  temp info                       corr12   corr12_err corr12_err_perc\n",
       "8 3007  16 0.26 100 Metropolis Simulations 12.09608 0.6067228  0.05015863     "
      ]
     },
     "metadata": {},
     "output_type": "display_data"
    },
    {
     "data": {
      "text/html": [
       "<table class=\"dataframe\">\n",
       "<caption>A data.frame: 8 × 7</caption>\n",
       "<thead>\n",
       "\t<tr><th></th><th scope=col>index</th><th scope=col>L</th><th scope=col>temp</th><th scope=col>info</th><th scope=col>corr12</th><th scope=col>corr12_err</th><th scope=col>corr12_err_perc</th></tr>\n",
       "\t<tr><th></th><th scope=col>&lt;int&gt;</th><th scope=col>&lt;int&gt;</th><th scope=col>&lt;dbl&gt;</th><th scope=col>&lt;chr&gt;</th><th scope=col>&lt;dbl&gt;</th><th scope=col>&lt;dbl&gt;</th><th scope=col>&lt;dbl&gt;</th></tr>\n",
       "</thead>\n",
       "<tbody>\n",
       "\t<tr><th scope=row>1</th><td>3000</td><td>24</td><td>0.270</td><td>1 Metropolis Simulations  </td><td> 6.212154</td><td>  1.0308724</td><td>0.16594445</td></tr>\n",
       "\t<tr><th scope=row>2</th><td>3001</td><td>24</td><td>0.275</td><td>1 Metropolis Simulations  </td><td>62.715520</td><td>114.4566361</td><td>1.82501296</td></tr>\n",
       "\t<tr><th scope=row>3</th><td>3002</td><td>24</td><td>0.280</td><td>1 Metropolis Simulations  </td><td> 5.161464</td><td>  0.8586765</td><td>0.16636298</td></tr>\n",
       "\t<tr><th scope=row>4</th><td>3003</td><td>24</td><td>0.285</td><td>1 Metropolis Simulations  </td><td> 5.831237</td><td>  0.9082822</td><td>0.15576150</td></tr>\n",
       "\t<tr><th scope=row>5</th><td>3004</td><td>24</td><td>0.290</td><td>1 Metropolis Simulations  </td><td> 9.855200</td><td>  3.3933082</td><td>0.34431653</td></tr>\n",
       "\t<tr><th scope=row>6</th><td>3005</td><td>24</td><td>0.295</td><td>1 Metropolis Simulations  </td><td> 4.415328</td><td>  0.6169789</td><td>0.13973570</td></tr>\n",
       "\t<tr><th scope=row>7</th><td>3006</td><td>24</td><td>0.300</td><td>1 Metropolis Simulations  </td><td> 4.733250</td><td>  0.7093981</td><td>0.14987547</td></tr>\n",
       "\t<tr><th scope=row>9</th><td>3107</td><td>24</td><td>0.260</td><td>100 Metropolis Simulations</td><td> 9.390834</td><td>  0.2012568</td><td>0.02143119</td></tr>\n",
       "</tbody>\n",
       "</table>\n"
      ],
      "text/latex": [
       "A data.frame: 8 × 7\n",
       "\\begin{tabular}{r|lllllll}\n",
       "  & index & L & temp & info & corr12 & corr12\\_err & corr12\\_err\\_perc\\\\\n",
       "  & <int> & <int> & <dbl> & <chr> & <dbl> & <dbl> & <dbl>\\\\\n",
       "\\hline\n",
       "\t1 & 3000 & 24 & 0.270 & 1 Metropolis Simulations   &  6.212154 &   1.0308724 & 0.16594445\\\\\n",
       "\t2 & 3001 & 24 & 0.275 & 1 Metropolis Simulations   & 62.715520 & 114.4566361 & 1.82501296\\\\\n",
       "\t3 & 3002 & 24 & 0.280 & 1 Metropolis Simulations   &  5.161464 &   0.8586765 & 0.16636298\\\\\n",
       "\t4 & 3003 & 24 & 0.285 & 1 Metropolis Simulations   &  5.831237 &   0.9082822 & 0.15576150\\\\\n",
       "\t5 & 3004 & 24 & 0.290 & 1 Metropolis Simulations   &  9.855200 &   3.3933082 & 0.34431653\\\\\n",
       "\t6 & 3005 & 24 & 0.295 & 1 Metropolis Simulations   &  4.415328 &   0.6169789 & 0.13973570\\\\\n",
       "\t7 & 3006 & 24 & 0.300 & 1 Metropolis Simulations   &  4.733250 &   0.7093981 & 0.14987547\\\\\n",
       "\t9 & 3107 & 24 & 0.260 & 100 Metropolis Simulations &  9.390834 &   0.2012568 & 0.02143119\\\\\n",
       "\\end{tabular}\n"
      ],
      "text/markdown": [
       "\n",
       "A data.frame: 8 × 7\n",
       "\n",
       "| <!--/--> | index &lt;int&gt; | L &lt;int&gt; | temp &lt;dbl&gt; | info &lt;chr&gt; | corr12 &lt;dbl&gt; | corr12_err &lt;dbl&gt; | corr12_err_perc &lt;dbl&gt; |\n",
       "|---|---|---|---|---|---|---|---|\n",
       "| 1 | 3000 | 24 | 0.270 | 1 Metropolis Simulations   |  6.212154 |   1.0308724 | 0.16594445 |\n",
       "| 2 | 3001 | 24 | 0.275 | 1 Metropolis Simulations   | 62.715520 | 114.4566361 | 1.82501296 |\n",
       "| 3 | 3002 | 24 | 0.280 | 1 Metropolis Simulations   |  5.161464 |   0.8586765 | 0.16636298 |\n",
       "| 4 | 3003 | 24 | 0.285 | 1 Metropolis Simulations   |  5.831237 |   0.9082822 | 0.15576150 |\n",
       "| 5 | 3004 | 24 | 0.290 | 1 Metropolis Simulations   |  9.855200 |   3.3933082 | 0.34431653 |\n",
       "| 6 | 3005 | 24 | 0.295 | 1 Metropolis Simulations   |  4.415328 |   0.6169789 | 0.13973570 |\n",
       "| 7 | 3006 | 24 | 0.300 | 1 Metropolis Simulations   |  4.733250 |   0.7093981 | 0.14987547 |\n",
       "| 9 | 3107 | 24 | 0.260 | 100 Metropolis Simulations |  9.390834 |   0.2012568 | 0.02143119 |\n",
       "\n"
      ],
      "text/plain": [
       "  index L  temp  info                       corr12    corr12_err \n",
       "1 3000  24 0.270 1 Metropolis Simulations    6.212154   1.0308724\n",
       "2 3001  24 0.275 1 Metropolis Simulations   62.715520 114.4566361\n",
       "3 3002  24 0.280 1 Metropolis Simulations    5.161464   0.8586765\n",
       "4 3003  24 0.285 1 Metropolis Simulations    5.831237   0.9082822\n",
       "5 3004  24 0.290 1 Metropolis Simulations    9.855200   3.3933082\n",
       "6 3005  24 0.295 1 Metropolis Simulations    4.415328   0.6169789\n",
       "7 3006  24 0.300 1 Metropolis Simulations    4.733250   0.7093981\n",
       "9 3107  24 0.260 100 Metropolis Simulations  9.390834   0.2012568\n",
       "  corr12_err_perc\n",
       "1 0.16594445     \n",
       "2 1.82501296     \n",
       "3 0.16636298     \n",
       "4 0.15576150     \n",
       "5 0.34431653     \n",
       "6 0.13973570     \n",
       "7 0.14987547     \n",
       "9 0.02143119     "
      ]
     },
     "metadata": {},
     "output_type": "display_data"
    },
    {
     "data": {
      "text/html": [
       "<table class=\"dataframe\">\n",
       "<caption>A data.frame: 0 × 7</caption>\n",
       "<thead>\n",
       "\t<tr><th scope=col>index</th><th scope=col>L</th><th scope=col>temp</th><th scope=col>info</th><th scope=col>corr12</th><th scope=col>corr12_err</th><th scope=col>corr12_err_perc</th></tr>\n",
       "\t<tr><th scope=col>&lt;int&gt;</th><th scope=col>&lt;int&gt;</th><th scope=col>&lt;dbl&gt;</th><th scope=col>&lt;chr&gt;</th><th scope=col>&lt;dbl&gt;</th><th scope=col>&lt;dbl&gt;</th><th scope=col>&lt;dbl&gt;</th></tr>\n",
       "</thead>\n",
       "<tbody>\n",
       "</tbody>\n",
       "</table>\n"
      ],
      "text/latex": [
       "A data.frame: 0 × 7\n",
       "\\begin{tabular}{lllllll}\n",
       " index & L & temp & info & corr12 & corr12\\_err & corr12\\_err\\_perc\\\\\n",
       " <int> & <int> & <dbl> & <chr> & <dbl> & <dbl> & <dbl>\\\\\n",
       "\\hline\n",
       "\\end{tabular}\n"
      ],
      "text/markdown": [
       "\n",
       "A data.frame: 0 × 7\n",
       "\n",
       "| index &lt;int&gt; | L &lt;int&gt; | temp &lt;dbl&gt; | info &lt;chr&gt; | corr12 &lt;dbl&gt; | corr12_err &lt;dbl&gt; | corr12_err_perc &lt;dbl&gt; |\n",
       "|---|---|---|---|---|---|---|\n",
       "\n"
      ],
      "text/plain": [
       "     index L temp info corr12 corr12_err corr12_err_perc"
      ]
     },
     "metadata": {},
     "output_type": "display_data"
    },
    {
     "data": {
      "text/html": [
       "<table class=\"dataframe\">\n",
       "<caption>A data.frame: 0 × 7</caption>\n",
       "<thead>\n",
       "\t<tr><th scope=col>index</th><th scope=col>L</th><th scope=col>temp</th><th scope=col>info</th><th scope=col>corr12</th><th scope=col>corr12_err</th><th scope=col>corr12_err_perc</th></tr>\n",
       "\t<tr><th scope=col>&lt;int&gt;</th><th scope=col>&lt;int&gt;</th><th scope=col>&lt;dbl&gt;</th><th scope=col>&lt;chr&gt;</th><th scope=col>&lt;dbl&gt;</th><th scope=col>&lt;dbl&gt;</th><th scope=col>&lt;dbl&gt;</th></tr>\n",
       "</thead>\n",
       "<tbody>\n",
       "</tbody>\n",
       "</table>\n"
      ],
      "text/latex": [
       "A data.frame: 0 × 7\n",
       "\\begin{tabular}{lllllll}\n",
       " index & L & temp & info & corr12 & corr12\\_err & corr12\\_err\\_perc\\\\\n",
       " <int> & <int> & <dbl> & <chr> & <dbl> & <dbl> & <dbl>\\\\\n",
       "\\hline\n",
       "\\end{tabular}\n"
      ],
      "text/markdown": [
       "\n",
       "A data.frame: 0 × 7\n",
       "\n",
       "| index &lt;int&gt; | L &lt;int&gt; | temp &lt;dbl&gt; | info &lt;chr&gt; | corr12 &lt;dbl&gt; | corr12_err &lt;dbl&gt; | corr12_err_perc &lt;dbl&gt; |\n",
       "|---|---|---|---|---|---|---|\n",
       "\n"
      ],
      "text/plain": [
       "     index L temp info corr12 corr12_err corr12_err_perc"
      ]
     },
     "metadata": {},
     "output_type": "display_data"
    }
   ],
   "source": [
    "# Presenting the correlation lenght data in a simple table\n",
    "results <- read.csv(\"..\\\\data\\\\results_comp.csv\", header = TRUE, sep = \",\")\n",
    "\n",
    "bin_size <- 16\n",
    "\n",
    "d <- results[, c(\"index\", \"t\", \"temp\", \"comptype\")]\n",
    "colnames(d) <- c(\"index\", \"L\", \"temp\", \"info\")\n",
    "\n",
    "corr12 <- c()\n",
    "corr12_err <- c()\n",
    "for (index in d$index) {\n",
    "\tlen <- read.csv(paste(\"..\\\\data\\\\comp_correlation_stats\\\\correlation_\", index, \"_len.csv\", sep = \"\"), header = TRUE, sep = \",\")\n",
    "\tcorr12 <- append(corr12, len$corr12[len$bin_size == bin_size])\n",
    "\tcorr12_err <- append(corr12_err, len$corr12_err[len$bin_size == bin_size])\n",
    "}\n",
    "d$corr12 <- corr12\n",
    "d$corr12_err <- corr12_err\n",
    "d$corr12_err_perc <- d$corr12_err / d$corr12\n",
    "\n",
    "comp <- d\n",
    "\n",
    "comp[d$L == 16, ]\n",
    "comp[d$L == 24, ]\n",
    "comp[d$L == 36, ]\n",
    "comp[d$L == 54, ]"
   ]
  },
  {
   "attachments": {},
   "cell_type": "markdown",
   "metadata": {},
   "source": [
    "## Compounded correlation lengths"
   ]
  },
  {
   "cell_type": "code",
   "execution_count": 23,
   "metadata": {
    "vscode": {
     "languageId": "r"
    }
   },
   "outputs": [
    {
     "name": "stderr",
     "output_type": "stream",
     "text": [
      "Warning message in min(x):\n",
      "\"kein nicht-fehlendes Argument für min; gebe Inf zurück\"\n",
      "Warning message in max(x):\n",
      "\"kein nicht-fehlendes Argument für max; gebe -Inf zurück\"\n"
     ]
    },
    {
     "data": {
      "image/png": "[encoded data removed]",
      "text/plain": [
       "Plot with title \"Correlation lenghts for L = 16\""
      ]
     },
     "metadata": {
      "image/png": {
       "height": 420,
       "width": 420
      }
     },
     "output_type": "display_data"
    },
    {
     "ename": "ERROR",
     "evalue": "Error in plot.window(...): endliche 'xlim' Werte nötig\n",
     "output_type": "error",
     "traceback": [
      "Error in plot.window(...): endliche 'xlim' Werte nötig\nTraceback:\n",
      "1. plot(corr12 ~ temp, data = d, ylim = c(0, size), col = \"red3\", \n .     type = \"o\")",
      "2. plot.formula(corr12 ~ temp, data = d, ylim = c(0, size), col = \"red3\", \n .     type = \"o\")",
      "3. do.call(funname, c(list(mf[[i]], y, ylab = yl, xlab = xl), dots))",
      "4. plot(numeric(0), numeric(0), ylab = \"corr12\", xlab = \"temp\", \n .     ylim = c(0, 36), col = \"red3\", type = \"o\")",
      "5. plot.default(numeric(0), numeric(0), ylab = \"corr12\", xlab = \"temp\", \n .     ylim = c(0, 36), col = \"red3\", type = \"o\")",
      "6. localWindow(xlim, ylim, log, asp, ...)",
      "7. plot.window(...)"
     ]
    },
    {
     "data": {
      "image/png": "[encoded data removed]",
      "text/plain": [
       "Plot with title \"Correlation lenghts for L = 24\""
      ]
     },
     "metadata": {
      "image/png": {
       "height": 420,
       "width": 420
      }
     },
     "output_type": "display_data"
    },
    {
     "data": {
      "image/png": "[encoded data removed]",
      "text/plain": [
       "plot without title"
      ]
     },
     "metadata": {
      "image/png": {
       "height": 420,
       "width": 420
      }
     },
     "output_type": "display_data"
    }
   ],
   "source": [
    "for (size in c(16, 24, 36, 54, 81)) {\n",
    "\td <- comp[comp$L == size, c(\"L\", \"temp\", \"corr12\", \"corr12_err\")]\n",
    "\tplot(corr12 ~ temp, data = d, ylim = c(0, size), col = \"red3\", type = \"o\")\n",
    "\tupper <- d$corr12 + d$corr12_err\n",
    "\tlower <- d$corr12 - d$corr12_err\n",
    "\tlines(d$temp, upper, lty = 5)\n",
    "\tlines(d$temp, lower, lty = 5)\n",
    "\tpoints(corr12 ~ temp, data = d, col = \"red3\")\n",
    "\tlines(corr12 ~ temp, data = d, col = \"red3\")\n",
    "\ttitle(paste(\"Correlation lenghts for L =\", size))\n",
    "\tlegend <- list(names = c(\"corr12\"), cols = \"red3\")\n",
    "\tlegend(\"topright\", y = legend$names, fill = legend$cols)\n",
    "}"
   ]
  },
  {
   "attachments": {},
   "cell_type": "markdown",
   "metadata": {},
   "source": [
    "## Step-scaling functions\n",
    "\n",
    "Here we plot the step-scaling functions $\\xi (1.5 L) / \\xi (L) \\sim \\xi(L) / L$. In a first step, we only utilize the correlation lenghts `corr12`, that only considers the first and second non-zero momentum modes."
   ]
  },
  {
   "cell_type": "code",
   "execution_count": null,
   "metadata": {
    "vscode": {
     "languageId": "r"
    }
   },
   "outputs": [
    {
     "data": {
      "text/html": [
       "<table class=\"dataframe\">\n",
       "<caption>A data.frame: 10 × 11</caption>\n",
       "<thead>\n",
       "\t<tr><th></th><th scope=col>index</th><th scope=col>L</th><th scope=col>temp</th><th scope=col>corr12</th><th scope=col>corr12_err</th><th scope=col>corr_beta_ratio</th><th scope=col>corr_beta_ratio_err</th><th scope=col>corr12_15</th><th scope=col>corr12_15_err</th><th scope=col>corr_step_ratio</th><th scope=col>corr_step_ratio_err</th></tr>\n",
       "\t<tr><th></th><th scope=col>&lt;int&gt;</th><th scope=col>&lt;int&gt;</th><th scope=col>&lt;dbl&gt;</th><th scope=col>&lt;dbl&gt;</th><th scope=col>&lt;dbl&gt;</th><th scope=col>&lt;dbl&gt;</th><th scope=col>&lt;dbl&gt;</th><th scope=col>&lt;dbl&gt;</th><th scope=col>&lt;dbl&gt;</th><th scope=col>&lt;dbl&gt;</th><th scope=col>&lt;dbl&gt;</th></tr>\n",
       "</thead>\n",
       "<tbody>\n",
       "\t<tr><th scope=row>9</th><td>   8</td><td>16</td><td>0.260</td><td>11.090432</td><td>1.5275387</td><td>0.6931520</td><td>0.095471167</td><td>9.000052</td><td>0.5881925</td><td>0.8115150</td><td>0.16480991</td></tr>\n",
       "\t<tr><th scope=row>10</th><td>   9</td><td>16</td><td>0.265</td><td>10.213968</td><td>1.1151653</td><td>0.6383730</td><td>0.069697831</td><td>8.476854</td><td>0.5261112</td><td>0.8299276</td><td>0.14212084</td></tr>\n",
       "\t<tr><th scope=row>11</th><td>  10</td><td>16</td><td>0.270</td><td> 8.708709</td><td>0.7422042</td><td>0.5442943</td><td>0.046387765</td><td>7.343437</td><td>0.3785524</td><td>0.8432292</td><td>0.11533291</td></tr>\n",
       "\t<tr><th scope=row>12</th><td>  11</td><td>16</td><td>0.275</td><td> 8.174114</td><td>0.4385897</td><td>0.5108821</td><td>0.027411856</td><td>6.547389</td><td>0.2934239</td><td>0.8009907</td><td>0.07887462</td></tr>\n",
       "\t<tr><th scope=row>13</th><td>  12</td><td>16</td><td>0.280</td><td> 6.732614</td><td>0.3583975</td><td>0.4207884</td><td>0.022399843</td><td>6.153471</td><td>0.2437017</td><td>0.9139794</td><td>0.08485109</td></tr>\n",
       "\t<tr><th scope=row>14</th><td>  13</td><td>16</td><td>0.285</td><td> 6.735781</td><td>0.3470733</td><td>0.4209863</td><td>0.021692080</td><td>5.473172</td><td>0.1822939</td><td>0.8125520</td><td>0.06893173</td></tr>\n",
       "\t<tr><th scope=row>15</th><td>  14</td><td>16</td><td>0.290</td><td> 5.259971</td><td>0.1848864</td><td>0.3287482</td><td>0.011555401</td><td>5.145880</td><td>0.1537751</td><td>0.9783096</td><td>0.06362227</td></tr>\n",
       "\t<tr><th scope=row>16</th><td>  15</td><td>16</td><td>0.295</td><td> 5.020839</td><td>0.1788223</td><td>0.3138024</td><td>0.011176392</td><td>4.869496</td><td>0.1301824</td><td>0.9698570</td><td>0.06047085</td></tr>\n",
       "\t<tr><th scope=row>17</th><td>  16</td><td>16</td><td>0.300</td><td> 4.700274</td><td>0.1501783</td><td>0.2937671</td><td>0.009386145</td><td>4.506933</td><td>0.1199698</td><td>0.9588660</td><td>0.05616070</td></tr>\n",
       "\t<tr><th scope=row>86</th><td>3007</td><td>16</td><td>0.260</td><td>12.100462</td><td>0.5778947</td><td>0.7562789</td><td>0.036118419</td><td>9.000052</td><td>0.5881925</td><td>0.7437776</td><td>0.08413048</td></tr>\n",
       "</tbody>\n",
       "</table>\n"
      ],
      "text/latex": [
       "A data.frame: 10 × 11\n",
       "\\begin{tabular}{r|lllllllllll}\n",
       "  & index & L & temp & corr12 & corr12\\_err & corr\\_beta\\_ratio & corr\\_beta\\_ratio\\_err & corr12\\_15 & corr12\\_15\\_err & corr\\_step\\_ratio & corr\\_step\\_ratio\\_err\\\\\n",
       "  & <int> & <int> & <dbl> & <dbl> & <dbl> & <dbl> & <dbl> & <dbl> & <dbl> & <dbl> & <dbl>\\\\\n",
       "\\hline\n",
       "\t9 &    8 & 16 & 0.260 & 11.090432 & 1.5275387 & 0.6931520 & 0.095471167 & 9.000052 & 0.5881925 & 0.8115150 & 0.16480991\\\\\n",
       "\t10 &    9 & 16 & 0.265 & 10.213968 & 1.1151653 & 0.6383730 & 0.069697831 & 8.476854 & 0.5261112 & 0.8299276 & 0.14212084\\\\\n",
       "\t11 &   10 & 16 & 0.270 &  8.708709 & 0.7422042 & 0.5442943 & 0.046387765 & 7.343437 & 0.3785524 & 0.8432292 & 0.11533291\\\\\n",
       "\t12 &   11 & 16 & 0.275 &  8.174114 & 0.4385897 & 0.5108821 & 0.027411856 & 6.547389 & 0.2934239 & 0.8009907 & 0.07887462\\\\\n",
       "\t13 &   12 & 16 & 0.280 &  6.732614 & 0.3583975 & 0.4207884 & 0.022399843 & 6.153471 & 0.2437017 & 0.9139794 & 0.08485109\\\\\n",
       "\t14 &   13 & 16 & 0.285 &  6.735781 & 0.3470733 & 0.4209863 & 0.021692080 & 5.473172 & 0.1822939 & 0.8125520 & 0.06893173\\\\\n",
       "\t15 &   14 & 16 & 0.290 &  5.259971 & 0.1848864 & 0.3287482 & 0.011555401 & 5.145880 & 0.1537751 & 0.9783096 & 0.06362227\\\\\n",
       "\t16 &   15 & 16 & 0.295 &  5.020839 & 0.1788223 & 0.3138024 & 0.011176392 & 4.869496 & 0.1301824 & 0.9698570 & 0.06047085\\\\\n",
       "\t17 &   16 & 16 & 0.300 &  4.700274 & 0.1501783 & 0.2937671 & 0.009386145 & 4.506933 & 0.1199698 & 0.9588660 & 0.05616070\\\\\n",
       "\t86 & 3007 & 16 & 0.260 & 12.100462 & 0.5778947 & 0.7562789 & 0.036118419 & 9.000052 & 0.5881925 & 0.7437776 & 0.08413048\\\\\n",
       "\\end{tabular}\n"
      ],
      "text/markdown": [
       "\n",
       "A data.frame: 10 × 11\n",
       "\n",
       "| <!--/--> | index &lt;int&gt; | L &lt;int&gt; | temp &lt;dbl&gt; | corr12 &lt;dbl&gt; | corr12_err &lt;dbl&gt; | corr_beta_ratio &lt;dbl&gt; | corr_beta_ratio_err &lt;dbl&gt; | corr12_15 &lt;dbl&gt; | corr12_15_err &lt;dbl&gt; | corr_step_ratio &lt;dbl&gt; | corr_step_ratio_err &lt;dbl&gt; |\n",
       "|---|---|---|---|---|---|---|---|---|---|---|---|\n",
       "| 9 |    8 | 16 | 0.260 | 11.090432 | 1.5275387 | 0.6931520 | 0.095471167 | 9.000052 | 0.5881925 | 0.8115150 | 0.16480991 |\n",
       "| 10 |    9 | 16 | 0.265 | 10.213968 | 1.1151653 | 0.6383730 | 0.069697831 | 8.476854 | 0.5261112 | 0.8299276 | 0.14212084 |\n",
       "| 11 |   10 | 16 | 0.270 |  8.708709 | 0.7422042 | 0.5442943 | 0.046387765 | 7.343437 | 0.3785524 | 0.8432292 | 0.11533291 |\n",
       "| 12 |   11 | 16 | 0.275 |  8.174114 | 0.4385897 | 0.5108821 | 0.027411856 | 6.547389 | 0.2934239 | 0.8009907 | 0.07887462 |\n",
       "| 13 |   12 | 16 | 0.280 |  6.732614 | 0.3583975 | 0.4207884 | 0.022399843 | 6.153471 | 0.2437017 | 0.9139794 | 0.08485109 |\n",
       "| 14 |   13 | 16 | 0.285 |  6.735781 | 0.3470733 | 0.4209863 | 0.021692080 | 5.473172 | 0.1822939 | 0.8125520 | 0.06893173 |\n",
       "| 15 |   14 | 16 | 0.290 |  5.259971 | 0.1848864 | 0.3287482 | 0.011555401 | 5.145880 | 0.1537751 | 0.9783096 | 0.06362227 |\n",
       "| 16 |   15 | 16 | 0.295 |  5.020839 | 0.1788223 | 0.3138024 | 0.011176392 | 4.869496 | 0.1301824 | 0.9698570 | 0.06047085 |\n",
       "| 17 |   16 | 16 | 0.300 |  4.700274 | 0.1501783 | 0.2937671 | 0.009386145 | 4.506933 | 0.1199698 | 0.9588660 | 0.05616070 |\n",
       "| 86 | 3007 | 16 | 0.260 | 12.100462 | 0.5778947 | 0.7562789 | 0.036118419 | 9.000052 | 0.5881925 | 0.7437776 | 0.08413048 |\n",
       "\n"
      ],
      "text/plain": [
       "   index L  temp  corr12    corr12_err corr_beta_ratio corr_beta_ratio_err\n",
       "9     8  16 0.260 11.090432 1.5275387  0.6931520       0.095471167        \n",
       "10    9  16 0.265 10.213968 1.1151653  0.6383730       0.069697831        \n",
       "11   10  16 0.270  8.708709 0.7422042  0.5442943       0.046387765        \n",
       "12   11  16 0.275  8.174114 0.4385897  0.5108821       0.027411856        \n",
       "13   12  16 0.280  6.732614 0.3583975  0.4207884       0.022399843        \n",
       "14   13  16 0.285  6.735781 0.3470733  0.4209863       0.021692080        \n",
       "15   14  16 0.290  5.259971 0.1848864  0.3287482       0.011555401        \n",
       "16   15  16 0.295  5.020839 0.1788223  0.3138024       0.011176392        \n",
       "17   16  16 0.300  4.700274 0.1501783  0.2937671       0.009386145        \n",
       "86 3007  16 0.260 12.100462 0.5778947  0.7562789       0.036118419        \n",
       "   corr12_15 corr12_15_err corr_step_ratio corr_step_ratio_err\n",
       "9  9.000052  0.5881925     0.8115150       0.16480991         \n",
       "10 8.476854  0.5261112     0.8299276       0.14212084         \n",
       "11 7.343437  0.3785524     0.8432292       0.11533291         \n",
       "12 6.547389  0.2934239     0.8009907       0.07887462         \n",
       "13 6.153471  0.2437017     0.9139794       0.08485109         \n",
       "14 5.473172  0.1822939     0.8125520       0.06893173         \n",
       "15 5.145880  0.1537751     0.9783096       0.06362227         \n",
       "16 4.869496  0.1301824     0.9698570       0.06047085         \n",
       "17 4.506933  0.1199698     0.9588660       0.05616070         \n",
       "86 9.000052  0.5881925     0.7437776       0.08413048         "
      ]
     },
     "metadata": {},
     "output_type": "display_data"
    },
    {
     "data": {
      "text/html": [
       "<table class=\"dataframe\">\n",
       "<caption>A data.frame: 13 × 11</caption>\n",
       "<thead>\n",
       "\t<tr><th></th><th scope=col>index</th><th scope=col>L</th><th scope=col>temp</th><th scope=col>corr12</th><th scope=col>corr12_err</th><th scope=col>corr_beta_ratio</th><th scope=col>corr_beta_ratio_err</th><th scope=col>corr12_15</th><th scope=col>corr12_15_err</th><th scope=col>corr_step_ratio</th><th scope=col>corr_step_ratio_err</th></tr>\n",
       "\t<tr><th></th><th scope=col>&lt;int&gt;</th><th scope=col>&lt;int&gt;</th><th scope=col>&lt;dbl&gt;</th><th scope=col>&lt;dbl&gt;</th><th scope=col>&lt;dbl&gt;</th><th scope=col>&lt;dbl&gt;</th><th scope=col>&lt;dbl&gt;</th><th scope=col>&lt;dbl&gt;</th><th scope=col>&lt;dbl&gt;</th><th scope=col>&lt;dbl&gt;</th><th scope=col>&lt;dbl&gt;</th></tr>\n",
       "</thead>\n",
       "<tbody>\n",
       "\t<tr><th scope=row>22</th><td>174</td><td>24</td><td>0.240</td><td>17.607831</td><td>4.1306507</td><td>0.7336596</td><td>0.172110446</td><td>13.876143</td><td>2.4688152</td><td>0.7880666</td><td>0.32508508</td></tr>\n",
       "\t<tr><th scope=row>23</th><td>175</td><td>24</td><td>0.245</td><td>14.139979</td><td>1.8418745</td><td>0.5891658</td><td>0.076744770</td><td>11.953834</td><td>1.4715124</td><td>0.8453927</td><td>0.21418842</td></tr>\n",
       "\t<tr><th scope=row>24</th><td>176</td><td>24</td><td>0.250</td><td>11.056278</td><td>1.0220157</td><td>0.4606782</td><td>0.042583986</td><td>10.701097</td><td>1.0653216</td><td>0.9678752</td><td>0.18582250</td></tr>\n",
       "\t<tr><th scope=row>25</th><td>177</td><td>24</td><td>0.255</td><td>10.381358</td><td>0.9279298</td><td>0.4325566</td><td>0.038663740</td><td> 9.311278</td><td>0.8462247</td><td>0.8969229</td><td>0.16168463</td></tr>\n",
       "\t<tr><th scope=row>26</th><td>178</td><td>24</td><td>0.260</td><td> 9.000052</td><td>0.5881925</td><td>0.3750022</td><td>0.024508023</td><td> 9.270131</td><td>0.7717087</td><td>1.0300086</td><td>0.15306045</td></tr>\n",
       "\t<tr><th scope=row>27</th><td>179</td><td>24</td><td>0.265</td><td> 8.476854</td><td>0.5261112</td><td>0.3532023</td><td>0.021921302</td><td> 8.801551</td><td>0.6854891</td><td>1.0383040</td><td>0.14530773</td></tr>\n",
       "\t<tr><th scope=row>28</th><td>180</td><td>24</td><td>0.270</td><td> 7.343437</td><td>0.3785524</td><td>0.3059765</td><td>0.015773018</td><td> 7.819577</td><td>0.4409857</td><td>1.0648388</td><td>0.11494387</td></tr>\n",
       "\t<tr><th scope=row>29</th><td>181</td><td>24</td><td>0.275</td><td> 6.547389</td><td>0.2934239</td><td>0.2728079</td><td>0.012225996</td><td> 6.377185</td><td>0.3537858</td><td>0.9740043</td><td>0.09768504</td></tr>\n",
       "\t<tr><th scope=row>30</th><td>182</td><td>24</td><td>0.280</td><td> 6.153471</td><td>0.2437017</td><td>0.2563946</td><td>0.010154238</td><td> 5.919467</td><td>0.4515741</td><td>0.9619720</td><td>0.11148315</td></tr>\n",
       "\t<tr><th scope=row>31</th><td>183</td><td>24</td><td>0.285</td><td> 5.473172</td><td>0.1822939</td><td>0.2280488</td><td>0.007595580</td><td> 5.598026</td><td>0.3164837</td><td>1.0228120</td><td>0.09189115</td></tr>\n",
       "\t<tr><th scope=row>32</th><td>184</td><td>24</td><td>0.290</td><td> 5.145880</td><td>0.1537751</td><td>0.2144117</td><td>0.006407297</td><td> 5.018341</td><td>0.2760560</td><td>0.9752154</td><td>0.08278854</td></tr>\n",
       "\t<tr><th scope=row>33</th><td>185</td><td>24</td><td>0.295</td><td> 4.869496</td><td>0.1301824</td><td>0.2028956</td><td>0.005424265</td><td> 5.022444</td><td>0.2658894</td><td>1.0314094</td><td>0.08217705</td></tr>\n",
       "\t<tr><th scope=row>34</th><td>186</td><td>24</td><td>0.300</td><td> 4.506933</td><td>0.1199698</td><td>0.1877889</td><td>0.004998740</td><td> 4.463922</td><td>0.2462174</td><td>0.9904568</td><td>0.08099572</td></tr>\n",
       "</tbody>\n",
       "</table>\n"
      ],
      "text/latex": [
       "A data.frame: 13 × 11\n",
       "\\begin{tabular}{r|lllllllllll}\n",
       "  & index & L & temp & corr12 & corr12\\_err & corr\\_beta\\_ratio & corr\\_beta\\_ratio\\_err & corr12\\_15 & corr12\\_15\\_err & corr\\_step\\_ratio & corr\\_step\\_ratio\\_err\\\\\n",
       "  & <int> & <int> & <dbl> & <dbl> & <dbl> & <dbl> & <dbl> & <dbl> & <dbl> & <dbl> & <dbl>\\\\\n",
       "\\hline\n",
       "\t22 & 174 & 24 & 0.240 & 17.607831 & 4.1306507 & 0.7336596 & 0.172110446 & 13.876143 & 2.4688152 & 0.7880666 & 0.32508508\\\\\n",
       "\t23 & 175 & 24 & 0.245 & 14.139979 & 1.8418745 & 0.5891658 & 0.076744770 & 11.953834 & 1.4715124 & 0.8453927 & 0.21418842\\\\\n",
       "\t24 & 176 & 24 & 0.250 & 11.056278 & 1.0220157 & 0.4606782 & 0.042583986 & 10.701097 & 1.0653216 & 0.9678752 & 0.18582250\\\\\n",
       "\t25 & 177 & 24 & 0.255 & 10.381358 & 0.9279298 & 0.4325566 & 0.038663740 &  9.311278 & 0.8462247 & 0.8969229 & 0.16168463\\\\\n",
       "\t26 & 178 & 24 & 0.260 &  9.000052 & 0.5881925 & 0.3750022 & 0.024508023 &  9.270131 & 0.7717087 & 1.0300086 & 0.15306045\\\\\n",
       "\t27 & 179 & 24 & 0.265 &  8.476854 & 0.5261112 & 0.3532023 & 0.021921302 &  8.801551 & 0.6854891 & 1.0383040 & 0.14530773\\\\\n",
       "\t28 & 180 & 24 & 0.270 &  7.343437 & 0.3785524 & 0.3059765 & 0.015773018 &  7.819577 & 0.4409857 & 1.0648388 & 0.11494387\\\\\n",
       "\t29 & 181 & 24 & 0.275 &  6.547389 & 0.2934239 & 0.2728079 & 0.012225996 &  6.377185 & 0.3537858 & 0.9740043 & 0.09768504\\\\\n",
       "\t30 & 182 & 24 & 0.280 &  6.153471 & 0.2437017 & 0.2563946 & 0.010154238 &  5.919467 & 0.4515741 & 0.9619720 & 0.11148315\\\\\n",
       "\t31 & 183 & 24 & 0.285 &  5.473172 & 0.1822939 & 0.2280488 & 0.007595580 &  5.598026 & 0.3164837 & 1.0228120 & 0.09189115\\\\\n",
       "\t32 & 184 & 24 & 0.290 &  5.145880 & 0.1537751 & 0.2144117 & 0.006407297 &  5.018341 & 0.2760560 & 0.9752154 & 0.08278854\\\\\n",
       "\t33 & 185 & 24 & 0.295 &  4.869496 & 0.1301824 & 0.2028956 & 0.005424265 &  5.022444 & 0.2658894 & 1.0314094 & 0.08217705\\\\\n",
       "\t34 & 186 & 24 & 0.300 &  4.506933 & 0.1199698 & 0.1877889 & 0.004998740 &  4.463922 & 0.2462174 & 0.9904568 & 0.08099572\\\\\n",
       "\\end{tabular}\n"
      ],
      "text/markdown": [
       "\n",
       "A data.frame: 13 × 11\n",
       "\n",
       "| <!--/--> | index &lt;int&gt; | L &lt;int&gt; | temp &lt;dbl&gt; | corr12 &lt;dbl&gt; | corr12_err &lt;dbl&gt; | corr_beta_ratio &lt;dbl&gt; | corr_beta_ratio_err &lt;dbl&gt; | corr12_15 &lt;dbl&gt; | corr12_15_err &lt;dbl&gt; | corr_step_ratio &lt;dbl&gt; | corr_step_ratio_err &lt;dbl&gt; |\n",
       "|---|---|---|---|---|---|---|---|---|---|---|---|\n",
       "| 22 | 174 | 24 | 0.240 | 17.607831 | 4.1306507 | 0.7336596 | 0.172110446 | 13.876143 | 2.4688152 | 0.7880666 | 0.32508508 |\n",
       "| 23 | 175 | 24 | 0.245 | 14.139979 | 1.8418745 | 0.5891658 | 0.076744770 | 11.953834 | 1.4715124 | 0.8453927 | 0.21418842 |\n",
       "| 24 | 176 | 24 | 0.250 | 11.056278 | 1.0220157 | 0.4606782 | 0.042583986 | 10.701097 | 1.0653216 | 0.9678752 | 0.18582250 |\n",
       "| 25 | 177 | 24 | 0.255 | 10.381358 | 0.9279298 | 0.4325566 | 0.038663740 |  9.311278 | 0.8462247 | 0.8969229 | 0.16168463 |\n",
       "| 26 | 178 | 24 | 0.260 |  9.000052 | 0.5881925 | 0.3750022 | 0.024508023 |  9.270131 | 0.7717087 | 1.0300086 | 0.15306045 |\n",
       "| 27 | 179 | 24 | 0.265 |  8.476854 | 0.5261112 | 0.3532023 | 0.021921302 |  8.801551 | 0.6854891 | 1.0383040 | 0.14530773 |\n",
       "| 28 | 180 | 24 | 0.270 |  7.343437 | 0.3785524 | 0.3059765 | 0.015773018 |  7.819577 | 0.4409857 | 1.0648388 | 0.11494387 |\n",
       "| 29 | 181 | 24 | 0.275 |  6.547389 | 0.2934239 | 0.2728079 | 0.012225996 |  6.377185 | 0.3537858 | 0.9740043 | 0.09768504 |\n",
       "| 30 | 182 | 24 | 0.280 |  6.153471 | 0.2437017 | 0.2563946 | 0.010154238 |  5.919467 | 0.4515741 | 0.9619720 | 0.11148315 |\n",
       "| 31 | 183 | 24 | 0.285 |  5.473172 | 0.1822939 | 0.2280488 | 0.007595580 |  5.598026 | 0.3164837 | 1.0228120 | 0.09189115 |\n",
       "| 32 | 184 | 24 | 0.290 |  5.145880 | 0.1537751 | 0.2144117 | 0.006407297 |  5.018341 | 0.2760560 | 0.9752154 | 0.08278854 |\n",
       "| 33 | 185 | 24 | 0.295 |  4.869496 | 0.1301824 | 0.2028956 | 0.005424265 |  5.022444 | 0.2658894 | 1.0314094 | 0.08217705 |\n",
       "| 34 | 186 | 24 | 0.300 |  4.506933 | 0.1199698 | 0.1877889 | 0.004998740 |  4.463922 | 0.2462174 | 0.9904568 | 0.08099572 |\n",
       "\n"
      ],
      "text/plain": [
       "   index L  temp  corr12    corr12_err corr_beta_ratio corr_beta_ratio_err\n",
       "22 174   24 0.240 17.607831 4.1306507  0.7336596       0.172110446        \n",
       "23 175   24 0.245 14.139979 1.8418745  0.5891658       0.076744770        \n",
       "24 176   24 0.250 11.056278 1.0220157  0.4606782       0.042583986        \n",
       "25 177   24 0.255 10.381358 0.9279298  0.4325566       0.038663740        \n",
       "26 178   24 0.260  9.000052 0.5881925  0.3750022       0.024508023        \n",
       "27 179   24 0.265  8.476854 0.5261112  0.3532023       0.021921302        \n",
       "28 180   24 0.270  7.343437 0.3785524  0.3059765       0.015773018        \n",
       "29 181   24 0.275  6.547389 0.2934239  0.2728079       0.012225996        \n",
       "30 182   24 0.280  6.153471 0.2437017  0.2563946       0.010154238        \n",
       "31 183   24 0.285  5.473172 0.1822939  0.2280488       0.007595580        \n",
       "32 184   24 0.290  5.145880 0.1537751  0.2144117       0.006407297        \n",
       "33 185   24 0.295  4.869496 0.1301824  0.2028956       0.005424265        \n",
       "34 186   24 0.300  4.506933 0.1199698  0.1877889       0.004998740        \n",
       "   corr12_15 corr12_15_err corr_step_ratio corr_step_ratio_err\n",
       "22 13.876143 2.4688152     0.7880666       0.32508508         \n",
       "23 11.953834 1.4715124     0.8453927       0.21418842         \n",
       "24 10.701097 1.0653216     0.9678752       0.18582250         \n",
       "25  9.311278 0.8462247     0.8969229       0.16168463         \n",
       "26  9.270131 0.7717087     1.0300086       0.15306045         \n",
       "27  8.801551 0.6854891     1.0383040       0.14530773         \n",
       "28  7.819577 0.4409857     1.0648388       0.11494387         \n",
       "29  6.377185 0.3537858     0.9740043       0.09768504         \n",
       "30  5.919467 0.4515741     0.9619720       0.11148315         \n",
       "31  5.598026 0.3164837     1.0228120       0.09189115         \n",
       "32  5.018341 0.2760560     0.9752154       0.08278854         \n",
       "33  5.022444 0.2658894     1.0314094       0.08217705         \n",
       "34  4.463922 0.2462174     0.9904568       0.08099572         "
      ]
     },
     "metadata": {},
     "output_type": "display_data"
    },
    {
     "data": {
      "text/html": [
       "<table class=\"dataframe\">\n",
       "<caption>A data.frame: 17 × 11</caption>\n",
       "<thead>\n",
       "\t<tr><th></th><th scope=col>index</th><th scope=col>L</th><th scope=col>temp</th><th scope=col>corr12</th><th scope=col>corr12_err</th><th scope=col>corr_beta_ratio</th><th scope=col>corr_beta_ratio_err</th><th scope=col>corr12_15</th><th scope=col>corr12_15_err</th><th scope=col>corr_step_ratio</th><th scope=col>corr_step_ratio_err</th></tr>\n",
       "\t<tr><th></th><th scope=col>&lt;int&gt;</th><th scope=col>&lt;int&gt;</th><th scope=col>&lt;dbl&gt;</th><th scope=col>&lt;dbl&gt;</th><th scope=col>&lt;dbl&gt;</th><th scope=col>&lt;dbl&gt;</th><th scope=col>&lt;dbl&gt;</th><th scope=col>&lt;dbl&gt;</th><th scope=col>&lt;dbl&gt;</th><th scope=col>&lt;dbl&gt;</th><th scope=col>&lt;dbl&gt;</th></tr>\n",
       "</thead>\n",
       "<tbody>\n",
       "\t<tr><th scope=row>35</th><td>340</td><td>36</td><td>0.220</td><td>23.240944</td><td>9.0753511</td><td>0.6455818</td><td>0.252093087</td><td>25.413975</td><td>5.9466436</td><td>1.0935002</td><td>0.6828699</td></tr>\n",
       "\t<tr><th scope=row>36</th><td>341</td><td>36</td><td>0.225</td><td>21.211306</td><td>7.1037137</td><td>0.5892029</td><td>0.197325379</td><td>18.101672</td><td>2.7251114</td><td>0.8533974</td><td>0.4142792</td></tr>\n",
       "\t<tr><th scope=row>37</th><td>342</td><td>36</td><td>0.230</td><td>14.146517</td><td>2.6681987</td><td>0.3929588</td><td>0.074116632</td><td>17.276167</td><td>2.2751720</td><td>1.2212311</td><td>0.3911676</td></tr>\n",
       "\t<tr><th scope=row>38</th><td>343</td><td>36</td><td>0.235</td><td>12.852175</td><td>1.8596700</td><td>0.3570049</td><td>0.051657501</td><td>13.339291</td><td>1.1127027</td><td>1.0379014</td><td>0.2367581</td></tr>\n",
       "\t<tr><th scope=row>39</th><td>344</td><td>36</td><td>0.240</td><td>13.876143</td><td>2.4688152</td><td>0.3854484</td><td>0.068578200</td><td>12.894580</td><td>1.0735116</td><td>0.9292625</td><td>0.2426963</td></tr>\n",
       "\t<tr><th scope=row>40</th><td>345</td><td>36</td><td>0.245</td><td>11.953834</td><td>1.4715124</td><td>0.3320510</td><td>0.040875345</td><td>11.045905</td><td>0.6364309</td><td>0.9240470</td><td>0.1669906</td></tr>\n",
       "\t<tr><th scope=row>41</th><td>346</td><td>36</td><td>0.250</td><td>10.701097</td><td>1.0653216</td><td>0.2972527</td><td>0.029592268</td><td>10.675451</td><td>0.7768058</td><td>0.9976034</td><td>0.1719052</td></tr>\n",
       "\t<tr><th scope=row>42</th><td>347</td><td>36</td><td>0.255</td><td> 9.311278</td><td>0.8462247</td><td>0.2586466</td><td>0.023506241</td><td> 9.053257</td><td>0.5267652</td><td>0.9722895</td><td>0.1449361</td></tr>\n",
       "\t<tr><th scope=row>43</th><td>348</td><td>36</td><td>0.260</td><td> 9.270131</td><td>0.7717087</td><td>0.2575036</td><td>0.021436352</td><td> 8.665239</td><td>0.6708856</td><td>0.9347482</td><td>0.1501855</td></tr>\n",
       "\t<tr><th scope=row>44</th><td>349</td><td>36</td><td>0.265</td><td> 8.801551</td><td>0.6854891</td><td>0.2444875</td><td>0.019041363</td><td> 8.326891</td><td>0.5185291</td><td>0.9460709</td><td>0.1325960</td></tr>\n",
       "\t<tr><th scope=row>45</th><td>350</td><td>36</td><td>0.270</td><td> 7.819577</td><td>0.4409857</td><td>0.2172105</td><td>0.012249604</td><td> 7.591790</td><td>0.4252109</td><td>0.9708697</td><td>0.1091300</td></tr>\n",
       "\t<tr><th scope=row>46</th><td>351</td><td>36</td><td>0.275</td><td> 6.377185</td><td>0.3537858</td><td>0.1771440</td><td>0.009827384</td><td> 6.059647</td><td>0.4023003</td><td>0.9502072</td><td>0.1157988</td></tr>\n",
       "\t<tr><th scope=row>47</th><td>352</td><td>36</td><td>0.280</td><td> 5.919467</td><td>0.4515741</td><td>0.1644296</td><td>0.012543724</td><td> 5.891295</td><td>0.3176107</td><td>0.9952409</td><td>0.1295785</td></tr>\n",
       "\t<tr><th scope=row>48</th><td>353</td><td>36</td><td>0.285</td><td> 5.598026</td><td>0.3164837</td><td>0.1555007</td><td>0.008791213</td><td> 5.600977</td><td>0.2687500</td><td>1.0005272</td><td>0.1045727</td></tr>\n",
       "\t<tr><th scope=row>49</th><td>354</td><td>36</td><td>0.290</td><td> 5.018341</td><td>0.2760560</td><td>0.1393984</td><td>0.007668223</td><td> 5.425995</td><td>0.3698514</td><td>1.0812328</td><td>0.1331779</td></tr>\n",
       "\t<tr><th scope=row>50</th><td>355</td><td>36</td><td>0.295</td><td> 5.022444</td><td>0.2658894</td><td>0.1395123</td><td>0.007385818</td><td> 4.649199</td><td>0.3013640</td><td>0.9256847</td><td>0.1090095</td></tr>\n",
       "\t<tr><th scope=row>51</th><td>356</td><td>36</td><td>0.300</td><td> 4.463922</td><td>0.2462174</td><td>0.1239978</td><td>0.006839372</td><td> 5.039565</td><td>0.3689898</td><td>1.1289545</td><td>0.1449304</td></tr>\n",
       "</tbody>\n",
       "</table>\n"
      ],
      "text/latex": [
       "A data.frame: 17 × 11\n",
       "\\begin{tabular}{r|lllllllllll}\n",
       "  & index & L & temp & corr12 & corr12\\_err & corr\\_beta\\_ratio & corr\\_beta\\_ratio\\_err & corr12\\_15 & corr12\\_15\\_err & corr\\_step\\_ratio & corr\\_step\\_ratio\\_err\\\\\n",
       "  & <int> & <int> & <dbl> & <dbl> & <dbl> & <dbl> & <dbl> & <dbl> & <dbl> & <dbl> & <dbl>\\\\\n",
       "\\hline\n",
       "\t35 & 340 & 36 & 0.220 & 23.240944 & 9.0753511 & 0.6455818 & 0.252093087 & 25.413975 & 5.9466436 & 1.0935002 & 0.6828699\\\\\n",
       "\t36 & 341 & 36 & 0.225 & 21.211306 & 7.1037137 & 0.5892029 & 0.197325379 & 18.101672 & 2.7251114 & 0.8533974 & 0.4142792\\\\\n",
       "\t37 & 342 & 36 & 0.230 & 14.146517 & 2.6681987 & 0.3929588 & 0.074116632 & 17.276167 & 2.2751720 & 1.2212311 & 0.3911676\\\\\n",
       "\t38 & 343 & 36 & 0.235 & 12.852175 & 1.8596700 & 0.3570049 & 0.051657501 & 13.339291 & 1.1127027 & 1.0379014 & 0.2367581\\\\\n",
       "\t39 & 344 & 36 & 0.240 & 13.876143 & 2.4688152 & 0.3854484 & 0.068578200 & 12.894580 & 1.0735116 & 0.9292625 & 0.2426963\\\\\n",
       "\t40 & 345 & 36 & 0.245 & 11.953834 & 1.4715124 & 0.3320510 & 0.040875345 & 11.045905 & 0.6364309 & 0.9240470 & 0.1669906\\\\\n",
       "\t41 & 346 & 36 & 0.250 & 10.701097 & 1.0653216 & 0.2972527 & 0.029592268 & 10.675451 & 0.7768058 & 0.9976034 & 0.1719052\\\\\n",
       "\t42 & 347 & 36 & 0.255 &  9.311278 & 0.8462247 & 0.2586466 & 0.023506241 &  9.053257 & 0.5267652 & 0.9722895 & 0.1449361\\\\\n",
       "\t43 & 348 & 36 & 0.260 &  9.270131 & 0.7717087 & 0.2575036 & 0.021436352 &  8.665239 & 0.6708856 & 0.9347482 & 0.1501855\\\\\n",
       "\t44 & 349 & 36 & 0.265 &  8.801551 & 0.6854891 & 0.2444875 & 0.019041363 &  8.326891 & 0.5185291 & 0.9460709 & 0.1325960\\\\\n",
       "\t45 & 350 & 36 & 0.270 &  7.819577 & 0.4409857 & 0.2172105 & 0.012249604 &  7.591790 & 0.4252109 & 0.9708697 & 0.1091300\\\\\n",
       "\t46 & 351 & 36 & 0.275 &  6.377185 & 0.3537858 & 0.1771440 & 0.009827384 &  6.059647 & 0.4023003 & 0.9502072 & 0.1157988\\\\\n",
       "\t47 & 352 & 36 & 0.280 &  5.919467 & 0.4515741 & 0.1644296 & 0.012543724 &  5.891295 & 0.3176107 & 0.9952409 & 0.1295785\\\\\n",
       "\t48 & 353 & 36 & 0.285 &  5.598026 & 0.3164837 & 0.1555007 & 0.008791213 &  5.600977 & 0.2687500 & 1.0005272 & 0.1045727\\\\\n",
       "\t49 & 354 & 36 & 0.290 &  5.018341 & 0.2760560 & 0.1393984 & 0.007668223 &  5.425995 & 0.3698514 & 1.0812328 & 0.1331779\\\\\n",
       "\t50 & 355 & 36 & 0.295 &  5.022444 & 0.2658894 & 0.1395123 & 0.007385818 &  4.649199 & 0.3013640 & 0.9256847 & 0.1090095\\\\\n",
       "\t51 & 356 & 36 & 0.300 &  4.463922 & 0.2462174 & 0.1239978 & 0.006839372 &  5.039565 & 0.3689898 & 1.1289545 & 0.1449304\\\\\n",
       "\\end{tabular}\n"
      ],
      "text/markdown": [
       "\n",
       "A data.frame: 17 × 11\n",
       "\n",
       "| <!--/--> | index &lt;int&gt; | L &lt;int&gt; | temp &lt;dbl&gt; | corr12 &lt;dbl&gt; | corr12_err &lt;dbl&gt; | corr_beta_ratio &lt;dbl&gt; | corr_beta_ratio_err &lt;dbl&gt; | corr12_15 &lt;dbl&gt; | corr12_15_err &lt;dbl&gt; | corr_step_ratio &lt;dbl&gt; | corr_step_ratio_err &lt;dbl&gt; |\n",
       "|---|---|---|---|---|---|---|---|---|---|---|---|\n",
       "| 35 | 340 | 36 | 0.220 | 23.240944 | 9.0753511 | 0.6455818 | 0.252093087 | 25.413975 | 5.9466436 | 1.0935002 | 0.6828699 |\n",
       "| 36 | 341 | 36 | 0.225 | 21.211306 | 7.1037137 | 0.5892029 | 0.197325379 | 18.101672 | 2.7251114 | 0.8533974 | 0.4142792 |\n",
       "| 37 | 342 | 36 | 0.230 | 14.146517 | 2.6681987 | 0.3929588 | 0.074116632 | 17.276167 | 2.2751720 | 1.2212311 | 0.3911676 |\n",
       "| 38 | 343 | 36 | 0.235 | 12.852175 | 1.8596700 | 0.3570049 | 0.051657501 | 13.339291 | 1.1127027 | 1.0379014 | 0.2367581 |\n",
       "| 39 | 344 | 36 | 0.240 | 13.876143 | 2.4688152 | 0.3854484 | 0.068578200 | 12.894580 | 1.0735116 | 0.9292625 | 0.2426963 |\n",
       "| 40 | 345 | 36 | 0.245 | 11.953834 | 1.4715124 | 0.3320510 | 0.040875345 | 11.045905 | 0.6364309 | 0.9240470 | 0.1669906 |\n",
       "| 41 | 346 | 36 | 0.250 | 10.701097 | 1.0653216 | 0.2972527 | 0.029592268 | 10.675451 | 0.7768058 | 0.9976034 | 0.1719052 |\n",
       "| 42 | 347 | 36 | 0.255 |  9.311278 | 0.8462247 | 0.2586466 | 0.023506241 |  9.053257 | 0.5267652 | 0.9722895 | 0.1449361 |\n",
       "| 43 | 348 | 36 | 0.260 |  9.270131 | 0.7717087 | 0.2575036 | 0.021436352 |  8.665239 | 0.6708856 | 0.9347482 | 0.1501855 |\n",
       "| 44 | 349 | 36 | 0.265 |  8.801551 | 0.6854891 | 0.2444875 | 0.019041363 |  8.326891 | 0.5185291 | 0.9460709 | 0.1325960 |\n",
       "| 45 | 350 | 36 | 0.270 |  7.819577 | 0.4409857 | 0.2172105 | 0.012249604 |  7.591790 | 0.4252109 | 0.9708697 | 0.1091300 |\n",
       "| 46 | 351 | 36 | 0.275 |  6.377185 | 0.3537858 | 0.1771440 | 0.009827384 |  6.059647 | 0.4023003 | 0.9502072 | 0.1157988 |\n",
       "| 47 | 352 | 36 | 0.280 |  5.919467 | 0.4515741 | 0.1644296 | 0.012543724 |  5.891295 | 0.3176107 | 0.9952409 | 0.1295785 |\n",
       "| 48 | 353 | 36 | 0.285 |  5.598026 | 0.3164837 | 0.1555007 | 0.008791213 |  5.600977 | 0.2687500 | 1.0005272 | 0.1045727 |\n",
       "| 49 | 354 | 36 | 0.290 |  5.018341 | 0.2760560 | 0.1393984 | 0.007668223 |  5.425995 | 0.3698514 | 1.0812328 | 0.1331779 |\n",
       "| 50 | 355 | 36 | 0.295 |  5.022444 | 0.2658894 | 0.1395123 | 0.007385818 |  4.649199 | 0.3013640 | 0.9256847 | 0.1090095 |\n",
       "| 51 | 356 | 36 | 0.300 |  4.463922 | 0.2462174 | 0.1239978 | 0.006839372 |  5.039565 | 0.3689898 | 1.1289545 | 0.1449304 |\n",
       "\n"
      ],
      "text/plain": [
       "   index L  temp  corr12    corr12_err corr_beta_ratio corr_beta_ratio_err\n",
       "35 340   36 0.220 23.240944 9.0753511  0.6455818       0.252093087        \n",
       "36 341   36 0.225 21.211306 7.1037137  0.5892029       0.197325379        \n",
       "37 342   36 0.230 14.146517 2.6681987  0.3929588       0.074116632        \n",
       "38 343   36 0.235 12.852175 1.8596700  0.3570049       0.051657501        \n",
       "39 344   36 0.240 13.876143 2.4688152  0.3854484       0.068578200        \n",
       "40 345   36 0.245 11.953834 1.4715124  0.3320510       0.040875345        \n",
       "41 346   36 0.250 10.701097 1.0653216  0.2972527       0.029592268        \n",
       "42 347   36 0.255  9.311278 0.8462247  0.2586466       0.023506241        \n",
       "43 348   36 0.260  9.270131 0.7717087  0.2575036       0.021436352        \n",
       "44 349   36 0.265  8.801551 0.6854891  0.2444875       0.019041363        \n",
       "45 350   36 0.270  7.819577 0.4409857  0.2172105       0.012249604        \n",
       "46 351   36 0.275  6.377185 0.3537858  0.1771440       0.009827384        \n",
       "47 352   36 0.280  5.919467 0.4515741  0.1644296       0.012543724        \n",
       "48 353   36 0.285  5.598026 0.3164837  0.1555007       0.008791213        \n",
       "49 354   36 0.290  5.018341 0.2760560  0.1393984       0.007668223        \n",
       "50 355   36 0.295  5.022444 0.2658894  0.1395123       0.007385818        \n",
       "51 356   36 0.300  4.463922 0.2462174  0.1239978       0.006839372        \n",
       "   corr12_15 corr12_15_err corr_step_ratio corr_step_ratio_err\n",
       "35 25.413975 5.9466436     1.0935002       0.6828699          \n",
       "36 18.101672 2.7251114     0.8533974       0.4142792          \n",
       "37 17.276167 2.2751720     1.2212311       0.3911676          \n",
       "38 13.339291 1.1127027     1.0379014       0.2367581          \n",
       "39 12.894580 1.0735116     0.9292625       0.2426963          \n",
       "40 11.045905 0.6364309     0.9240470       0.1669906          \n",
       "41 10.675451 0.7768058     0.9976034       0.1719052          \n",
       "42  9.053257 0.5267652     0.9722895       0.1449361          \n",
       "43  8.665239 0.6708856     0.9347482       0.1501855          \n",
       "44  8.326891 0.5185291     0.9460709       0.1325960          \n",
       "45  7.591790 0.4252109     0.9708697       0.1091300          \n",
       "46  6.059647 0.4023003     0.9502072       0.1157988          \n",
       "47  5.891295 0.3176107     0.9952409       0.1295785          \n",
       "48  5.600977 0.2687500     1.0005272       0.1045727          \n",
       "49  5.425995 0.3698514     1.0812328       0.1331779          \n",
       "50  4.649199 0.3013640     0.9256847       0.1090095          \n",
       "51  5.039565 0.3689898     1.1289545       0.1449304          "
      ]
     },
     "metadata": {},
     "output_type": "display_data"
    },
    {
     "data": {
      "image/png": "[encoded data removed]",
      "text/plain": [
       "Plot with title \"1.5-step-scaling function\""
      ]
     },
     "metadata": {
      "image/png": {
       "height": 420,
       "width": 420
      }
     },
     "output_type": "display_data"
    }
   ],
   "source": [
    "# Loading data\n",
    "d <- comp[, c(\"index\", \"L\", \"temp\", \"corr12\", \"corr12_err\")]\n",
    "\n",
    "# Building the x and y axis data\n",
    "d$corr_beta_ratio <- d$corr12 / d$L\n",
    "d$corr_beta_ratio_err <- d$corr12_err / d$L\n",
    "d$corr12_15 <- 0\n",
    "d$corr12_15_err <- 0\n",
    "for (i in 1:nrow(d)) {\n",
    "\tmy_temp <- d$temp[i]\n",
    "\tnext_size <- d$L[i] * 3 / 2\n",
    "\td$corr12_15[i] <- ifelse(next_size %in% d$L,\n",
    "\t\tifelse(my_temp %in% d$temp[d$L == next_size],\n",
    "\t\td$corr12[d$temp == my_temp & d$L == next_size][1], 0), 0)\n",
    "\td$corr12_15_err[i] <- ifelse(next_size %in% d$L,\n",
    "\t\tifelse(my_temp %in% d$temp[d$L == next_size],\n",
    "\t\td$corr12_err[d$temp == my_temp & d$L == next_size][1], 0), 0)\n",
    "}\n",
    "d <- d[d$corr12_15 != 0, ]\n",
    "d$corr_step_ratio <- d$corr12_15 / d$corr12\n",
    "d$corr_step_ratio_err <- d$corr12_err * abs(d$corr12_15 / (d$corr12 * d$corr12) )\n",
    "d$corr_step_ratio_err <- d$corr_step_ratio_err + d$corr12_15_err / abs(d$corr12)\n",
    "\n",
    "d <- d[d$corr12 <= d$L, ]\n",
    "\n",
    "d16 <- d[d$L == 16, ]\n",
    "d24 <- d[d$L == 24, ]\n",
    "d36 <- d[d$L == 36, ]\n",
    "\n",
    "#d16 <- d16[d16$temp >= 0.26 & d16$temp <= 0.40, ]\n",
    "#d24 <- d24[d24$temp >= 0.24 & d24$temp <= 0.37, ]\n",
    "#d36 <- d36[d36$temp >= 0.23 & d36$temp <= 0.31, ]\n",
    "\n",
    "d16\n",
    "d24\n",
    "d36\n",
    "\n",
    "dat <- rbind(d16, d24, d36)\n",
    "\n",
    "plot(\n",
    "\tcorr_step_ratio ~ corr_beta_ratio,\n",
    "\tdata = d16,\n",
    "\tcol = \"blue3\",\n",
    "\ttype = \"l\",\n",
    "\tpch = 19,\n",
    "\txlim = c(min(dat$corr_beta_ratio), max(dat$corr_beta_ratio)),\n",
    "\t#ylim = c(min(dat$corr_step_ratio), max(dat$corr_step_ratio))\n",
    "\tylim = c(0, 2)\n",
    ")\n",
    "if(TRUE) arrows(d16$corr_beta_ratio,\n",
    "\td16$corr_step_ratio + d16$corr_step_ratio_err,\n",
    "\td16$corr_beta_ratio,\n",
    "\td16$corr_step_ratio - d16$corr_step_ratio_err,\n",
    "\tcode = 3, angle = 90, col = \"blue3\"\n",
    ")\n",
    "if(FALSE) arrows(d16$corr_beta_ratio + d16$corr_beta_ratio_err,\n",
    "\td16$corr_step_ratio,\n",
    "\td16$corr_beta_ratio - d16$corr_beta_ratio_err,\n",
    "\td16$corr_step_ratio,\n",
    "\tcode = 3, angle = 90, col = \"blue3\"\n",
    ")\n",
    "if(TRUE) {\n",
    "\tpoints(corr_step_ratio ~ corr_beta_ratio, data = d24, col = \"green4\", pch = 19)\n",
    "\tlines(corr_step_ratio ~ corr_beta_ratio, data = d24, col = \"green4\", pch = 19)\n",
    "\tif(TRUE) arrows(d24$corr_beta_ratio,\n",
    "\td24$corr_step_ratio + d24$corr_step_ratio_err,\n",
    "\td24$corr_beta_ratio,\n",
    "\td24$corr_step_ratio - d24$corr_step_ratio_err,\n",
    "\tcode = 3, angle = 90, col = \"green4\"\n",
    ")\n",
    "}\n",
    "if(FALSE) {\n",
    "\tpoints(corr_step_ratio ~ corr_beta_ratio, data = d36, col = \"red3\", pch = 19)\n",
    "\tlines(corr_step_ratio ~ corr_beta_ratio, data = d36, col = \"red3\", pch = 19)\n",
    "\tif(FALSE) arrows(d36$corr_beta_ratio,\n",
    "\td36$corr_step_ratio + d36$corr_step_ratio_err,\n",
    "\td36$corr_beta_ratio,\n",
    "\td36$corr_step_ratio - d36$corr_step_ratio_err,\n",
    "\tcode = 3, angle = 90, col = \"red3\"\n",
    ")\n",
    "}\n",
    "title(\"1.5-step-scaling function\")\n",
    "legend(\"topright\", y = c(\"L = 16\", \"L = 24\", \"L = 36\"), fill = c(\"blue3\", \"green4\", \"red3\"))\n",
    "points(d$corr_beta_ratio[d$temp == 0.26], d$corr_step_ratio[d$temp == 0.26])"
   ]
  },
  {
   "attachments": {},
   "cell_type": "markdown",
   "metadata": {},
   "source": [
    "## Compounded correlation functions"
   ]
  },
  {
   "cell_type": "code",
   "execution_count": null,
   "metadata": {
    "vscode": {
     "languageId": "r"
    }
   },
   "outputs": [
    {
     "name": "stderr",
     "output_type": "stream",
     "text": [
      "Warning message in file(file, \"rt\"):\n",
      "\"kann Datei '..\\data\\corr_fn_fits.csv' nicht öffnen: No such file or directory\"\n"
     ]
    },
    {
     "ename": "ERROR",
     "evalue": "Error in file(file, \"rt\"): kann Verbindung nicht öffnen\n",
     "output_type": "error",
     "traceback": [
      "Error in file(file, \"rt\"): kann Verbindung nicht öffnen\nTraceback:\n",
      "1. read.csv(\"..\\\\data\\\\corr_fn_fits.csv\", header = TRUE, sep = \",\")",
      "2. read.table(file = file, header = header, sep = sep, quote = quote, \n .     dec = dec, fill = fill, comment.char = comment.char, ...)",
      "3. file(file, \"rt\")"
     ]
    }
   ],
   "source": [
    "results <- read.csv(\"..\\\\data\\\\results.csv\", header = TRUE, sep = \",\")\n",
    "fit <- read.csv(\"..\\\\data\\\\corr_fn_fits.csv\", header = TRUE, sep = \",\")\n",
    "\n",
    "#indices <- c(8)\n",
    "#for (index in indices) {\n",
    "index <- 8\n",
    "\n",
    "\tcorrelation_res <- read.csv(paste(\"..\\\\data\\\\correlation_data\\\\correlation_\", index, \"_res.csv\", sep = \"\"), header = FALSE)\n",
    "\tcorrelation_err <- read.csv(paste(\"..\\\\data\\\\correlation_data\\\\correlation_\", index, \"_err.csv\", sep = \"\"), header = FALSE)\n",
    "\n",
    "\tfor (bin_size in c(1, 2, 4, 8, 16, 32)) {\n",
    "\n",
    "\td <- data.frame(unname(unlist(correlation_res[correlation_res$V1 == bin_size, -1])))\n",
    "\tcolnames(d) <- c(\"corr_fn\")\n",
    "\td$corr_fn_err <- unname(unlist(correlation_err[correlation_err$V1 == bin_size, -1]))\n",
    "\td$index <- 1:nrow(d) - 1\n",
    "\td$corr_fn <- d$corr_fn[d$index == (nrow(d) / 2)] - d$corr_fn\n",
    "\n",
    "\td$sym_corr_fn <- d$corr_fn\n",
    "\tfor (i in 1:(nrow(d) - 1)) {\n",
    "\t\td$sym_corr_fn[d$index == i] <- (d$corr_fn[d$index == i] + d$corr_fn[d$index == (nrow(d) - i)]) / 2\n",
    "\t}\n",
    "\td$corr_fn <- d$sym_corr_fn\n",
    "\n",
    "\tparams <- fit[fit$index == index, ]\n",
    "\td$fit <- params$a * cosh(params$m * (d$index - params$n / 2)) + params$b\n",
    "\tplot(d$index, d$corr_fn)\n",
    "\ttitle(paste(\"index = \", index, \", bin = \", bin_size,\n",
    "\t\t\", temp = \", round(results$temp[results$index == index],  digits = 3),\n",
    "\t\t\", max_t = \", results$t[results$index == index],\n",
    "\t\t#\", corr12 = \", results$corr12[results$index == index],\n",
    "\t\t#\", corr12_err = \", results$corr12_err[results$index == index],\n",
    "\t\tsep = \"\"))\n",
    "\n",
    "\td$upper <- d$corr_fn + d$corr_fn_err\n",
    "\td$lower <- d$corr_fn - d$corr_fn_err\n",
    "\ty_shade <- c()\n",
    "\tfor (entry in d$upper) {\n",
    "\t\ty_shade <- append(y_shade, entry)\n",
    "\t}\n",
    "\tfor (entry in rev(d$lower)) {\n",
    "\t\ty_shade <- append(y_shade, entry)\n",
    "\t}\n",
    "\tx_shade <- c(d$index, rev(d$index))\n",
    "\tpolygon(x_shade, y_shade, col = \"lightgray\", lty = 0)\n",
    "\tpoints(d$index, d$corr_fn)\n",
    "\tlines(d$index, d$fit)\n",
    "\t}\n",
    "#}"
   ]
  }
 ],
 "metadata": {
  "kernelspec": {
   "display_name": "R",
   "language": "R",
   "name": "ir"
  },
  "language_info": {
   "codemirror_mode": "r",
   "file_extension": ".r",
   "mimetype": "text/x-r-source",
   "name": "R",
   "pygments_lexer": "r",
   "version": "4.2.2"
  },
  "orig_nbformat": 4
 },
 "nbformat": 4,
 "nbformat_minor": 2
}
