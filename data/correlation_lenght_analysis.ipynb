{
 "cells": [
  {
   "attachments": {},
   "cell_type": "markdown",
   "metadata": {},
   "source": [
    "# Data examination\n",
    "\n",
    "In a first step we present a concise overview table over the correlation lenght data."
   ]
  },
  {
   "cell_type": "code",
   "execution_count": 13,
   "metadata": {
    "vscode": {
     "languageId": "r"
    }
   },
   "outputs": [
    {
     "data": {
      "text/html": [
       "<table class=\"dataframe\">\n",
       "<caption>A data.frame: 17 × 7</caption>\n",
       "<thead>\n",
       "\t<tr><th></th><th scope=col>index</th><th scope=col>L</th><th scope=col>temp</th><th scope=col>info</th><th scope=col>corr12</th><th scope=col>corr12_err</th><th scope=col>corr12_err_perc</th></tr>\n",
       "\t<tr><th></th><th scope=col>&lt;int&gt;</th><th scope=col>&lt;int&gt;</th><th scope=col>&lt;dbl&gt;</th><th scope=col>&lt;chr&gt;</th><th scope=col>&lt;dbl&gt;</th><th scope=col>&lt;dbl&gt;</th><th scope=col>&lt;dbl&gt;</th></tr>\n",
       "</thead>\n",
       "<tbody>\n",
       "\t<tr><th scope=row>1</th><td> 0</td><td>16</td><td>0.220</td><td>100 Metropolis Simulations</td><td>252.479213</td><td>690.7325098</td><td>2.73579952</td></tr>\n",
       "\t<tr><th scope=row>2</th><td> 1</td><td>16</td><td>0.225</td><td>100 Metropolis Simulations</td><td> 28.775037</td><td> 19.4856492</td><td>0.67717200</td></tr>\n",
       "\t<tr><th scope=row>3</th><td> 2</td><td>16</td><td>0.230</td><td>100 Metropolis Simulations</td><td> 47.491159</td><td> 50.6323609</td><td>1.06614288</td></tr>\n",
       "\t<tr><th scope=row>4</th><td> 3</td><td>16</td><td>0.235</td><td>100 Metropolis Simulations</td><td> 37.319931</td><td> 32.6559505</td><td>0.87502708</td></tr>\n",
       "\t<tr><th scope=row>5</th><td> 4</td><td>16</td><td>0.240</td><td>100 Metropolis Simulations</td><td> 76.630800</td><td>111.1417600</td><td>1.45035364</td></tr>\n",
       "\t<tr><th scope=row>6</th><td> 5</td><td>16</td><td>0.245</td><td>100 Metropolis Simulations</td><td> 16.734896</td><td>  5.2350126</td><td>0.31282015</td></tr>\n",
       "\t<tr><th scope=row>7</th><td> 6</td><td>16</td><td>0.250</td><td>100 Metropolis Simulations</td><td> 18.565056</td><td>  7.5306056</td><td>0.40563333</td></tr>\n",
       "\t<tr><th scope=row>8</th><td> 7</td><td>16</td><td>0.255</td><td>100 Metropolis Simulations</td><td> 18.006916</td><td>  6.5058520</td><td>0.36129741</td></tr>\n",
       "\t<tr><th scope=row>9</th><td> 8</td><td>16</td><td>0.260</td><td>100 Metropolis Simulations</td><td> 11.007213</td><td>  1.5069826</td><td>0.13690864</td></tr>\n",
       "\t<tr><th scope=row>10</th><td> 9</td><td>16</td><td>0.265</td><td>100 Metropolis Simulations</td><td> 10.251567</td><td>  1.0914852</td><td>0.10647008</td></tr>\n",
       "\t<tr><th scope=row>11</th><td>10</td><td>16</td><td>0.270</td><td>100 Metropolis Simulations</td><td>  8.707797</td><td>  0.7191306</td><td>0.08258467</td></tr>\n",
       "\t<tr><th scope=row>12</th><td>11</td><td>16</td><td>0.275</td><td>200 Metropolis Simulations</td><td>  8.161999</td><td>  0.4445124</td><td>0.05446122</td></tr>\n",
       "\t<tr><th scope=row>13</th><td>12</td><td>16</td><td>0.280</td><td>100 Metropolis Simulations</td><td>  6.723207</td><td>  0.3737473</td><td>0.05559063</td></tr>\n",
       "\t<tr><th scope=row>14</th><td>13</td><td>16</td><td>0.285</td><td>100 Metropolis Simulations</td><td>  6.731698</td><td>  0.3608015</td><td>0.05359739</td></tr>\n",
       "\t<tr><th scope=row>15</th><td>14</td><td>16</td><td>0.290</td><td>100 Metropolis Simulations</td><td>  5.258314</td><td>  0.1868069</td><td>0.03552600</td></tr>\n",
       "\t<tr><th scope=row>16</th><td>15</td><td>16</td><td>0.295</td><td>100 Metropolis Simulations</td><td>  5.013612</td><td>  0.1794169</td><td>0.03578596</td></tr>\n",
       "\t<tr><th scope=row>17</th><td>16</td><td>16</td><td>0.300</td><td>100 Metropolis Simulations</td><td>  4.688077</td><td>  0.1520559</td><td>0.03243461</td></tr>\n",
       "</tbody>\n",
       "</table>\n"
      ],
      "text/latex": [
       "A data.frame: 17 × 7\n",
       "\\begin{tabular}{r|lllllll}\n",
       "  & index & L & temp & info & corr12 & corr12\\_err & corr12\\_err\\_perc\\\\\n",
       "  & <int> & <int> & <dbl> & <chr> & <dbl> & <dbl> & <dbl>\\\\\n",
       "\\hline\n",
       "\t1 &  0 & 16 & 0.220 & 100 Metropolis Simulations & 252.479213 & 690.7325098 & 2.73579952\\\\\n",
       "\t2 &  1 & 16 & 0.225 & 100 Metropolis Simulations &  28.775037 &  19.4856492 & 0.67717200\\\\\n",
       "\t3 &  2 & 16 & 0.230 & 100 Metropolis Simulations &  47.491159 &  50.6323609 & 1.06614288\\\\\n",
       "\t4 &  3 & 16 & 0.235 & 100 Metropolis Simulations &  37.319931 &  32.6559505 & 0.87502708\\\\\n",
       "\t5 &  4 & 16 & 0.240 & 100 Metropolis Simulations &  76.630800 & 111.1417600 & 1.45035364\\\\\n",
       "\t6 &  5 & 16 & 0.245 & 100 Metropolis Simulations &  16.734896 &   5.2350126 & 0.31282015\\\\\n",
       "\t7 &  6 & 16 & 0.250 & 100 Metropolis Simulations &  18.565056 &   7.5306056 & 0.40563333\\\\\n",
       "\t8 &  7 & 16 & 0.255 & 100 Metropolis Simulations &  18.006916 &   6.5058520 & 0.36129741\\\\\n",
       "\t9 &  8 & 16 & 0.260 & 100 Metropolis Simulations &  11.007213 &   1.5069826 & 0.13690864\\\\\n",
       "\t10 &  9 & 16 & 0.265 & 100 Metropolis Simulations &  10.251567 &   1.0914852 & 0.10647008\\\\\n",
       "\t11 & 10 & 16 & 0.270 & 100 Metropolis Simulations &   8.707797 &   0.7191306 & 0.08258467\\\\\n",
       "\t12 & 11 & 16 & 0.275 & 200 Metropolis Simulations &   8.161999 &   0.4445124 & 0.05446122\\\\\n",
       "\t13 & 12 & 16 & 0.280 & 100 Metropolis Simulations &   6.723207 &   0.3737473 & 0.05559063\\\\\n",
       "\t14 & 13 & 16 & 0.285 & 100 Metropolis Simulations &   6.731698 &   0.3608015 & 0.05359739\\\\\n",
       "\t15 & 14 & 16 & 0.290 & 100 Metropolis Simulations &   5.258314 &   0.1868069 & 0.03552600\\\\\n",
       "\t16 & 15 & 16 & 0.295 & 100 Metropolis Simulations &   5.013612 &   0.1794169 & 0.03578596\\\\\n",
       "\t17 & 16 & 16 & 0.300 & 100 Metropolis Simulations &   4.688077 &   0.1520559 & 0.03243461\\\\\n",
       "\\end{tabular}\n"
      ],
      "text/markdown": [
       "\n",
       "A data.frame: 17 × 7\n",
       "\n",
       "| <!--/--> | index &lt;int&gt; | L &lt;int&gt; | temp &lt;dbl&gt; | info &lt;chr&gt; | corr12 &lt;dbl&gt; | corr12_err &lt;dbl&gt; | corr12_err_perc &lt;dbl&gt; |\n",
       "|---|---|---|---|---|---|---|---|\n",
       "| 1 |  0 | 16 | 0.220 | 100 Metropolis Simulations | 252.479213 | 690.7325098 | 2.73579952 |\n",
       "| 2 |  1 | 16 | 0.225 | 100 Metropolis Simulations |  28.775037 |  19.4856492 | 0.67717200 |\n",
       "| 3 |  2 | 16 | 0.230 | 100 Metropolis Simulations |  47.491159 |  50.6323609 | 1.06614288 |\n",
       "| 4 |  3 | 16 | 0.235 | 100 Metropolis Simulations |  37.319931 |  32.6559505 | 0.87502708 |\n",
       "| 5 |  4 | 16 | 0.240 | 100 Metropolis Simulations |  76.630800 | 111.1417600 | 1.45035364 |\n",
       "| 6 |  5 | 16 | 0.245 | 100 Metropolis Simulations |  16.734896 |   5.2350126 | 0.31282015 |\n",
       "| 7 |  6 | 16 | 0.250 | 100 Metropolis Simulations |  18.565056 |   7.5306056 | 0.40563333 |\n",
       "| 8 |  7 | 16 | 0.255 | 100 Metropolis Simulations |  18.006916 |   6.5058520 | 0.36129741 |\n",
       "| 9 |  8 | 16 | 0.260 | 100 Metropolis Simulations |  11.007213 |   1.5069826 | 0.13690864 |\n",
       "| 10 |  9 | 16 | 0.265 | 100 Metropolis Simulations |  10.251567 |   1.0914852 | 0.10647008 |\n",
       "| 11 | 10 | 16 | 0.270 | 100 Metropolis Simulations |   8.707797 |   0.7191306 | 0.08258467 |\n",
       "| 12 | 11 | 16 | 0.275 | 200 Metropolis Simulations |   8.161999 |   0.4445124 | 0.05446122 |\n",
       "| 13 | 12 | 16 | 0.280 | 100 Metropolis Simulations |   6.723207 |   0.3737473 | 0.05559063 |\n",
       "| 14 | 13 | 16 | 0.285 | 100 Metropolis Simulations |   6.731698 |   0.3608015 | 0.05359739 |\n",
       "| 15 | 14 | 16 | 0.290 | 100 Metropolis Simulations |   5.258314 |   0.1868069 | 0.03552600 |\n",
       "| 16 | 15 | 16 | 0.295 | 100 Metropolis Simulations |   5.013612 |   0.1794169 | 0.03578596 |\n",
       "| 17 | 16 | 16 | 0.300 | 100 Metropolis Simulations |   4.688077 |   0.1520559 | 0.03243461 |\n",
       "\n"
      ],
      "text/plain": [
       "   index L  temp  info                       corr12     corr12_err \n",
       "1   0    16 0.220 100 Metropolis Simulations 252.479213 690.7325098\n",
       "2   1    16 0.225 100 Metropolis Simulations  28.775037  19.4856492\n",
       "3   2    16 0.230 100 Metropolis Simulations  47.491159  50.6323609\n",
       "4   3    16 0.235 100 Metropolis Simulations  37.319931  32.6559505\n",
       "5   4    16 0.240 100 Metropolis Simulations  76.630800 111.1417600\n",
       "6   5    16 0.245 100 Metropolis Simulations  16.734896   5.2350126\n",
       "7   6    16 0.250 100 Metropolis Simulations  18.565056   7.5306056\n",
       "8   7    16 0.255 100 Metropolis Simulations  18.006916   6.5058520\n",
       "9   8    16 0.260 100 Metropolis Simulations  11.007213   1.5069826\n",
       "10  9    16 0.265 100 Metropolis Simulations  10.251567   1.0914852\n",
       "11 10    16 0.270 100 Metropolis Simulations   8.707797   0.7191306\n",
       "12 11    16 0.275 200 Metropolis Simulations   8.161999   0.4445124\n",
       "13 12    16 0.280 100 Metropolis Simulations   6.723207   0.3737473\n",
       "14 13    16 0.285 100 Metropolis Simulations   6.731698   0.3608015\n",
       "15 14    16 0.290 100 Metropolis Simulations   5.258314   0.1868069\n",
       "16 15    16 0.295 100 Metropolis Simulations   5.013612   0.1794169\n",
       "17 16    16 0.300 100 Metropolis Simulations   4.688077   0.1520559\n",
       "   corr12_err_perc\n",
       "1  2.73579952     \n",
       "2  0.67717200     \n",
       "3  1.06614288     \n",
       "4  0.87502708     \n",
       "5  1.45035364     \n",
       "6  0.31282015     \n",
       "7  0.40563333     \n",
       "8  0.36129741     \n",
       "9  0.13690864     \n",
       "10 0.10647008     \n",
       "11 0.08258467     \n",
       "12 0.05446122     \n",
       "13 0.05559063     \n",
       "14 0.05359739     \n",
       "15 0.03552600     \n",
       "16 0.03578596     \n",
       "17 0.03243461     "
      ]
     },
     "metadata": {},
     "output_type": "display_data"
    },
    {
     "data": {
      "text/html": [
       "<table class=\"dataframe\">\n",
       "<caption>A data.frame: 17 × 7</caption>\n",
       "<thead>\n",
       "\t<tr><th></th><th scope=col>index</th><th scope=col>L</th><th scope=col>temp</th><th scope=col>info</th><th scope=col>corr12</th><th scope=col>corr12_err</th><th scope=col>corr12_err_perc</th></tr>\n",
       "\t<tr><th></th><th scope=col>&lt;int&gt;</th><th scope=col>&lt;int&gt;</th><th scope=col>&lt;dbl&gt;</th><th scope=col>&lt;chr&gt;</th><th scope=col>&lt;dbl&gt;</th><th scope=col>&lt;dbl&gt;</th><th scope=col>&lt;dbl&gt;</th></tr>\n",
       "</thead>\n",
       "<tbody>\n",
       "\t<tr><th scope=row>18</th><td>170</td><td>24</td><td>0.220</td><td>50 Metropolis Simulations</td><td>46.675205</td><td>40.1207337</td><td>0.85957274</td></tr>\n",
       "\t<tr><th scope=row>19</th><td>171</td><td>24</td><td>0.225</td><td>50 Metropolis Simulations</td><td>24.962235</td><td>11.4335876</td><td>0.45803542</td></tr>\n",
       "\t<tr><th scope=row>20</th><td>172</td><td>24</td><td>0.230</td><td>50 Metropolis Simulations</td><td>31.769485</td><td>18.3265127</td><td>0.57685897</td></tr>\n",
       "\t<tr><th scope=row>21</th><td>173</td><td>24</td><td>0.235</td><td>50 Metropolis Simulations</td><td>35.493380</td><td>24.5347413</td><td>0.69124838</td></tr>\n",
       "\t<tr><th scope=row>22</th><td>174</td><td>24</td><td>0.240</td><td>50 Metropolis Simulations</td><td>17.600450</td><td> 4.1004982</td><td>0.23297690</td></tr>\n",
       "\t<tr><th scope=row>23</th><td>175</td><td>24</td><td>0.245</td><td>50 Metropolis Simulations</td><td>14.152642</td><td> 1.9239522</td><td>0.13594298</td></tr>\n",
       "\t<tr><th scope=row>24</th><td>176</td><td>24</td><td>0.250</td><td>50 Metropolis Simulations</td><td>11.060081</td><td> 1.0168710</td><td>0.09194064</td></tr>\n",
       "\t<tr><th scope=row>25</th><td>177</td><td>24</td><td>0.255</td><td>50 Metropolis Simulations</td><td>10.428055</td><td> 0.9481555</td><td>0.09092351</td></tr>\n",
       "\t<tr><th scope=row>26</th><td>178</td><td>24</td><td>0.260</td><td>50 Metropolis Simulations</td><td> 8.994216</td><td> 0.6023891</td><td>0.06697517</td></tr>\n",
       "\t<tr><th scope=row>27</th><td>179</td><td>24</td><td>0.265</td><td>50 Metropolis Simulations</td><td> 8.449482</td><td> 0.5200510</td><td>0.06154827</td></tr>\n",
       "\t<tr><th scope=row>28</th><td>180</td><td>24</td><td>0.270</td><td>50 Metropolis Simulations</td><td> 7.346288</td><td> 0.3780884</td><td>0.05146659</td></tr>\n",
       "\t<tr><th scope=row>29</th><td>181</td><td>24</td><td>0.275</td><td>50 Metropolis Simulations</td><td> 6.547569</td><td> 0.2861970</td><td>0.04371042</td></tr>\n",
       "\t<tr><th scope=row>30</th><td>182</td><td>24</td><td>0.280</td><td>50 Metropolis Simulations</td><td> 6.144107</td><td> 0.2365337</td><td>0.03849765</td></tr>\n",
       "\t<tr><th scope=row>31</th><td>183</td><td>24</td><td>0.285</td><td>50 Metropolis Simulations</td><td> 5.478601</td><td> 0.1835239</td><td>0.03349832</td></tr>\n",
       "\t<tr><th scope=row>32</th><td>184</td><td>24</td><td>0.290</td><td>50 Metropolis Simulations</td><td> 5.148322</td><td> 0.1562324</td><td>0.03034628</td></tr>\n",
       "\t<tr><th scope=row>33</th><td>185</td><td>24</td><td>0.295</td><td>50 Metropolis Simulations</td><td> 4.870772</td><td> 0.1334227</td><td>0.02739251</td></tr>\n",
       "\t<tr><th scope=row>34</th><td>186</td><td>24</td><td>0.300</td><td>50 Metropolis Simulations</td><td> 4.503539</td><td> 0.1235328</td><td>0.02743015</td></tr>\n",
       "</tbody>\n",
       "</table>\n"
      ],
      "text/latex": [
       "A data.frame: 17 × 7\n",
       "\\begin{tabular}{r|lllllll}\n",
       "  & index & L & temp & info & corr12 & corr12\\_err & corr12\\_err\\_perc\\\\\n",
       "  & <int> & <int> & <dbl> & <chr> & <dbl> & <dbl> & <dbl>\\\\\n",
       "\\hline\n",
       "\t18 & 170 & 24 & 0.220 & 50 Metropolis Simulations & 46.675205 & 40.1207337 & 0.85957274\\\\\n",
       "\t19 & 171 & 24 & 0.225 & 50 Metropolis Simulations & 24.962235 & 11.4335876 & 0.45803542\\\\\n",
       "\t20 & 172 & 24 & 0.230 & 50 Metropolis Simulations & 31.769485 & 18.3265127 & 0.57685897\\\\\n",
       "\t21 & 173 & 24 & 0.235 & 50 Metropolis Simulations & 35.493380 & 24.5347413 & 0.69124838\\\\\n",
       "\t22 & 174 & 24 & 0.240 & 50 Metropolis Simulations & 17.600450 &  4.1004982 & 0.23297690\\\\\n",
       "\t23 & 175 & 24 & 0.245 & 50 Metropolis Simulations & 14.152642 &  1.9239522 & 0.13594298\\\\\n",
       "\t24 & 176 & 24 & 0.250 & 50 Metropolis Simulations & 11.060081 &  1.0168710 & 0.09194064\\\\\n",
       "\t25 & 177 & 24 & 0.255 & 50 Metropolis Simulations & 10.428055 &  0.9481555 & 0.09092351\\\\\n",
       "\t26 & 178 & 24 & 0.260 & 50 Metropolis Simulations &  8.994216 &  0.6023891 & 0.06697517\\\\\n",
       "\t27 & 179 & 24 & 0.265 & 50 Metropolis Simulations &  8.449482 &  0.5200510 & 0.06154827\\\\\n",
       "\t28 & 180 & 24 & 0.270 & 50 Metropolis Simulations &  7.346288 &  0.3780884 & 0.05146659\\\\\n",
       "\t29 & 181 & 24 & 0.275 & 50 Metropolis Simulations &  6.547569 &  0.2861970 & 0.04371042\\\\\n",
       "\t30 & 182 & 24 & 0.280 & 50 Metropolis Simulations &  6.144107 &  0.2365337 & 0.03849765\\\\\n",
       "\t31 & 183 & 24 & 0.285 & 50 Metropolis Simulations &  5.478601 &  0.1835239 & 0.03349832\\\\\n",
       "\t32 & 184 & 24 & 0.290 & 50 Metropolis Simulations &  5.148322 &  0.1562324 & 0.03034628\\\\\n",
       "\t33 & 185 & 24 & 0.295 & 50 Metropolis Simulations &  4.870772 &  0.1334227 & 0.02739251\\\\\n",
       "\t34 & 186 & 24 & 0.300 & 50 Metropolis Simulations &  4.503539 &  0.1235328 & 0.02743015\\\\\n",
       "\\end{tabular}\n"
      ],
      "text/markdown": [
       "\n",
       "A data.frame: 17 × 7\n",
       "\n",
       "| <!--/--> | index &lt;int&gt; | L &lt;int&gt; | temp &lt;dbl&gt; | info &lt;chr&gt; | corr12 &lt;dbl&gt; | corr12_err &lt;dbl&gt; | corr12_err_perc &lt;dbl&gt; |\n",
       "|---|---|---|---|---|---|---|---|\n",
       "| 18 | 170 | 24 | 0.220 | 50 Metropolis Simulations | 46.675205 | 40.1207337 | 0.85957274 |\n",
       "| 19 | 171 | 24 | 0.225 | 50 Metropolis Simulations | 24.962235 | 11.4335876 | 0.45803542 |\n",
       "| 20 | 172 | 24 | 0.230 | 50 Metropolis Simulations | 31.769485 | 18.3265127 | 0.57685897 |\n",
       "| 21 | 173 | 24 | 0.235 | 50 Metropolis Simulations | 35.493380 | 24.5347413 | 0.69124838 |\n",
       "| 22 | 174 | 24 | 0.240 | 50 Metropolis Simulations | 17.600450 |  4.1004982 | 0.23297690 |\n",
       "| 23 | 175 | 24 | 0.245 | 50 Metropolis Simulations | 14.152642 |  1.9239522 | 0.13594298 |\n",
       "| 24 | 176 | 24 | 0.250 | 50 Metropolis Simulations | 11.060081 |  1.0168710 | 0.09194064 |\n",
       "| 25 | 177 | 24 | 0.255 | 50 Metropolis Simulations | 10.428055 |  0.9481555 | 0.09092351 |\n",
       "| 26 | 178 | 24 | 0.260 | 50 Metropolis Simulations |  8.994216 |  0.6023891 | 0.06697517 |\n",
       "| 27 | 179 | 24 | 0.265 | 50 Metropolis Simulations |  8.449482 |  0.5200510 | 0.06154827 |\n",
       "| 28 | 180 | 24 | 0.270 | 50 Metropolis Simulations |  7.346288 |  0.3780884 | 0.05146659 |\n",
       "| 29 | 181 | 24 | 0.275 | 50 Metropolis Simulations |  6.547569 |  0.2861970 | 0.04371042 |\n",
       "| 30 | 182 | 24 | 0.280 | 50 Metropolis Simulations |  6.144107 |  0.2365337 | 0.03849765 |\n",
       "| 31 | 183 | 24 | 0.285 | 50 Metropolis Simulations |  5.478601 |  0.1835239 | 0.03349832 |\n",
       "| 32 | 184 | 24 | 0.290 | 50 Metropolis Simulations |  5.148322 |  0.1562324 | 0.03034628 |\n",
       "| 33 | 185 | 24 | 0.295 | 50 Metropolis Simulations |  4.870772 |  0.1334227 | 0.02739251 |\n",
       "| 34 | 186 | 24 | 0.300 | 50 Metropolis Simulations |  4.503539 |  0.1235328 | 0.02743015 |\n",
       "\n"
      ],
      "text/plain": [
       "   index L  temp  info                      corr12    corr12_err\n",
       "18 170   24 0.220 50 Metropolis Simulations 46.675205 40.1207337\n",
       "19 171   24 0.225 50 Metropolis Simulations 24.962235 11.4335876\n",
       "20 172   24 0.230 50 Metropolis Simulations 31.769485 18.3265127\n",
       "21 173   24 0.235 50 Metropolis Simulations 35.493380 24.5347413\n",
       "22 174   24 0.240 50 Metropolis Simulations 17.600450  4.1004982\n",
       "23 175   24 0.245 50 Metropolis Simulations 14.152642  1.9239522\n",
       "24 176   24 0.250 50 Metropolis Simulations 11.060081  1.0168710\n",
       "25 177   24 0.255 50 Metropolis Simulations 10.428055  0.9481555\n",
       "26 178   24 0.260 50 Metropolis Simulations  8.994216  0.6023891\n",
       "27 179   24 0.265 50 Metropolis Simulations  8.449482  0.5200510\n",
       "28 180   24 0.270 50 Metropolis Simulations  7.346288  0.3780884\n",
       "29 181   24 0.275 50 Metropolis Simulations  6.547569  0.2861970\n",
       "30 182   24 0.280 50 Metropolis Simulations  6.144107  0.2365337\n",
       "31 183   24 0.285 50 Metropolis Simulations  5.478601  0.1835239\n",
       "32 184   24 0.290 50 Metropolis Simulations  5.148322  0.1562324\n",
       "33 185   24 0.295 50 Metropolis Simulations  4.870772  0.1334227\n",
       "34 186   24 0.300 50 Metropolis Simulations  4.503539  0.1235328\n",
       "   corr12_err_perc\n",
       "18 0.85957274     \n",
       "19 0.45803542     \n",
       "20 0.57685897     \n",
       "21 0.69124838     \n",
       "22 0.23297690     \n",
       "23 0.13594298     \n",
       "24 0.09194064     \n",
       "25 0.09092351     \n",
       "26 0.06697517     \n",
       "27 0.06154827     \n",
       "28 0.05146659     \n",
       "29 0.04371042     \n",
       "30 0.03849765     \n",
       "31 0.03349832     \n",
       "32 0.03034628     \n",
       "33 0.02739251     \n",
       "34 0.02743015     "
      ]
     },
     "metadata": {},
     "output_type": "display_data"
    },
    {
     "data": {
      "text/html": [
       "<table class=\"dataframe\">\n",
       "<caption>A data.frame: 17 × 7</caption>\n",
       "<thead>\n",
       "\t<tr><th></th><th scope=col>index</th><th scope=col>L</th><th scope=col>temp</th><th scope=col>info</th><th scope=col>corr12</th><th scope=col>corr12_err</th><th scope=col>corr12_err_perc</th></tr>\n",
       "\t<tr><th></th><th scope=col>&lt;int&gt;</th><th scope=col>&lt;int&gt;</th><th scope=col>&lt;dbl&gt;</th><th scope=col>&lt;chr&gt;</th><th scope=col>&lt;dbl&gt;</th><th scope=col>&lt;dbl&gt;</th><th scope=col>&lt;dbl&gt;</th></tr>\n",
       "</thead>\n",
       "<tbody>\n",
       "\t<tr><th scope=row>35</th><td>340</td><td>36</td><td>0.220</td><td>10 Metropolis Simulations</td><td>23.497686</td><td>9.2029325</td><td>0.39165270</td></tr>\n",
       "\t<tr><th scope=row>36</th><td>341</td><td>36</td><td>0.225</td><td>10 Metropolis Simulations</td><td>21.036584</td><td>6.7912836</td><td>0.32283205</td></tr>\n",
       "\t<tr><th scope=row>37</th><td>342</td><td>36</td><td>0.230</td><td>10 Metropolis Simulations</td><td>14.081479</td><td>2.6154176</td><td>0.18573457</td></tr>\n",
       "\t<tr><th scope=row>38</th><td>343</td><td>36</td><td>0.235</td><td>10 Metropolis Simulations</td><td>12.867580</td><td>1.8472565</td><td>0.14355898</td></tr>\n",
       "\t<tr><th scope=row>39</th><td>344</td><td>36</td><td>0.240</td><td>10 Metropolis Simulations</td><td>13.897345</td><td>2.5956259</td><td>0.18677136</td></tr>\n",
       "\t<tr><th scope=row>40</th><td>345</td><td>36</td><td>0.245</td><td>10 Metropolis Simulations</td><td>11.960744</td><td>1.4480159</td><td>0.12106403</td></tr>\n",
       "\t<tr><th scope=row>41</th><td>346</td><td>36</td><td>0.250</td><td>10 Metropolis Simulations</td><td>10.714126</td><td>1.0866191</td><td>0.10141929</td></tr>\n",
       "\t<tr><th scope=row>42</th><td>347</td><td>36</td><td>0.255</td><td>10 Metropolis Simulations</td><td> 9.325221</td><td>0.8613850</td><td>0.09237154</td></tr>\n",
       "\t<tr><th scope=row>43</th><td>348</td><td>36</td><td>0.260</td><td>10 Metropolis Simulations</td><td> 9.267806</td><td>0.7764899</td><td>0.08378357</td></tr>\n",
       "\t<tr><th scope=row>44</th><td>349</td><td>36</td><td>0.265</td><td>10 Metropolis Simulations</td><td> 8.810030</td><td>0.6966155</td><td>0.07907073</td></tr>\n",
       "\t<tr><th scope=row>45</th><td>350</td><td>36</td><td>0.270</td><td>10 Metropolis Simulations</td><td> 7.836655</td><td>0.4699978</td><td>0.05997429</td></tr>\n",
       "\t<tr><th scope=row>46</th><td>351</td><td>36</td><td>0.275</td><td>10 Metropolis Simulations</td><td> 6.366174</td><td>0.3611085</td><td>0.05672301</td></tr>\n",
       "\t<tr><th scope=row>47</th><td>352</td><td>36</td><td>0.280</td><td>10 Metropolis Simulations</td><td> 5.913909</td><td>0.4505006</td><td>0.07617646</td></tr>\n",
       "\t<tr><th scope=row>48</th><td>353</td><td>36</td><td>0.285</td><td>10 Metropolis Simulations</td><td> 5.613946</td><td>0.3201659</td><td>0.05703046</td></tr>\n",
       "\t<tr><th scope=row>49</th><td>354</td><td>36</td><td>0.290</td><td>10 Metropolis Simulations</td><td> 5.029734</td><td>0.2764038</td><td>0.05495396</td></tr>\n",
       "\t<tr><th scope=row>50</th><td>355</td><td>36</td><td>0.295</td><td>10 Metropolis Simulations</td><td> 5.036007</td><td>0.2686224</td><td>0.05334035</td></tr>\n",
       "\t<tr><th scope=row>51</th><td>356</td><td>36</td><td>0.300</td><td>10 Metropolis Simulations</td><td> 4.459130</td><td>0.2344947</td><td>0.05258755</td></tr>\n",
       "</tbody>\n",
       "</table>\n"
      ],
      "text/latex": [
       "A data.frame: 17 × 7\n",
       "\\begin{tabular}{r|lllllll}\n",
       "  & index & L & temp & info & corr12 & corr12\\_err & corr12\\_err\\_perc\\\\\n",
       "  & <int> & <int> & <dbl> & <chr> & <dbl> & <dbl> & <dbl>\\\\\n",
       "\\hline\n",
       "\t35 & 340 & 36 & 0.220 & 10 Metropolis Simulations & 23.497686 & 9.2029325 & 0.39165270\\\\\n",
       "\t36 & 341 & 36 & 0.225 & 10 Metropolis Simulations & 21.036584 & 6.7912836 & 0.32283205\\\\\n",
       "\t37 & 342 & 36 & 0.230 & 10 Metropolis Simulations & 14.081479 & 2.6154176 & 0.18573457\\\\\n",
       "\t38 & 343 & 36 & 0.235 & 10 Metropolis Simulations & 12.867580 & 1.8472565 & 0.14355898\\\\\n",
       "\t39 & 344 & 36 & 0.240 & 10 Metropolis Simulations & 13.897345 & 2.5956259 & 0.18677136\\\\\n",
       "\t40 & 345 & 36 & 0.245 & 10 Metropolis Simulations & 11.960744 & 1.4480159 & 0.12106403\\\\\n",
       "\t41 & 346 & 36 & 0.250 & 10 Metropolis Simulations & 10.714126 & 1.0866191 & 0.10141929\\\\\n",
       "\t42 & 347 & 36 & 0.255 & 10 Metropolis Simulations &  9.325221 & 0.8613850 & 0.09237154\\\\\n",
       "\t43 & 348 & 36 & 0.260 & 10 Metropolis Simulations &  9.267806 & 0.7764899 & 0.08378357\\\\\n",
       "\t44 & 349 & 36 & 0.265 & 10 Metropolis Simulations &  8.810030 & 0.6966155 & 0.07907073\\\\\n",
       "\t45 & 350 & 36 & 0.270 & 10 Metropolis Simulations &  7.836655 & 0.4699978 & 0.05997429\\\\\n",
       "\t46 & 351 & 36 & 0.275 & 10 Metropolis Simulations &  6.366174 & 0.3611085 & 0.05672301\\\\\n",
       "\t47 & 352 & 36 & 0.280 & 10 Metropolis Simulations &  5.913909 & 0.4505006 & 0.07617646\\\\\n",
       "\t48 & 353 & 36 & 0.285 & 10 Metropolis Simulations &  5.613946 & 0.3201659 & 0.05703046\\\\\n",
       "\t49 & 354 & 36 & 0.290 & 10 Metropolis Simulations &  5.029734 & 0.2764038 & 0.05495396\\\\\n",
       "\t50 & 355 & 36 & 0.295 & 10 Metropolis Simulations &  5.036007 & 0.2686224 & 0.05334035\\\\\n",
       "\t51 & 356 & 36 & 0.300 & 10 Metropolis Simulations &  4.459130 & 0.2344947 & 0.05258755\\\\\n",
       "\\end{tabular}\n"
      ],
      "text/markdown": [
       "\n",
       "A data.frame: 17 × 7\n",
       "\n",
       "| <!--/--> | index &lt;int&gt; | L &lt;int&gt; | temp &lt;dbl&gt; | info &lt;chr&gt; | corr12 &lt;dbl&gt; | corr12_err &lt;dbl&gt; | corr12_err_perc &lt;dbl&gt; |\n",
       "|---|---|---|---|---|---|---|---|\n",
       "| 35 | 340 | 36 | 0.220 | 10 Metropolis Simulations | 23.497686 | 9.2029325 | 0.39165270 |\n",
       "| 36 | 341 | 36 | 0.225 | 10 Metropolis Simulations | 21.036584 | 6.7912836 | 0.32283205 |\n",
       "| 37 | 342 | 36 | 0.230 | 10 Metropolis Simulations | 14.081479 | 2.6154176 | 0.18573457 |\n",
       "| 38 | 343 | 36 | 0.235 | 10 Metropolis Simulations | 12.867580 | 1.8472565 | 0.14355898 |\n",
       "| 39 | 344 | 36 | 0.240 | 10 Metropolis Simulations | 13.897345 | 2.5956259 | 0.18677136 |\n",
       "| 40 | 345 | 36 | 0.245 | 10 Metropolis Simulations | 11.960744 | 1.4480159 | 0.12106403 |\n",
       "| 41 | 346 | 36 | 0.250 | 10 Metropolis Simulations | 10.714126 | 1.0866191 | 0.10141929 |\n",
       "| 42 | 347 | 36 | 0.255 | 10 Metropolis Simulations |  9.325221 | 0.8613850 | 0.09237154 |\n",
       "| 43 | 348 | 36 | 0.260 | 10 Metropolis Simulations |  9.267806 | 0.7764899 | 0.08378357 |\n",
       "| 44 | 349 | 36 | 0.265 | 10 Metropolis Simulations |  8.810030 | 0.6966155 | 0.07907073 |\n",
       "| 45 | 350 | 36 | 0.270 | 10 Metropolis Simulations |  7.836655 | 0.4699978 | 0.05997429 |\n",
       "| 46 | 351 | 36 | 0.275 | 10 Metropolis Simulations |  6.366174 | 0.3611085 | 0.05672301 |\n",
       "| 47 | 352 | 36 | 0.280 | 10 Metropolis Simulations |  5.913909 | 0.4505006 | 0.07617646 |\n",
       "| 48 | 353 | 36 | 0.285 | 10 Metropolis Simulations |  5.613946 | 0.3201659 | 0.05703046 |\n",
       "| 49 | 354 | 36 | 0.290 | 10 Metropolis Simulations |  5.029734 | 0.2764038 | 0.05495396 |\n",
       "| 50 | 355 | 36 | 0.295 | 10 Metropolis Simulations |  5.036007 | 0.2686224 | 0.05334035 |\n",
       "| 51 | 356 | 36 | 0.300 | 10 Metropolis Simulations |  4.459130 | 0.2344947 | 0.05258755 |\n",
       "\n"
      ],
      "text/plain": [
       "   index L  temp  info                      corr12    corr12_err\n",
       "35 340   36 0.220 10 Metropolis Simulations 23.497686 9.2029325 \n",
       "36 341   36 0.225 10 Metropolis Simulations 21.036584 6.7912836 \n",
       "37 342   36 0.230 10 Metropolis Simulations 14.081479 2.6154176 \n",
       "38 343   36 0.235 10 Metropolis Simulations 12.867580 1.8472565 \n",
       "39 344   36 0.240 10 Metropolis Simulations 13.897345 2.5956259 \n",
       "40 345   36 0.245 10 Metropolis Simulations 11.960744 1.4480159 \n",
       "41 346   36 0.250 10 Metropolis Simulations 10.714126 1.0866191 \n",
       "42 347   36 0.255 10 Metropolis Simulations  9.325221 0.8613850 \n",
       "43 348   36 0.260 10 Metropolis Simulations  9.267806 0.7764899 \n",
       "44 349   36 0.265 10 Metropolis Simulations  8.810030 0.6966155 \n",
       "45 350   36 0.270 10 Metropolis Simulations  7.836655 0.4699978 \n",
       "46 351   36 0.275 10 Metropolis Simulations  6.366174 0.3611085 \n",
       "47 352   36 0.280 10 Metropolis Simulations  5.913909 0.4505006 \n",
       "48 353   36 0.285 10 Metropolis Simulations  5.613946 0.3201659 \n",
       "49 354   36 0.290 10 Metropolis Simulations  5.029734 0.2764038 \n",
       "50 355   36 0.295 10 Metropolis Simulations  5.036007 0.2686224 \n",
       "51 356   36 0.300 10 Metropolis Simulations  4.459130 0.2344947 \n",
       "   corr12_err_perc\n",
       "35 0.39165270     \n",
       "36 0.32283205     \n",
       "37 0.18573457     \n",
       "38 0.14355898     \n",
       "39 0.18677136     \n",
       "40 0.12106403     \n",
       "41 0.10141929     \n",
       "42 0.09237154     \n",
       "43 0.08378357     \n",
       "44 0.07907073     \n",
       "45 0.05997429     \n",
       "46 0.05672301     \n",
       "47 0.07617646     \n",
       "48 0.05703046     \n",
       "49 0.05495396     \n",
       "50 0.05334035     \n",
       "51 0.05258755     "
      ]
     },
     "metadata": {},
     "output_type": "display_data"
    },
    {
     "data": {
      "text/html": [
       "<table class=\"dataframe\">\n",
       "<caption>A data.frame: 17 × 7</caption>\n",
       "<thead>\n",
       "\t<tr><th></th><th scope=col>index</th><th scope=col>L</th><th scope=col>temp</th><th scope=col>info</th><th scope=col>corr12</th><th scope=col>corr12_err</th><th scope=col>corr12_err_perc</th></tr>\n",
       "\t<tr><th></th><th scope=col>&lt;int&gt;</th><th scope=col>&lt;int&gt;</th><th scope=col>&lt;dbl&gt;</th><th scope=col>&lt;chr&gt;</th><th scope=col>&lt;dbl&gt;</th><th scope=col>&lt;dbl&gt;</th><th scope=col>&lt;dbl&gt;</th></tr>\n",
       "</thead>\n",
       "<tbody>\n",
       "\t<tr><th scope=row>52</th><td>510</td><td>54</td><td>0.220</td><td>10 Metropolis Simulations</td><td>25.512282</td><td>6.3254361</td><td>0.24793690</td></tr>\n",
       "\t<tr><th scope=row>53</th><td>511</td><td>54</td><td>0.225</td><td>10 Metropolis Simulations</td><td>18.181755</td><td>2.7865218</td><td>0.15325923</td></tr>\n",
       "\t<tr><th scope=row>54</th><td>512</td><td>54</td><td>0.230</td><td>10 Metropolis Simulations</td><td>17.281704</td><td>2.2580190</td><td>0.13065951</td></tr>\n",
       "\t<tr><th scope=row>55</th><td>513</td><td>54</td><td>0.235</td><td>10 Metropolis Simulations</td><td>13.319461</td><td>1.1066742</td><td>0.08308701</td></tr>\n",
       "\t<tr><th scope=row>56</th><td>514</td><td>54</td><td>0.240</td><td>10 Metropolis Simulations</td><td>12.915472</td><td>1.0877822</td><td>0.08422318</td></tr>\n",
       "\t<tr><th scope=row>57</th><td>515</td><td>54</td><td>0.245</td><td>10 Metropolis Simulations</td><td>11.076162</td><td>0.6484136</td><td>0.05854137</td></tr>\n",
       "\t<tr><th scope=row>58</th><td>516</td><td>54</td><td>0.250</td><td>10 Metropolis Simulations</td><td>10.734476</td><td>0.8086888</td><td>0.07533566</td></tr>\n",
       "\t<tr><th scope=row>59</th><td>517</td><td>54</td><td>0.255</td><td>10 Metropolis Simulations</td><td> 9.048235</td><td>0.5422340</td><td>0.05992705</td></tr>\n",
       "\t<tr><th scope=row>60</th><td>518</td><td>54</td><td>0.260</td><td>10 Metropolis Simulations</td><td> 8.665646</td><td>0.6733138</td><td>0.07769921</td></tr>\n",
       "\t<tr><th scope=row>61</th><td>519</td><td>54</td><td>0.265</td><td>10 Metropolis Simulations</td><td> 8.310777</td><td>0.5308959</td><td>0.06388042</td></tr>\n",
       "\t<tr><th scope=row>62</th><td>520</td><td>54</td><td>0.270</td><td>10 Metropolis Simulations</td><td> 7.607625</td><td>0.4261269</td><td>0.05601314</td></tr>\n",
       "\t<tr><th scope=row>63</th><td>521</td><td>54</td><td>0.275</td><td>10 Metropolis Simulations</td><td> 6.077367</td><td>0.3969577</td><td>0.06531738</td></tr>\n",
       "\t<tr><th scope=row>64</th><td>522</td><td>54</td><td>0.280</td><td>10 Metropolis Simulations</td><td> 5.908437</td><td>0.3148179</td><td>0.05328276</td></tr>\n",
       "\t<tr><th scope=row>65</th><td>523</td><td>54</td><td>0.285</td><td>10 Metropolis Simulations</td><td> 5.606572</td><td>0.2661944</td><td>0.04747899</td></tr>\n",
       "\t<tr><th scope=row>66</th><td>524</td><td>54</td><td>0.290</td><td>10 Metropolis Simulations</td><td> 5.426813</td><td>0.3772744</td><td>0.06952043</td></tr>\n",
       "\t<tr><th scope=row>67</th><td>525</td><td>54</td><td>0.295</td><td>10 Metropolis Simulations</td><td> 4.650020</td><td>0.3056988</td><td>0.06574140</td></tr>\n",
       "\t<tr><th scope=row>68</th><td>526</td><td>54</td><td>0.300</td><td>10 Metropolis Simulations</td><td> 5.044668</td><td>0.3717572</td><td>0.07369309</td></tr>\n",
       "</tbody>\n",
       "</table>\n"
      ],
      "text/latex": [
       "A data.frame: 17 × 7\n",
       "\\begin{tabular}{r|lllllll}\n",
       "  & index & L & temp & info & corr12 & corr12\\_err & corr12\\_err\\_perc\\\\\n",
       "  & <int> & <int> & <dbl> & <chr> & <dbl> & <dbl> & <dbl>\\\\\n",
       "\\hline\n",
       "\t52 & 510 & 54 & 0.220 & 10 Metropolis Simulations & 25.512282 & 6.3254361 & 0.24793690\\\\\n",
       "\t53 & 511 & 54 & 0.225 & 10 Metropolis Simulations & 18.181755 & 2.7865218 & 0.15325923\\\\\n",
       "\t54 & 512 & 54 & 0.230 & 10 Metropolis Simulations & 17.281704 & 2.2580190 & 0.13065951\\\\\n",
       "\t55 & 513 & 54 & 0.235 & 10 Metropolis Simulations & 13.319461 & 1.1066742 & 0.08308701\\\\\n",
       "\t56 & 514 & 54 & 0.240 & 10 Metropolis Simulations & 12.915472 & 1.0877822 & 0.08422318\\\\\n",
       "\t57 & 515 & 54 & 0.245 & 10 Metropolis Simulations & 11.076162 & 0.6484136 & 0.05854137\\\\\n",
       "\t58 & 516 & 54 & 0.250 & 10 Metropolis Simulations & 10.734476 & 0.8086888 & 0.07533566\\\\\n",
       "\t59 & 517 & 54 & 0.255 & 10 Metropolis Simulations &  9.048235 & 0.5422340 & 0.05992705\\\\\n",
       "\t60 & 518 & 54 & 0.260 & 10 Metropolis Simulations &  8.665646 & 0.6733138 & 0.07769921\\\\\n",
       "\t61 & 519 & 54 & 0.265 & 10 Metropolis Simulations &  8.310777 & 0.5308959 & 0.06388042\\\\\n",
       "\t62 & 520 & 54 & 0.270 & 10 Metropolis Simulations &  7.607625 & 0.4261269 & 0.05601314\\\\\n",
       "\t63 & 521 & 54 & 0.275 & 10 Metropolis Simulations &  6.077367 & 0.3969577 & 0.06531738\\\\\n",
       "\t64 & 522 & 54 & 0.280 & 10 Metropolis Simulations &  5.908437 & 0.3148179 & 0.05328276\\\\\n",
       "\t65 & 523 & 54 & 0.285 & 10 Metropolis Simulations &  5.606572 & 0.2661944 & 0.04747899\\\\\n",
       "\t66 & 524 & 54 & 0.290 & 10 Metropolis Simulations &  5.426813 & 0.3772744 & 0.06952043\\\\\n",
       "\t67 & 525 & 54 & 0.295 & 10 Metropolis Simulations &  4.650020 & 0.3056988 & 0.06574140\\\\\n",
       "\t68 & 526 & 54 & 0.300 & 10 Metropolis Simulations &  5.044668 & 0.3717572 & 0.07369309\\\\\n",
       "\\end{tabular}\n"
      ],
      "text/markdown": [
       "\n",
       "A data.frame: 17 × 7\n",
       "\n",
       "| <!--/--> | index &lt;int&gt; | L &lt;int&gt; | temp &lt;dbl&gt; | info &lt;chr&gt; | corr12 &lt;dbl&gt; | corr12_err &lt;dbl&gt; | corr12_err_perc &lt;dbl&gt; |\n",
       "|---|---|---|---|---|---|---|---|\n",
       "| 52 | 510 | 54 | 0.220 | 10 Metropolis Simulations | 25.512282 | 6.3254361 | 0.24793690 |\n",
       "| 53 | 511 | 54 | 0.225 | 10 Metropolis Simulations | 18.181755 | 2.7865218 | 0.15325923 |\n",
       "| 54 | 512 | 54 | 0.230 | 10 Metropolis Simulations | 17.281704 | 2.2580190 | 0.13065951 |\n",
       "| 55 | 513 | 54 | 0.235 | 10 Metropolis Simulations | 13.319461 | 1.1066742 | 0.08308701 |\n",
       "| 56 | 514 | 54 | 0.240 | 10 Metropolis Simulations | 12.915472 | 1.0877822 | 0.08422318 |\n",
       "| 57 | 515 | 54 | 0.245 | 10 Metropolis Simulations | 11.076162 | 0.6484136 | 0.05854137 |\n",
       "| 58 | 516 | 54 | 0.250 | 10 Metropolis Simulations | 10.734476 | 0.8086888 | 0.07533566 |\n",
       "| 59 | 517 | 54 | 0.255 | 10 Metropolis Simulations |  9.048235 | 0.5422340 | 0.05992705 |\n",
       "| 60 | 518 | 54 | 0.260 | 10 Metropolis Simulations |  8.665646 | 0.6733138 | 0.07769921 |\n",
       "| 61 | 519 | 54 | 0.265 | 10 Metropolis Simulations |  8.310777 | 0.5308959 | 0.06388042 |\n",
       "| 62 | 520 | 54 | 0.270 | 10 Metropolis Simulations |  7.607625 | 0.4261269 | 0.05601314 |\n",
       "| 63 | 521 | 54 | 0.275 | 10 Metropolis Simulations |  6.077367 | 0.3969577 | 0.06531738 |\n",
       "| 64 | 522 | 54 | 0.280 | 10 Metropolis Simulations |  5.908437 | 0.3148179 | 0.05328276 |\n",
       "| 65 | 523 | 54 | 0.285 | 10 Metropolis Simulations |  5.606572 | 0.2661944 | 0.04747899 |\n",
       "| 66 | 524 | 54 | 0.290 | 10 Metropolis Simulations |  5.426813 | 0.3772744 | 0.06952043 |\n",
       "| 67 | 525 | 54 | 0.295 | 10 Metropolis Simulations |  4.650020 | 0.3056988 | 0.06574140 |\n",
       "| 68 | 526 | 54 | 0.300 | 10 Metropolis Simulations |  5.044668 | 0.3717572 | 0.07369309 |\n",
       "\n"
      ],
      "text/plain": [
       "   index L  temp  info                      corr12    corr12_err\n",
       "52 510   54 0.220 10 Metropolis Simulations 25.512282 6.3254361 \n",
       "53 511   54 0.225 10 Metropolis Simulations 18.181755 2.7865218 \n",
       "54 512   54 0.230 10 Metropolis Simulations 17.281704 2.2580190 \n",
       "55 513   54 0.235 10 Metropolis Simulations 13.319461 1.1066742 \n",
       "56 514   54 0.240 10 Metropolis Simulations 12.915472 1.0877822 \n",
       "57 515   54 0.245 10 Metropolis Simulations 11.076162 0.6484136 \n",
       "58 516   54 0.250 10 Metropolis Simulations 10.734476 0.8086888 \n",
       "59 517   54 0.255 10 Metropolis Simulations  9.048235 0.5422340 \n",
       "60 518   54 0.260 10 Metropolis Simulations  8.665646 0.6733138 \n",
       "61 519   54 0.265 10 Metropolis Simulations  8.310777 0.5308959 \n",
       "62 520   54 0.270 10 Metropolis Simulations  7.607625 0.4261269 \n",
       "63 521   54 0.275 10 Metropolis Simulations  6.077367 0.3969577 \n",
       "64 522   54 0.280 10 Metropolis Simulations  5.908437 0.3148179 \n",
       "65 523   54 0.285 10 Metropolis Simulations  5.606572 0.2661944 \n",
       "66 524   54 0.290 10 Metropolis Simulations  5.426813 0.3772744 \n",
       "67 525   54 0.295 10 Metropolis Simulations  4.650020 0.3056988 \n",
       "68 526   54 0.300 10 Metropolis Simulations  5.044668 0.3717572 \n",
       "   corr12_err_perc\n",
       "52 0.24793690     \n",
       "53 0.15325923     \n",
       "54 0.13065951     \n",
       "55 0.08308701     \n",
       "56 0.08422318     \n",
       "57 0.05854137     \n",
       "58 0.07533566     \n",
       "59 0.05992705     \n",
       "60 0.07769921     \n",
       "61 0.06388042     \n",
       "62 0.05601314     \n",
       "63 0.06531738     \n",
       "64 0.05328276     \n",
       "65 0.04747899     \n",
       "66 0.06952043     \n",
       "67 0.06574140     \n",
       "68 0.07369309     "
      ]
     },
     "metadata": {},
     "output_type": "display_data"
    }
   ],
   "source": [
    "# Presenting the correlation lenght data in a simple table\n",
    "results <- read.csv(\"..\\\\data\\\\results_comp.csv\", header = TRUE, sep = \",\")\n",
    "\n",
    "bin_size <- 4\n",
    "\n",
    "d <- results[, c(\"index\", \"t\", \"temp\", \"comptype\")]\n",
    "colnames(d) <- c(\"index\", \"L\", \"temp\", \"info\")\n",
    "\n",
    "corr12 <- c()\n",
    "corr12_err <- c()\n",
    "for (index in d$index) {\n",
    "\tlen <- read.csv(paste(\"..\\\\data\\\\comp_correlation_stats\\\\correlation_\", index, \"_len.csv\", sep = \"\"), header = TRUE, sep = \",\")\n",
    "\tcorr12 <- append(corr12, len$corr12[len$bin_size == bin_size])\n",
    "\tcorr12_err <- append(corr12_err, len$corr12_err[len$bin_size == bin_size])\n",
    "}\n",
    "d$corr12 <- corr12\n",
    "d$corr12_err <- corr12_err\n",
    "d$corr12_err_perc <- d$corr12_err / d$corr12\n",
    "\n",
    "comp <- d\n",
    "\n",
    "comp[d$L == 16, ]\n",
    "comp[d$L == 24, ]\n",
    "comp[d$L == 36, ]\n",
    "comp[d$L == 54, ]"
   ]
  },
  {
   "attachments": {},
   "cell_type": "markdown",
   "metadata": {},
   "source": [
    "## Compounded correlation lengths"
   ]
  },
  {
   "cell_type": "code",
   "execution_count": 14,
   "metadata": {
    "vscode": {
     "languageId": "r"
    }
   },
   "outputs": [
    {
     "data": {
      "image/png": "[encoded data removed]",
      "text/plain": [
       "Plot with title \"Correlation lenghts for L = 16\""
      ]
     },
     "metadata": {
      "image/png": {
       "height": 420,
       "width": 420
      }
     },
     "output_type": "display_data"
    },
    {
     "data": {
      "image/png": "[encoded data removed]",
      "text/plain": [
       "Plot with title \"Correlation lenghts for L = 24\""
      ]
     },
     "metadata": {
      "image/png": {
       "height": 420,
       "width": 420
      }
     },
     "output_type": "display_data"
    },
    {
     "data": {
      "image/png": "[encoded data removed]",
      "text/plain": [
       "Plot with title \"Correlation lenghts for L = 36\""
      ]
     },
     "metadata": {
      "image/png": {
       "height": 420,
       "width": 420
      }
     },
     "output_type": "display_data"
    },
    {
     "data": {
      "image/png": "[encoded data removed]",
      "text/plain": [
       "Plot with title \"Correlation lenghts for L = 54\""
      ]
     },
     "metadata": {
      "image/png": {
       "height": 420,
       "width": 420
      }
     },
     "output_type": "display_data"
    },
    {
     "data": {
      "image/png": "[encoded data removed]",
      "text/plain": [
       "Plot with title \"Correlation lenghts for L = 81\""
      ]
     },
     "metadata": {
      "image/png": {
       "height": 420,
       "width": 420
      }
     },
     "output_type": "display_data"
    }
   ],
   "source": [
    "for (size in c(16, 24, 36, 54, 81)) {\n",
    "\td <- comp[comp$L == size, c(\"L\", \"temp\", \"corr12\", \"corr12_err\")]\n",
    "\tplot(corr12 ~ temp, data = d, ylim = c(0, size), col = \"red3\", type = \"o\")\n",
    "\tupper <- d$corr12 + d$corr12_err\n",
    "\tlower <- d$corr12 - d$corr12_err\n",
    "\tlines(d$temp, upper, lty = 5)\n",
    "\tlines(d$temp, lower, lty = 5)\n",
    "\tpoints(corr12 ~ temp, data = d, col = \"red3\")\n",
    "\tlines(corr12 ~ temp, data = d, col = \"red3\")\n",
    "\ttitle(paste(\"Correlation lenghts for L =\", size))\n",
    "\tlegend <- list(names = c(\"corr12\"), cols = \"red3\")\n",
    "\tlegend(\"topright\", y = legend$names, fill = legend$cols)\n",
    "}"
   ]
  },
  {
   "attachments": {},
   "cell_type": "markdown",
   "metadata": {},
   "source": [
    "## Step-scaling functions\n",
    "\n",
    "Here we plot the step-scaling functions $\\xi (1.5 L) / \\xi (L) \\sim \\xi(L) / L$. In a first step, we only utilize the correlation lenghts `corr12`, that only considers the first and second non-zero momentum modes."
   ]
  },
  {
   "cell_type": "code",
   "execution_count": 15,
   "metadata": {
    "vscode": {
     "languageId": "r"
    }
   },
   "outputs": [
    {
     "data": {
      "text/html": [
       "<table class=\"dataframe\">\n",
       "<caption>A data.frame: 9 × 11</caption>\n",
       "<thead>\n",
       "\t<tr><th></th><th scope=col>index</th><th scope=col>L</th><th scope=col>temp</th><th scope=col>corr12</th><th scope=col>corr12_err</th><th scope=col>corr_beta_ratio</th><th scope=col>corr_beta_ratio_err</th><th scope=col>corr12_15</th><th scope=col>corr12_15_err</th><th scope=col>corr_step_ratio</th><th scope=col>corr_step_ratio_err</th></tr>\n",
       "\t<tr><th></th><th scope=col>&lt;int&gt;</th><th scope=col>&lt;int&gt;</th><th scope=col>&lt;dbl&gt;</th><th scope=col>&lt;dbl&gt;</th><th scope=col>&lt;dbl&gt;</th><th scope=col>&lt;dbl&gt;</th><th scope=col>&lt;dbl&gt;</th><th scope=col>&lt;dbl&gt;</th><th scope=col>&lt;dbl&gt;</th><th scope=col>&lt;dbl&gt;</th><th scope=col>&lt;dbl&gt;</th></tr>\n",
       "</thead>\n",
       "<tbody>\n",
       "\t<tr><th scope=row>9</th><td> 8</td><td>16</td><td>0.260</td><td>11.007213</td><td>1.5069826</td><td>0.6879508</td><td>0.094186414</td><td>8.994216</td><td>0.6023891</td><td>0.8171202</td><td>0.16659757</td></tr>\n",
       "\t<tr><th scope=row>10</th><td> 9</td><td>16</td><td>0.265</td><td>10.251567</td><td>1.0914852</td><td>0.6407230</td><td>0.068217822</td><td>8.449482</td><td>0.5200510</td><td>0.8242136</td><td>0.13848301</td></tr>\n",
       "\t<tr><th scope=row>11</th><td>10</td><td>16</td><td>0.270</td><td> 8.707797</td><td>0.7191306</td><td>0.5442373</td><td>0.044945662</td><td>7.346288</td><td>0.3780884</td><td>0.8436448</td><td>0.11309165</td></tr>\n",
       "\t<tr><th scope=row>12</th><td>11</td><td>16</td><td>0.275</td><td> 8.161999</td><td>0.4445124</td><td>0.5101249</td><td>0.027782023</td><td>6.547569</td><td>0.2861970</td><td>0.8022017</td><td>0.07875345</td></tr>\n",
       "\t<tr><th scope=row>13</th><td>12</td><td>16</td><td>0.280</td><td> 6.723207</td><td>0.3737473</td><td>0.4202004</td><td>0.023359205</td><td>6.144107</td><td>0.2365337</td><td>0.9138656</td><td>0.08598404</td></tr>\n",
       "\t<tr><th scope=row>14</th><td>13</td><td>16</td><td>0.285</td><td> 6.731698</td><td>0.3608015</td><td>0.4207311</td><td>0.022550091</td><td>5.478601</td><td>0.1835239</td><td>0.8138512</td><td>0.07088295</td></tr>\n",
       "\t<tr><th scope=row>15</th><td>14</td><td>16</td><td>0.290</td><td> 5.258314</td><td>0.1868069</td><td>0.3286447</td><td>0.011675429</td><td>5.148322</td><td>0.1562324</td><td>0.9790822</td><td>0.06449438</td></tr>\n",
       "\t<tr><th scope=row>16</th><td>15</td><td>16</td><td>0.295</td><td> 5.013612</td><td>0.1794169</td><td>0.3133507</td><td>0.011213558</td><td>4.870772</td><td>0.1334227</td><td>0.9715095</td><td>0.06137849</td></tr>\n",
       "\t<tr><th scope=row>17</th><td>16</td><td>16</td><td>0.300</td><td> 4.688077</td><td>0.1520559</td><td>0.2930048</td><td>0.009503497</td><td>4.503539</td><td>0.1235328</td><td>0.9606369</td><td>0.05750830</td></tr>\n",
       "</tbody>\n",
       "</table>\n"
      ],
      "text/latex": [
       "A data.frame: 9 × 11\n",
       "\\begin{tabular}{r|lllllllllll}\n",
       "  & index & L & temp & corr12 & corr12\\_err & corr\\_beta\\_ratio & corr\\_beta\\_ratio\\_err & corr12\\_15 & corr12\\_15\\_err & corr\\_step\\_ratio & corr\\_step\\_ratio\\_err\\\\\n",
       "  & <int> & <int> & <dbl> & <dbl> & <dbl> & <dbl> & <dbl> & <dbl> & <dbl> & <dbl> & <dbl>\\\\\n",
       "\\hline\n",
       "\t9 &  8 & 16 & 0.260 & 11.007213 & 1.5069826 & 0.6879508 & 0.094186414 & 8.994216 & 0.6023891 & 0.8171202 & 0.16659757\\\\\n",
       "\t10 &  9 & 16 & 0.265 & 10.251567 & 1.0914852 & 0.6407230 & 0.068217822 & 8.449482 & 0.5200510 & 0.8242136 & 0.13848301\\\\\n",
       "\t11 & 10 & 16 & 0.270 &  8.707797 & 0.7191306 & 0.5442373 & 0.044945662 & 7.346288 & 0.3780884 & 0.8436448 & 0.11309165\\\\\n",
       "\t12 & 11 & 16 & 0.275 &  8.161999 & 0.4445124 & 0.5101249 & 0.027782023 & 6.547569 & 0.2861970 & 0.8022017 & 0.07875345\\\\\n",
       "\t13 & 12 & 16 & 0.280 &  6.723207 & 0.3737473 & 0.4202004 & 0.023359205 & 6.144107 & 0.2365337 & 0.9138656 & 0.08598404\\\\\n",
       "\t14 & 13 & 16 & 0.285 &  6.731698 & 0.3608015 & 0.4207311 & 0.022550091 & 5.478601 & 0.1835239 & 0.8138512 & 0.07088295\\\\\n",
       "\t15 & 14 & 16 & 0.290 &  5.258314 & 0.1868069 & 0.3286447 & 0.011675429 & 5.148322 & 0.1562324 & 0.9790822 & 0.06449438\\\\\n",
       "\t16 & 15 & 16 & 0.295 &  5.013612 & 0.1794169 & 0.3133507 & 0.011213558 & 4.870772 & 0.1334227 & 0.9715095 & 0.06137849\\\\\n",
       "\t17 & 16 & 16 & 0.300 &  4.688077 & 0.1520559 & 0.2930048 & 0.009503497 & 4.503539 & 0.1235328 & 0.9606369 & 0.05750830\\\\\n",
       "\\end{tabular}\n"
      ],
      "text/markdown": [
       "\n",
       "A data.frame: 9 × 11\n",
       "\n",
       "| <!--/--> | index &lt;int&gt; | L &lt;int&gt; | temp &lt;dbl&gt; | corr12 &lt;dbl&gt; | corr12_err &lt;dbl&gt; | corr_beta_ratio &lt;dbl&gt; | corr_beta_ratio_err &lt;dbl&gt; | corr12_15 &lt;dbl&gt; | corr12_15_err &lt;dbl&gt; | corr_step_ratio &lt;dbl&gt; | corr_step_ratio_err &lt;dbl&gt; |\n",
       "|---|---|---|---|---|---|---|---|---|---|---|---|\n",
       "| 9 |  8 | 16 | 0.260 | 11.007213 | 1.5069826 | 0.6879508 | 0.094186414 | 8.994216 | 0.6023891 | 0.8171202 | 0.16659757 |\n",
       "| 10 |  9 | 16 | 0.265 | 10.251567 | 1.0914852 | 0.6407230 | 0.068217822 | 8.449482 | 0.5200510 | 0.8242136 | 0.13848301 |\n",
       "| 11 | 10 | 16 | 0.270 |  8.707797 | 0.7191306 | 0.5442373 | 0.044945662 | 7.346288 | 0.3780884 | 0.8436448 | 0.11309165 |\n",
       "| 12 | 11 | 16 | 0.275 |  8.161999 | 0.4445124 | 0.5101249 | 0.027782023 | 6.547569 | 0.2861970 | 0.8022017 | 0.07875345 |\n",
       "| 13 | 12 | 16 | 0.280 |  6.723207 | 0.3737473 | 0.4202004 | 0.023359205 | 6.144107 | 0.2365337 | 0.9138656 | 0.08598404 |\n",
       "| 14 | 13 | 16 | 0.285 |  6.731698 | 0.3608015 | 0.4207311 | 0.022550091 | 5.478601 | 0.1835239 | 0.8138512 | 0.07088295 |\n",
       "| 15 | 14 | 16 | 0.290 |  5.258314 | 0.1868069 | 0.3286447 | 0.011675429 | 5.148322 | 0.1562324 | 0.9790822 | 0.06449438 |\n",
       "| 16 | 15 | 16 | 0.295 |  5.013612 | 0.1794169 | 0.3133507 | 0.011213558 | 4.870772 | 0.1334227 | 0.9715095 | 0.06137849 |\n",
       "| 17 | 16 | 16 | 0.300 |  4.688077 | 0.1520559 | 0.2930048 | 0.009503497 | 4.503539 | 0.1235328 | 0.9606369 | 0.05750830 |\n",
       "\n"
      ],
      "text/plain": [
       "   index L  temp  corr12    corr12_err corr_beta_ratio corr_beta_ratio_err\n",
       "9   8    16 0.260 11.007213 1.5069826  0.6879508       0.094186414        \n",
       "10  9    16 0.265 10.251567 1.0914852  0.6407230       0.068217822        \n",
       "11 10    16 0.270  8.707797 0.7191306  0.5442373       0.044945662        \n",
       "12 11    16 0.275  8.161999 0.4445124  0.5101249       0.027782023        \n",
       "13 12    16 0.280  6.723207 0.3737473  0.4202004       0.023359205        \n",
       "14 13    16 0.285  6.731698 0.3608015  0.4207311       0.022550091        \n",
       "15 14    16 0.290  5.258314 0.1868069  0.3286447       0.011675429        \n",
       "16 15    16 0.295  5.013612 0.1794169  0.3133507       0.011213558        \n",
       "17 16    16 0.300  4.688077 0.1520559  0.2930048       0.009503497        \n",
       "   corr12_15 corr12_15_err corr_step_ratio corr_step_ratio_err\n",
       "9  8.994216  0.6023891     0.8171202       0.16659757         \n",
       "10 8.449482  0.5200510     0.8242136       0.13848301         \n",
       "11 7.346288  0.3780884     0.8436448       0.11309165         \n",
       "12 6.547569  0.2861970     0.8022017       0.07875345         \n",
       "13 6.144107  0.2365337     0.9138656       0.08598404         \n",
       "14 5.478601  0.1835239     0.8138512       0.07088295         \n",
       "15 5.148322  0.1562324     0.9790822       0.06449438         \n",
       "16 4.870772  0.1334227     0.9715095       0.06137849         \n",
       "17 4.503539  0.1235328     0.9606369       0.05750830         "
      ]
     },
     "metadata": {},
     "output_type": "display_data"
    },
    {
     "data": {
      "image/png": "[encoded data removed]",
      "text/plain": [
       "Plot with title \"1.5-step-scaling function\""
      ]
     },
     "metadata": {
      "image/png": {
       "height": 420,
       "width": 420
      }
     },
     "output_type": "display_data"
    }
   ],
   "source": [
    "# Loading data\n",
    "d <- comp[, c(\"index\", \"L\", \"temp\", \"corr12\", \"corr12_err\")]\n",
    "\n",
    "# Building the x and y axis data\n",
    "d$corr_beta_ratio <- d$corr12 / d$L\n",
    "d$corr_beta_ratio_err <- d$corr12_err / d$L\n",
    "d$corr12_15 <- 0\n",
    "d$corr12_15_err <- 0\n",
    "for (i in 1:nrow(d)) {\n",
    "\tmy_temp <- d$temp[i]\n",
    "\tnext_size <- d$L[i] * 3 / 2\n",
    "\td$corr12_15[i] <- ifelse(next_size %in% d$L,\n",
    "\t\tifelse(my_temp %in% d$temp[d$L == next_size],\n",
    "\t\td$corr12[d$temp == my_temp & d$L == next_size][1], 0), 0)\n",
    "\td$corr12_15_err[i] <- ifelse(next_size %in% d$L,\n",
    "\t\tifelse(my_temp %in% d$temp[d$L == next_size],\n",
    "\t\td$corr12_err[d$temp == my_temp & d$L == next_size][1], 0), 0)\n",
    "}\n",
    "d <- d[d$corr12_15 != 0, ]\n",
    "d$corr_step_ratio <- d$corr12_15 / d$corr12\n",
    "d$corr_step_ratio_err <- d$corr12_err * abs(d$corr12_15 / (d$corr12 * d$corr12) )\n",
    "d$corr_step_ratio_err <- d$corr_step_ratio_err + d$corr12_15_err / abs(d$corr12)\n",
    "\n",
    "#d <- d[d$corr12 <= d$L, ]\n",
    "\n",
    "d16 <- d[d$L == 16, ]\n",
    "d24 <- d[d$L == 24, ]\n",
    "d36 <- d[d$L == 36, ]\n",
    "\n",
    "d16 <- d16[d16$temp >= 0.26 & d16$temp <= 0.40, ]\n",
    "d24 <- d24[d24$temp >= 0.24 & d24$temp <= 0.37, ]\n",
    "d36 <- d36[d36$temp >= 0.23 & d36$temp <= 0.31, ]\n",
    "\n",
    "d16\n",
    "#d24\n",
    "#d36\n",
    "\n",
    "dat <- rbind(d16, d24, d36)\n",
    "\n",
    "plot(\n",
    "\tcorr_step_ratio ~ corr_beta_ratio,\n",
    "\tdata = d16,\n",
    "\tcol = \"blue3\",\n",
    "\ttype = \"l\",\n",
    "\tpch = 19,\n",
    "\txlim = c(min(dat$corr_beta_ratio), max(dat$corr_beta_ratio)),\n",
    "\t#ylim = c(min(dat$corr_step_ratio), max(dat$corr_step_ratio))\n",
    "\tylim = c(0, 2)\n",
    ")\n",
    "if(TRUE) arrows(d16$corr_beta_ratio,\n",
    "\td16$corr_step_ratio + d16$corr_step_ratio_err,\n",
    "\td16$corr_beta_ratio,\n",
    "\td16$corr_step_ratio - d16$corr_step_ratio_err,\n",
    "\tcode = 3, angle = 90, col = \"blue3\"\n",
    ")\n",
    "if(FALSE) arrows(d16$corr_beta_ratio + d16$corr_beta_ratio_err,\n",
    "\td16$corr_step_ratio,\n",
    "\td16$corr_beta_ratio - d16$corr_beta_ratio_err,\n",
    "\td16$corr_step_ratio,\n",
    "\tcode = 3, angle = 90, col = \"blue3\"\n",
    ")\n",
    "if(TRUE) {\n",
    "\tpoints(corr_step_ratio ~ corr_beta_ratio, data = d24, col = \"green4\", pch = 19)\n",
    "\tlines(corr_step_ratio ~ corr_beta_ratio, data = d24, col = \"green4\", pch = 19)\n",
    "\tif(TRUE) arrows(d24$corr_beta_ratio,\n",
    "\td24$corr_step_ratio + d24$corr_step_ratio_err,\n",
    "\td24$corr_beta_ratio,\n",
    "\td24$corr_step_ratio - d24$corr_step_ratio_err,\n",
    "\tcode = 3, angle = 90, col = \"green4\"\n",
    ")\n",
    "}\n",
    "if(TRUE) {\n",
    "\tpoints(corr_step_ratio ~ corr_beta_ratio, data = d36, col = \"red3\", pch = 19)\n",
    "\tlines(corr_step_ratio ~ corr_beta_ratio, data = d36, col = \"red3\", pch = 19)\n",
    "\tif(TRUE) arrows(d36$corr_beta_ratio,\n",
    "\td36$corr_step_ratio + d36$corr_step_ratio_err,\n",
    "\td36$corr_beta_ratio,\n",
    "\td36$corr_step_ratio - d36$corr_step_ratio_err,\n",
    "\tcode = 3, angle = 90, col = \"red3\"\n",
    ")\n",
    "}\n",
    "title(\"1.5-step-scaling function\")\n",
    "legend(\"topright\", y = c(\"L = 16\", \"L = 24\", \"L = 36\"), fill = c(\"blue3\", \"green4\", \"red3\"))\n",
    "points(d$corr_beta_ratio[d$temp == 0.26], d$corr_step_ratio[d$temp == 0.26])"
   ]
  },
  {
   "attachments": {},
   "cell_type": "markdown",
   "metadata": {},
   "source": [
    "## Compounded correlation functions"
   ]
  },
  {
   "cell_type": "code",
   "execution_count": 16,
   "metadata": {
    "vscode": {
     "languageId": "r"
    }
   },
   "outputs": [
    {
     "name": "stderr",
     "output_type": "stream",
     "text": [
      "Warning message in file(file, \"rt\"):\n",
      "\"kann Datei '..\\data\\corr_fn_fits.csv' nicht öffnen: No such file or directory\"\n"
     ]
    },
    {
     "ename": "ERROR",
     "evalue": "Error in file(file, \"rt\"): kann Verbindung nicht öffnen\n",
     "output_type": "error",
     "traceback": [
      "Error in file(file, \"rt\"): kann Verbindung nicht öffnen\nTraceback:\n",
      "1. read.csv(\"..\\\\data\\\\corr_fn_fits.csv\", header = TRUE, sep = \",\")",
      "2. read.table(file = file, header = header, sep = sep, quote = quote, \n .     dec = dec, fill = fill, comment.char = comment.char, ...)",
      "3. file(file, \"rt\")"
     ]
    }
   ],
   "source": [
    "results <- read.csv(\"..\\\\data\\\\results.csv\", header = TRUE, sep = \",\")\n",
    "fit <- read.csv(\"..\\\\data\\\\corr_fn_fits.csv\", header = TRUE, sep = \",\")\n",
    "\n",
    "#indices <- c(8)\n",
    "#for (index in indices) {\n",
    "index <- 8\n",
    "\n",
    "\tcorrelation_res <- read.csv(paste(\"..\\\\data\\\\correlation_data\\\\correlation_\", index, \"_res.csv\", sep = \"\"), header = FALSE)\n",
    "\tcorrelation_err <- read.csv(paste(\"..\\\\data\\\\correlation_data\\\\correlation_\", index, \"_err.csv\", sep = \"\"), header = FALSE)\n",
    "\n",
    "\tfor (bin_size in c(1, 2, 4, 8, 16, 32)) {\n",
    "\n",
    "\td <- data.frame(unname(unlist(correlation_res[correlation_res$V1 == bin_size, -1])))\n",
    "\tcolnames(d) <- c(\"corr_fn\")\n",
    "\td$corr_fn_err <- unname(unlist(correlation_err[correlation_err$V1 == bin_size, -1]))\n",
    "\td$index <- 1:nrow(d) - 1\n",
    "\td$corr_fn <- d$corr_fn[d$index == (nrow(d) / 2)] - d$corr_fn\n",
    "\n",
    "\td$sym_corr_fn <- d$corr_fn\n",
    "\tfor (i in 1:(nrow(d) - 1)) {\n",
    "\t\td$sym_corr_fn[d$index == i] <- (d$corr_fn[d$index == i] + d$corr_fn[d$index == (nrow(d) - i)]) / 2\n",
    "\t}\n",
    "\td$corr_fn <- d$sym_corr_fn\n",
    "\n",
    "\tparams <- fit[fit$index == index, ]\n",
    "\td$fit <- params$a * cosh(params$m * (d$index - params$n / 2)) + params$b\n",
    "\tplot(d$index, d$corr_fn)\n",
    "\ttitle(paste(\"index = \", index, \", bin = \", bin_size,\n",
    "\t\t\", temp = \", round(results$temp[results$index == index],  digits = 3),\n",
    "\t\t\", max_t = \", results$t[results$index == index],\n",
    "\t\t#\", corr12 = \", results$corr12[results$index == index],\n",
    "\t\t#\", corr12_err = \", results$corr12_err[results$index == index],\n",
    "\t\tsep = \"\"))\n",
    "\n",
    "\td$upper <- d$corr_fn + d$corr_fn_err\n",
    "\td$lower <- d$corr_fn - d$corr_fn_err\n",
    "\ty_shade <- c()\n",
    "\tfor (entry in d$upper) {\n",
    "\t\ty_shade <- append(y_shade, entry)\n",
    "\t}\n",
    "\tfor (entry in rev(d$lower)) {\n",
    "\t\ty_shade <- append(y_shade, entry)\n",
    "\t}\n",
    "\tx_shade <- c(d$index, rev(d$index))\n",
    "\tpolygon(x_shade, y_shade, col = \"lightgray\", lty = 0)\n",
    "\tpoints(d$index, d$corr_fn)\n",
    "\tlines(d$index, d$fit)\n",
    "\t}\n",
    "#}"
   ]
  }
 ],
 "metadata": {
  "kernelspec": {
   "display_name": "R",
   "language": "R",
   "name": "ir"
  },
  "language_info": {
   "codemirror_mode": "r",
   "file_extension": ".r",
   "mimetype": "text/x-r-source",
   "name": "R",
   "pygments_lexer": "r",
   "version": "4.2.2"
  },
  "orig_nbformat": 4
 },
 "nbformat": 4,
 "nbformat_minor": 2
}
