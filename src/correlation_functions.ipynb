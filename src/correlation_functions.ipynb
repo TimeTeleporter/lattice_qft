{
 "cells": [
  {
   "attachments": {},
   "cell_type": "markdown",
   "metadata": {},
   "source": [
    "# Correlation functions\n",
    "\n",
    "This file plots the correlation functions and calculates the fitted data."
   ]
  },
  {
   "cell_type": "code",
   "execution_count": 1,
   "metadata": {
    "vscode": {
     "languageId": "r"
    }
   },
   "outputs": [],
   "source": [
    "# Reading the data\n",
    "results <- read.csv(file = \"..\\\\data\\\\results.csv\", sep = \",\", header = TRUE)"
   ]
  },
  {
   "cell_type": "code",
   "execution_count": 2,
   "metadata": {
    "vscode": {
     "languageId": "r"
    }
   },
   "outputs": [
    {
     "data": {
      "text/html": [
       "<table class=\"dataframe\">\n",
       "<caption>A data.frame: 1 × 17</caption>\n",
       "<thead>\n",
       "\t<tr><th></th><th scope=col>index</th><th scope=col>d</th><th scope=col>size</th><th scope=col>x</th><th scope=col>y</th><th scope=col>t</th><th scope=col>temp</th><th scope=col>comptype</th><th scope=col>comptime</th><th scope=col>action</th><th scope=col>action_error</th><th scope=col>energy_data</th><th scope=col>difference_data</th><th scope=col>correlation_data</th><th scope=col>correlation_length12</th><th scope=col>correlation_length23</th><th scope=col>correlation_length13</th></tr>\n",
       "\t<tr><th></th><th scope=col>&lt;int&gt;</th><th scope=col>&lt;int&gt;</th><th scope=col>&lt;int&gt;</th><th scope=col>&lt;int&gt;</th><th scope=col>&lt;int&gt;</th><th scope=col>&lt;int&gt;</th><th scope=col>&lt;dbl&gt;</th><th scope=col>&lt;chr&gt;</th><th scope=col>&lt;dbl&gt;</th><th scope=col>&lt;dbl&gt;</th><th scope=col>&lt;lgl&gt;</th><th scope=col>&lt;chr&gt;</th><th scope=col>&lt;chr&gt;</th><th scope=col>&lt;chr&gt;</th><th scope=col>&lt;dbl&gt;</th><th scope=col>&lt;dbl&gt;</th><th scope=col>&lt;dbl&gt;</th></tr>\n",
       "</thead>\n",
       "<tbody>\n",
       "\t<tr><th scope=row>61</th><td>60</td><td>3</td><td>157464</td><td>54</td><td>54</td><td>54</td><td>0.079432</td><td>Metropolis Simulation (1000000)</td><td>8092.149</td><td>78732.54</td><td>NA</td><td>false</td><td>false</td><td>true</td><td>NaN</td><td>0.1046504</td><td>NaN</td></tr>\n",
       "</tbody>\n",
       "</table>\n"
      ],
      "text/latex": [
       "A data.frame: 1 × 17\n",
       "\\begin{tabular}{r|lllllllllllllllll}\n",
       "  & index & d & size & x & y & t & temp & comptype & comptime & action & action\\_error & energy\\_data & difference\\_data & correlation\\_data & correlation\\_length12 & correlation\\_length23 & correlation\\_length13\\\\\n",
       "  & <int> & <int> & <int> & <int> & <int> & <int> & <dbl> & <chr> & <dbl> & <dbl> & <lgl> & <chr> & <chr> & <chr> & <dbl> & <dbl> & <dbl>\\\\\n",
       "\\hline\n",
       "\t61 & 60 & 3 & 157464 & 54 & 54 & 54 & 0.079432 & Metropolis Simulation (1000000) & 8092.149 & 78732.54 & NA & false & false & true & NaN & 0.1046504 & NaN\\\\\n",
       "\\end{tabular}\n"
      ],
      "text/markdown": [
       "\n",
       "A data.frame: 1 × 17\n",
       "\n",
       "| <!--/--> | index &lt;int&gt; | d &lt;int&gt; | size &lt;int&gt; | x &lt;int&gt; | y &lt;int&gt; | t &lt;int&gt; | temp &lt;dbl&gt; | comptype &lt;chr&gt; | comptime &lt;dbl&gt; | action &lt;dbl&gt; | action_error &lt;lgl&gt; | energy_data &lt;chr&gt; | difference_data &lt;chr&gt; | correlation_data &lt;chr&gt; | correlation_length12 &lt;dbl&gt; | correlation_length23 &lt;dbl&gt; | correlation_length13 &lt;dbl&gt; |\n",
       "|---|---|---|---|---|---|---|---|---|---|---|---|---|---|---|---|---|---|\n",
       "| 61 | 60 | 3 | 157464 | 54 | 54 | 54 | 0.079432 | Metropolis Simulation (1000000) | 8092.149 | 78732.54 | NA | false | false | true | NaN | 0.1046504 | NaN |\n",
       "\n"
      ],
      "text/plain": [
       "   index d size   x  y  t  temp     comptype                        comptime\n",
       "61 60    3 157464 54 54 54 0.079432 Metropolis Simulation (1000000) 8092.149\n",
       "   action   action_error energy_data difference_data correlation_data\n",
       "61 78732.54 NA           false       false           true            \n",
       "   correlation_length12 correlation_length23 correlation_length13\n",
       "61 NaN                  0.1046504            NaN                 "
      ]
     },
     "metadata": {},
     "output_type": "display_data"
    },
    {
     "data": {
      "image/png": "[encoded data removed]",
      "text/plain": [
       "plot without title"
      ]
     },
     "metadata": {
      "image/png": {
       "height": 420,
       "width": 420
      }
     },
     "output_type": "display_data"
    }
   ],
   "source": [
    "# Plotting a given index\n",
    "index <- 60\n",
    "results[results$index == index, ]\n",
    "d <- read.csv(file = paste(\"..\\\\data\\\\plot_data\\\\correlation_\", index, \".csv\", sep = \"\"), sep = \",\", header = FALSE)\n",
    "colnames(d) <- c(\"corr_fn\")\n",
    "d$index <- 0:(nrow(d) - 1)\n",
    "d$corr_fn <- d$corr_fn[nrow(d)/2 + 1] - d$corr_fn\n",
    "\n",
    "plot(corr_fn ~ index, data = d)"
   ]
  },
  {
   "attachments": {},
   "cell_type": "markdown",
   "metadata": {},
   "source": [
    "## Fitting the data\n",
    "\n",
    "We fit the data using the nonlinear least squares method."
   ]
  },
  {
   "cell_type": "code",
   "execution_count": 17,
   "metadata": {
    "vscode": {
     "languageId": "r"
    }
   },
   "outputs": [],
   "source": [
    "# Defining the data\n",
    "N <- length(d$corr_fn)\n",
    "x <- 0:(N - 1)\n",
    "y <- d$corr_fn\n",
    "\n",
    "# Defining starting values for the fit\n",
    "m <- 0.1\n",
    "A <- 10\n",
    "params <- matrix(c(m, A))"
   ]
  },
  {
   "cell_type": "code",
   "execution_count": 26,
   "metadata": {
    "vscode": {
     "languageId": "r"
    }
   },
   "outputs": [],
   "source": [
    "# Calculating the Jacobian\n",
    "J_m <- params[2] * sinh(params[1] * (x - N / 2)) * (x - N / 2)\n",
    "J_A <- cosh(params[1] * (x - N / 2)) - 1\n",
    "J <- matrix(append(J_m, J_A), ncol = 2)\n",
    "\n",
    "# Calculating the residues\n",
    "y_prime <- params[2] * (cosh(params[1] * (x - N / 2)) - 1)\n",
    "r <- y - y_prime\n",
    "\n",
    "# Calculate the iteration of the parameters\n",
    "params <- matlib::inv(t(J) %*% J) %*% t(J) %*% r\n"
   ]
  },
  {
   "cell_type": "code",
   "execution_count": 27,
   "metadata": {
    "vscode": {
     "languageId": "r"
    }
   },
   "outputs": [
    {
     "data": {
      "text/html": [
       "<table class=\"dataframe\">\n",
       "<caption>A matrix: 2 × 1 of type dbl</caption>\n",
       "<tbody>\n",
       "\t<tr><td>0</td></tr>\n",
       "\t<tr><td>0</td></tr>\n",
       "</tbody>\n",
       "</table>\n"
      ],
      "text/latex": [
       "A matrix: 2 × 1 of type dbl\n",
       "\\begin{tabular}{l}\n",
       "\t 0\\\\\n",
       "\t 0\\\\\n",
       "\\end{tabular}\n"
      ],
      "text/markdown": [
       "\n",
       "A matrix: 2 × 1 of type dbl\n",
       "\n",
       "| 0 |\n",
       "| 0 |\n",
       "\n"
      ],
      "text/plain": [
       "     [,1]\n",
       "[1,] 0   \n",
       "[2,] 0   "
      ]
     },
     "metadata": {},
     "output_type": "display_data"
    }
   ],
   "source": [
    "params"
   ]
  }
 ],
 "metadata": {
  "kernelspec": {
   "display_name": "R",
   "language": "R",
   "name": "ir"
  },
  "language_info": {
   "codemirror_mode": "r",
   "file_extension": ".r",
   "mimetype": "text/x-r-source",
   "name": "R",
   "pygments_lexer": "r",
   "version": "4.2.2"
  },
  "orig_nbformat": 4
 },
 "nbformat": 4,
 "nbformat_minor": 2
}
