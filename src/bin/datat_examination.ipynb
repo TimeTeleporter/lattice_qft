{
 "cells": [
  {
   "attachments": {},
   "cell_type": "markdown",
   "metadata": {},
   "source": [
    "# Data examination"
   ]
  },
  {
   "cell_type": "code",
   "execution_count": 3,
   "metadata": {
    "vscode": {
     "languageId": "r"
    }
   },
   "outputs": [],
   "source": [
    "results <- read.csv(\"..\\\\..\\\\data\\\\results.csv\", header = TRUE, sep = \",\")\n",
    "fit <- read.csv(\"..\\\\..\\\\data\\\\results_fit.csv\", header = TRUE, sep = \",\")\n",
    "corr <- read.csv(\"..\\\\..\\\\data\\\\results_corr.csv\", header = TRUE, sep = \",\")"
   ]
  }
 ],
 "metadata": {
  "kernelspec": {
   "display_name": "R",
   "language": "R",
   "name": "ir"
  },
  "language_info": {
   "codemirror_mode": "r",
   "file_extension": ".r",
   "mimetype": "text/x-r-source",
   "name": "R",
   "pygments_lexer": "r",
   "version": "4.2.2"
  },
  "orig_nbformat": 4
 },
 "nbformat": 4,
 "nbformat_minor": 2
}
