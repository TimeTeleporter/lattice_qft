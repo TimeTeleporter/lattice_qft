{
 "cells": [
  {
   "attachments": {},
   "cell_type": "markdown",
   "metadata": {},
   "source": [
    "# Data examination\n",
    "## Correlation lenghts\n",
    "\n",
    "The data is found in the following files:\n",
    "\n",
    "- Computation results: `read.csv(\"..\\\\..\\\\data\\\\results.csv\", header = TRUE, sep = \",\")`\n",
    "- Fit data: `read.csv(\"..\\\\..\\\\data\\\\results_fit.csv\", header = TRUE, sep = \",\")`\n",
    "- Correlation lenghths: `read.csv(\"..\\\\..\\\\data\\\\results_corr.csv\", header = TRUE, sep = \",\")`\n",
    "- Correlation functions: `read.csv(paste(\"..\\\\..\\\\data\\\\plot_data\\\\correlation_\", index, \".csv\", sep = \"\"), header = FALSE)`"
   ]
  },
  {
   "cell_type": "code",
   "execution_count": 46,
   "metadata": {
    "vscode": {
     "languageId": "r"
    }
   },
   "outputs": [
    {
     "data": {
      "text/html": [
       "<table class=\"dataframe\">\n",
       "<caption>A data.frame: 42 × 7</caption>\n",
       "<thead>\n",
       "\t<tr><th scope=col>index</th><th scope=col>corr12</th><th scope=col>corr23</th><th scope=col>corr13</th><th scope=col>fit</th><th scope=col>temp</th><th scope=col>max_t</th></tr>\n",
       "\t<tr><th scope=col>&lt;int&gt;</th><th scope=col>&lt;dbl&gt;</th><th scope=col>&lt;dbl&gt;</th><th scope=col>&lt;dbl&gt;</th><th scope=col>&lt;dbl&gt;</th><th scope=col>&lt;dbl&gt;</th><th scope=col>&lt;int&gt;</th></tr>\n",
       "</thead>\n",
       "<tbody>\n",
       "\t<tr><td> 0</td><td> NaN</td><td> 4.8</td><td>23.7</td><td>-9117313.8</td><td>0.020000</td><td>36</td></tr>\n",
       "\t<tr><td> 1</td><td>21.7</td><td> 7.1</td><td>14.0</td><td>      14.6</td><td>0.025118</td><td>36</td></tr>\n",
       "\t<tr><td> 2</td><td>10.4</td><td> NaN</td><td> NaN</td><td>      15.7</td><td>0.031622</td><td>36</td></tr>\n",
       "\t<tr><td> 3</td><td> NaN</td><td>14.7</td><td> NaN</td><td>   39457.6</td><td>0.039810</td><td>36</td></tr>\n",
       "\t<tr><td> 4</td><td> NaN</td><td> 4.0</td><td>13.0</td><td>-1723929.6</td><td>0.050118</td><td>36</td></tr>\n",
       "\t<tr><td> 5</td><td> NaN</td><td>16.5</td><td>43.4</td><td>      37.7</td><td>0.063095</td><td>36</td></tr>\n",
       "\t<tr><td> 6</td><td>29.3</td><td>17.6</td><td>17.4</td><td>      21.2</td><td>0.079432</td><td>36</td></tr>\n",
       "\t<tr><td> 7</td><td>12.1</td><td> NaN</td><td> NaN</td><td>      14.4</td><td>0.100000</td><td>36</td></tr>\n",
       "\t<tr><td> 8</td><td> NaN</td><td> NaN</td><td> NaN</td><td>  193025.0</td><td>0.125890</td><td>36</td></tr>\n",
       "\t<tr><td> 9</td><td> NaN</td><td> 5.7</td><td>15.7</td><td>  -59355.5</td><td>0.158480</td><td>36</td></tr>\n",
       "\t<tr><td>10</td><td>15.9</td><td> NaN</td><td> NaN</td><td>      21.4</td><td>0.199520</td><td>36</td></tr>\n",
       "\t<tr><td>11</td><td>19.2</td><td> 9.1</td><td>15.4</td><td>      15.3</td><td>0.251180</td><td>36</td></tr>\n",
       "\t<tr><td>12</td><td> 3.9</td><td> 4.5</td><td> 3.7</td><td>       3.6</td><td>0.316220</td><td>36</td></tr>\n",
       "\t<tr><td>13</td><td> 1.6</td><td> 1.7</td><td> 1.2</td><td>       1.6</td><td>0.398100</td><td>36</td></tr>\n",
       "\t<tr><td>14</td><td> 2.6</td><td> 1.6</td><td> 2.1</td><td>       1.0</td><td>0.501180</td><td>36</td></tr>\n",
       "\t<tr><td>15</td><td> NaN</td><td> 6.5</td><td> NaN</td><td>       0.5</td><td>0.630950</td><td>36</td></tr>\n",
       "\t<tr><td>16</td><td> NaN</td><td> NaN</td><td> NaN</td><td>       0.0</td><td>0.794320</td><td>36</td></tr>\n",
       "\t<tr><td>17</td><td> NaN</td><td> NaN</td><td> NaN</td><td>       0.5</td><td>1.000000</td><td>36</td></tr>\n",
       "\t<tr><td>18</td><td> NaN</td><td> NaN</td><td> NaN</td><td>  474922.4</td><td>1.258900</td><td>36</td></tr>\n",
       "\t<tr><td>19</td><td> NaN</td><td> NaN</td><td> NaN</td><td>      -0.7</td><td>1.584800</td><td>36</td></tr>\n",
       "\t<tr><td>20</td><td> NaN</td><td> NaN</td><td> NaN</td><td>   43499.2</td><td>2.000000</td><td>36</td></tr>\n",
       "\t<tr><td>21</td><td> NaN</td><td> NaN</td><td> NaN</td><td> -400201.1</td><td>0.020000</td><td>54</td></tr>\n",
       "\t<tr><td>22</td><td>10.8</td><td> NaN</td><td> NaN</td><td>      15.4</td><td>0.025118</td><td>54</td></tr>\n",
       "\t<tr><td>23</td><td> NaN</td><td> 6.6</td><td>15.1</td><td>      35.3</td><td>0.031622</td><td>54</td></tr>\n",
       "\t<tr><td>24</td><td> NaN</td><td> NaN</td><td>24.8</td><td> -233472.1</td><td>0.039810</td><td>54</td></tr>\n",
       "\t<tr><td>25</td><td> NaN</td><td> 2.8</td><td>38.4</td><td> 2182032.7</td><td>0.050118</td><td>54</td></tr>\n",
       "\t<tr><td>26</td><td> NaN</td><td> NaN</td><td> NaN</td><td>20545412.5</td><td>0.063095</td><td>54</td></tr>\n",
       "\t<tr><td>27</td><td>30.1</td><td> NaN</td><td>66.9</td><td>      27.0</td><td>0.079432</td><td>54</td></tr>\n",
       "\t<tr><td>28</td><td>13.2</td><td> NaN</td><td>28.6</td><td>      16.1</td><td>0.100000</td><td>54</td></tr>\n",
       "\t<tr><td>29</td><td> NaN</td><td> 5.8</td><td>16.1</td><td>      82.1</td><td>0.125890</td><td>54</td></tr>\n",
       "\t<tr><td>30</td><td> NaN</td><td> 5.9</td><td>20.5</td><td> -154392.8</td><td>0.158480</td><td>54</td></tr>\n",
       "\t<tr><td>31</td><td>38.3</td><td> NaN</td><td>52.7</td><td>      55.7</td><td>0.199520</td><td>54</td></tr>\n",
       "\t<tr><td>32</td><td>11.0</td><td>12.3</td><td>11.3</td><td>      10.9</td><td>0.251180</td><td>54</td></tr>\n",
       "\t<tr><td>33</td><td> 3.3</td><td> 3.9</td><td> 3.6</td><td>       3.5</td><td>0.316220</td><td>54</td></tr>\n",
       "\t<tr><td>34</td><td> NaN</td><td> 1.4</td><td> NaN</td><td>       1.4</td><td>0.398100</td><td>54</td></tr>\n",
       "\t<tr><td>35</td><td> NaN</td><td> NaN</td><td> NaN</td><td>       0.8</td><td>0.501180</td><td>54</td></tr>\n",
       "\t<tr><td>36</td><td> NaN</td><td> NaN</td><td> NaN</td><td>       1.0</td><td>0.630950</td><td>54</td></tr>\n",
       "\t<tr><td>37</td><td> NaN</td><td> NaN</td><td> NaN</td><td>       5.4</td><td>0.794320</td><td>54</td></tr>\n",
       "\t<tr><td>38</td><td> NaN</td><td> NaN</td><td> NaN</td><td> -234980.4</td><td>1.000000</td><td>54</td></tr>\n",
       "\t<tr><td>39</td><td> NaN</td><td> NaN</td><td> NaN</td><td> -107677.0</td><td>1.258900</td><td>54</td></tr>\n",
       "\t<tr><td>40</td><td> 7.4</td><td> NaN</td><td> 8.4</td><td> 8968756.6</td><td>1.584800</td><td>54</td></tr>\n",
       "\t<tr><td>41</td><td> NaN</td><td> NaN</td><td> NaN</td><td>       9.2</td><td>2.000000</td><td>54</td></tr>\n",
       "</tbody>\n",
       "</table>\n"
      ],
      "text/latex": [
       "A data.frame: 42 × 7\n",
       "\\begin{tabular}{lllllll}\n",
       " index & corr12 & corr23 & corr13 & fit & temp & max\\_t\\\\\n",
       " <int> & <dbl> & <dbl> & <dbl> & <dbl> & <dbl> & <int>\\\\\n",
       "\\hline\n",
       "\t  0 &  NaN &  4.8 & 23.7 & -9117313.8 & 0.020000 & 36\\\\\n",
       "\t  1 & 21.7 &  7.1 & 14.0 &       14.6 & 0.025118 & 36\\\\\n",
       "\t  2 & 10.4 &  NaN &  NaN &       15.7 & 0.031622 & 36\\\\\n",
       "\t  3 &  NaN & 14.7 &  NaN &    39457.6 & 0.039810 & 36\\\\\n",
       "\t  4 &  NaN &  4.0 & 13.0 & -1723929.6 & 0.050118 & 36\\\\\n",
       "\t  5 &  NaN & 16.5 & 43.4 &       37.7 & 0.063095 & 36\\\\\n",
       "\t  6 & 29.3 & 17.6 & 17.4 &       21.2 & 0.079432 & 36\\\\\n",
       "\t  7 & 12.1 &  NaN &  NaN &       14.4 & 0.100000 & 36\\\\\n",
       "\t  8 &  NaN &  NaN &  NaN &   193025.0 & 0.125890 & 36\\\\\n",
       "\t  9 &  NaN &  5.7 & 15.7 &   -59355.5 & 0.158480 & 36\\\\\n",
       "\t 10 & 15.9 &  NaN &  NaN &       21.4 & 0.199520 & 36\\\\\n",
       "\t 11 & 19.2 &  9.1 & 15.4 &       15.3 & 0.251180 & 36\\\\\n",
       "\t 12 &  3.9 &  4.5 &  3.7 &        3.6 & 0.316220 & 36\\\\\n",
       "\t 13 &  1.6 &  1.7 &  1.2 &        1.6 & 0.398100 & 36\\\\\n",
       "\t 14 &  2.6 &  1.6 &  2.1 &        1.0 & 0.501180 & 36\\\\\n",
       "\t 15 &  NaN &  6.5 &  NaN &        0.5 & 0.630950 & 36\\\\\n",
       "\t 16 &  NaN &  NaN &  NaN &        0.0 & 0.794320 & 36\\\\\n",
       "\t 17 &  NaN &  NaN &  NaN &        0.5 & 1.000000 & 36\\\\\n",
       "\t 18 &  NaN &  NaN &  NaN &   474922.4 & 1.258900 & 36\\\\\n",
       "\t 19 &  NaN &  NaN &  NaN &       -0.7 & 1.584800 & 36\\\\\n",
       "\t 20 &  NaN &  NaN &  NaN &    43499.2 & 2.000000 & 36\\\\\n",
       "\t 21 &  NaN &  NaN &  NaN &  -400201.1 & 0.020000 & 54\\\\\n",
       "\t 22 & 10.8 &  NaN &  NaN &       15.4 & 0.025118 & 54\\\\\n",
       "\t 23 &  NaN &  6.6 & 15.1 &       35.3 & 0.031622 & 54\\\\\n",
       "\t 24 &  NaN &  NaN & 24.8 &  -233472.1 & 0.039810 & 54\\\\\n",
       "\t 25 &  NaN &  2.8 & 38.4 &  2182032.7 & 0.050118 & 54\\\\\n",
       "\t 26 &  NaN &  NaN &  NaN & 20545412.5 & 0.063095 & 54\\\\\n",
       "\t 27 & 30.1 &  NaN & 66.9 &       27.0 & 0.079432 & 54\\\\\n",
       "\t 28 & 13.2 &  NaN & 28.6 &       16.1 & 0.100000 & 54\\\\\n",
       "\t 29 &  NaN &  5.8 & 16.1 &       82.1 & 0.125890 & 54\\\\\n",
       "\t 30 &  NaN &  5.9 & 20.5 &  -154392.8 & 0.158480 & 54\\\\\n",
       "\t 31 & 38.3 &  NaN & 52.7 &       55.7 & 0.199520 & 54\\\\\n",
       "\t 32 & 11.0 & 12.3 & 11.3 &       10.9 & 0.251180 & 54\\\\\n",
       "\t 33 &  3.3 &  3.9 &  3.6 &        3.5 & 0.316220 & 54\\\\\n",
       "\t 34 &  NaN &  1.4 &  NaN &        1.4 & 0.398100 & 54\\\\\n",
       "\t 35 &  NaN &  NaN &  NaN &        0.8 & 0.501180 & 54\\\\\n",
       "\t 36 &  NaN &  NaN &  NaN &        1.0 & 0.630950 & 54\\\\\n",
       "\t 37 &  NaN &  NaN &  NaN &        5.4 & 0.794320 & 54\\\\\n",
       "\t 38 &  NaN &  NaN &  NaN &  -234980.4 & 1.000000 & 54\\\\\n",
       "\t 39 &  NaN &  NaN &  NaN &  -107677.0 & 1.258900 & 54\\\\\n",
       "\t 40 &  7.4 &  NaN &  8.4 &  8968756.6 & 1.584800 & 54\\\\\n",
       "\t 41 &  NaN &  NaN &  NaN &        9.2 & 2.000000 & 54\\\\\n",
       "\\end{tabular}\n"
      ],
      "text/markdown": [
       "\n",
       "A data.frame: 42 × 7\n",
       "\n",
       "| index &lt;int&gt; | corr12 &lt;dbl&gt; | corr23 &lt;dbl&gt; | corr13 &lt;dbl&gt; | fit &lt;dbl&gt; | temp &lt;dbl&gt; | max_t &lt;int&gt; |\n",
       "|---|---|---|---|---|---|---|\n",
       "|  0 |  NaN |  4.8 | 23.7 | -9117313.8 | 0.020000 | 36 |\n",
       "|  1 | 21.7 |  7.1 | 14.0 |       14.6 | 0.025118 | 36 |\n",
       "|  2 | 10.4 |  NaN |  NaN |       15.7 | 0.031622 | 36 |\n",
       "|  3 |  NaN | 14.7 |  NaN |    39457.6 | 0.039810 | 36 |\n",
       "|  4 |  NaN |  4.0 | 13.0 | -1723929.6 | 0.050118 | 36 |\n",
       "|  5 |  NaN | 16.5 | 43.4 |       37.7 | 0.063095 | 36 |\n",
       "|  6 | 29.3 | 17.6 | 17.4 |       21.2 | 0.079432 | 36 |\n",
       "|  7 | 12.1 |  NaN |  NaN |       14.4 | 0.100000 | 36 |\n",
       "|  8 |  NaN |  NaN |  NaN |   193025.0 | 0.125890 | 36 |\n",
       "|  9 |  NaN |  5.7 | 15.7 |   -59355.5 | 0.158480 | 36 |\n",
       "| 10 | 15.9 |  NaN |  NaN |       21.4 | 0.199520 | 36 |\n",
       "| 11 | 19.2 |  9.1 | 15.4 |       15.3 | 0.251180 | 36 |\n",
       "| 12 |  3.9 |  4.5 |  3.7 |        3.6 | 0.316220 | 36 |\n",
       "| 13 |  1.6 |  1.7 |  1.2 |        1.6 | 0.398100 | 36 |\n",
       "| 14 |  2.6 |  1.6 |  2.1 |        1.0 | 0.501180 | 36 |\n",
       "| 15 |  NaN |  6.5 |  NaN |        0.5 | 0.630950 | 36 |\n",
       "| 16 |  NaN |  NaN |  NaN |        0.0 | 0.794320 | 36 |\n",
       "| 17 |  NaN |  NaN |  NaN |        0.5 | 1.000000 | 36 |\n",
       "| 18 |  NaN |  NaN |  NaN |   474922.4 | 1.258900 | 36 |\n",
       "| 19 |  NaN |  NaN |  NaN |       -0.7 | 1.584800 | 36 |\n",
       "| 20 |  NaN |  NaN |  NaN |    43499.2 | 2.000000 | 36 |\n",
       "| 21 |  NaN |  NaN |  NaN |  -400201.1 | 0.020000 | 54 |\n",
       "| 22 | 10.8 |  NaN |  NaN |       15.4 | 0.025118 | 54 |\n",
       "| 23 |  NaN |  6.6 | 15.1 |       35.3 | 0.031622 | 54 |\n",
       "| 24 |  NaN |  NaN | 24.8 |  -233472.1 | 0.039810 | 54 |\n",
       "| 25 |  NaN |  2.8 | 38.4 |  2182032.7 | 0.050118 | 54 |\n",
       "| 26 |  NaN |  NaN |  NaN | 20545412.5 | 0.063095 | 54 |\n",
       "| 27 | 30.1 |  NaN | 66.9 |       27.0 | 0.079432 | 54 |\n",
       "| 28 | 13.2 |  NaN | 28.6 |       16.1 | 0.100000 | 54 |\n",
       "| 29 |  NaN |  5.8 | 16.1 |       82.1 | 0.125890 | 54 |\n",
       "| 30 |  NaN |  5.9 | 20.5 |  -154392.8 | 0.158480 | 54 |\n",
       "| 31 | 38.3 |  NaN | 52.7 |       55.7 | 0.199520 | 54 |\n",
       "| 32 | 11.0 | 12.3 | 11.3 |       10.9 | 0.251180 | 54 |\n",
       "| 33 |  3.3 |  3.9 |  3.6 |        3.5 | 0.316220 | 54 |\n",
       "| 34 |  NaN |  1.4 |  NaN |        1.4 | 0.398100 | 54 |\n",
       "| 35 |  NaN |  NaN |  NaN |        0.8 | 0.501180 | 54 |\n",
       "| 36 |  NaN |  NaN |  NaN |        1.0 | 0.630950 | 54 |\n",
       "| 37 |  NaN |  NaN |  NaN |        5.4 | 0.794320 | 54 |\n",
       "| 38 |  NaN |  NaN |  NaN |  -234980.4 | 1.000000 | 54 |\n",
       "| 39 |  NaN |  NaN |  NaN |  -107677.0 | 1.258900 | 54 |\n",
       "| 40 |  7.4 |  NaN |  8.4 |  8968756.6 | 1.584800 | 54 |\n",
       "| 41 |  NaN |  NaN |  NaN |        9.2 | 2.000000 | 54 |\n",
       "\n"
      ],
      "text/plain": [
       "   index corr12 corr23 corr13 fit        temp     max_t\n",
       "1   0     NaN    4.8   23.7   -9117313.8 0.020000 36   \n",
       "2   1    21.7    7.1   14.0         14.6 0.025118 36   \n",
       "3   2    10.4    NaN    NaN         15.7 0.031622 36   \n",
       "4   3     NaN   14.7    NaN      39457.6 0.039810 36   \n",
       "5   4     NaN    4.0   13.0   -1723929.6 0.050118 36   \n",
       "6   5     NaN   16.5   43.4         37.7 0.063095 36   \n",
       "7   6    29.3   17.6   17.4         21.2 0.079432 36   \n",
       "8   7    12.1    NaN    NaN         14.4 0.100000 36   \n",
       "9   8     NaN    NaN    NaN     193025.0 0.125890 36   \n",
       "10  9     NaN    5.7   15.7     -59355.5 0.158480 36   \n",
       "11 10    15.9    NaN    NaN         21.4 0.199520 36   \n",
       "12 11    19.2    9.1   15.4         15.3 0.251180 36   \n",
       "13 12     3.9    4.5    3.7          3.6 0.316220 36   \n",
       "14 13     1.6    1.7    1.2          1.6 0.398100 36   \n",
       "15 14     2.6    1.6    2.1          1.0 0.501180 36   \n",
       "16 15     NaN    6.5    NaN          0.5 0.630950 36   \n",
       "17 16     NaN    NaN    NaN          0.0 0.794320 36   \n",
       "18 17     NaN    NaN    NaN          0.5 1.000000 36   \n",
       "19 18     NaN    NaN    NaN     474922.4 1.258900 36   \n",
       "20 19     NaN    NaN    NaN         -0.7 1.584800 36   \n",
       "21 20     NaN    NaN    NaN      43499.2 2.000000 36   \n",
       "22 21     NaN    NaN    NaN    -400201.1 0.020000 54   \n",
       "23 22    10.8    NaN    NaN         15.4 0.025118 54   \n",
       "24 23     NaN    6.6   15.1         35.3 0.031622 54   \n",
       "25 24     NaN    NaN   24.8    -233472.1 0.039810 54   \n",
       "26 25     NaN    2.8   38.4    2182032.7 0.050118 54   \n",
       "27 26     NaN    NaN    NaN   20545412.5 0.063095 54   \n",
       "28 27    30.1    NaN   66.9         27.0 0.079432 54   \n",
       "29 28    13.2    NaN   28.6         16.1 0.100000 54   \n",
       "30 29     NaN    5.8   16.1         82.1 0.125890 54   \n",
       "31 30     NaN    5.9   20.5    -154392.8 0.158480 54   \n",
       "32 31    38.3    NaN   52.7         55.7 0.199520 54   \n",
       "33 32    11.0   12.3   11.3         10.9 0.251180 54   \n",
       "34 33     3.3    3.9    3.6          3.5 0.316220 54   \n",
       "35 34     NaN    1.4    NaN          1.4 0.398100 54   \n",
       "36 35     NaN    NaN    NaN          0.8 0.501180 54   \n",
       "37 36     NaN    NaN    NaN          1.0 0.630950 54   \n",
       "38 37     NaN    NaN    NaN          5.4 0.794320 54   \n",
       "39 38     NaN    NaN    NaN    -234980.4 1.000000 54   \n",
       "40 39     NaN    NaN    NaN    -107677.0 1.258900 54   \n",
       "41 40     7.4    NaN    8.4    8968756.6 1.584800 54   \n",
       "42 41     NaN    NaN    NaN          9.2 2.000000 54   "
      ]
     },
     "metadata": {},
     "output_type": "display_data"
    }
   ],
   "source": [
    "# Presenting the correlation lenght data in a simple table\n",
    "results <- read.csv(\"..\\\\..\\\\data\\\\results.csv\", header = TRUE, sep = \",\")\n",
    "fit <- read.csv(\"..\\\\..\\\\data\\\\results_fit.csv\", header = TRUE, sep = \",\")\n",
    "corr <- read.csv(\"..\\\\..\\\\data\\\\results_corr.csv\", header = TRUE, sep = \",\")\n",
    "\n",
    "d <- corr[, !(names(corr) %in% c(\"m12\", \"m23\", \"m13\"))]\n",
    "d$corr12 <- round(d$corr12, digits = 1)\n",
    "d$corr23 <- round(d$corr23, digits = 1)\n",
    "d$corr13 <- round(d$corr13, digits = 1)\n",
    "d$fit <- round(fit$corr, digits = 1)\n",
    "temps <- c()\n",
    "max_ts <- c()\n",
    "for (index in d$index) {\n",
    "\ttemps <- append(temps, results$temp[results$index == index])\n",
    "\tmax_ts <- append(max_ts, results$t[results$index == index])\n",
    "}\n",
    "d$temp <- temps\n",
    "d$max_t <- max_ts\n",
    "d"
   ]
  },
  {
   "attachments": {},
   "cell_type": "markdown",
   "metadata": {},
   "source": [
    "## Correlation function"
   ]
  },
  {
   "cell_type": "code",
   "execution_count": 47,
   "metadata": {
    "vscode": {
     "languageId": "r"
    }
   },
   "outputs": [
    {
     "data": {
      "text/html": [
       "<table class=\"dataframe\">\n",
       "<caption>A data.frame: 1 × 14</caption>\n",
       "<thead>\n",
       "\t<tr><th></th><th scope=col>index</th><th scope=col>d</th><th scope=col>size</th><th scope=col>x</th><th scope=col>y</th><th scope=col>t</th><th scope=col>temp</th><th scope=col>comptype</th><th scope=col>comptime</th><th scope=col>action</th><th scope=col>action_error</th><th scope=col>energy_data</th><th scope=col>difference_data</th><th scope=col>correlation_data</th></tr>\n",
       "\t<tr><th></th><th scope=col>&lt;int&gt;</th><th scope=col>&lt;int&gt;</th><th scope=col>&lt;int&gt;</th><th scope=col>&lt;int&gt;</th><th scope=col>&lt;int&gt;</th><th scope=col>&lt;int&gt;</th><th scope=col>&lt;dbl&gt;</th><th scope=col>&lt;chr&gt;</th><th scope=col>&lt;dbl&gt;</th><th scope=col>&lt;dbl&gt;</th><th scope=col>&lt;lgl&gt;</th><th scope=col>&lt;chr&gt;</th><th scope=col>&lt;chr&gt;</th><th scope=col>&lt;chr&gt;</th></tr>\n",
       "</thead>\n",
       "<tbody>\n",
       "\t<tr><th scope=row>35</th><td>34</td><td>3</td><td>157464</td><td>54</td><td>54</td><td>54</td><td>0.3981</td><td>Metropolis Simulation (1000000)</td><td>8762.356</td><td>69952.04</td><td>NA</td><td>false</td><td>false</td><td>true</td></tr>\n",
       "</tbody>\n",
       "</table>\n"
      ],
      "text/latex": [
       "A data.frame: 1 × 14\n",
       "\\begin{tabular}{r|llllllllllllll}\n",
       "  & index & d & size & x & y & t & temp & comptype & comptime & action & action\\_error & energy\\_data & difference\\_data & correlation\\_data\\\\\n",
       "  & <int> & <int> & <int> & <int> & <int> & <int> & <dbl> & <chr> & <dbl> & <dbl> & <lgl> & <chr> & <chr> & <chr>\\\\\n",
       "\\hline\n",
       "\t35 & 34 & 3 & 157464 & 54 & 54 & 54 & 0.3981 & Metropolis Simulation (1000000) & 8762.356 & 69952.04 & NA & false & false & true\\\\\n",
       "\\end{tabular}\n"
      ],
      "text/markdown": [
       "\n",
       "A data.frame: 1 × 14\n",
       "\n",
       "| <!--/--> | index &lt;int&gt; | d &lt;int&gt; | size &lt;int&gt; | x &lt;int&gt; | y &lt;int&gt; | t &lt;int&gt; | temp &lt;dbl&gt; | comptype &lt;chr&gt; | comptime &lt;dbl&gt; | action &lt;dbl&gt; | action_error &lt;lgl&gt; | energy_data &lt;chr&gt; | difference_data &lt;chr&gt; | correlation_data &lt;chr&gt; |\n",
       "|---|---|---|---|---|---|---|---|---|---|---|---|---|---|---|\n",
       "| 35 | 34 | 3 | 157464 | 54 | 54 | 54 | 0.3981 | Metropolis Simulation (1000000) | 8762.356 | 69952.04 | NA | false | false | true |\n",
       "\n"
      ],
      "text/plain": [
       "   index d size   x  y  t  temp   comptype                        comptime\n",
       "35 34    3 157464 54 54 54 0.3981 Metropolis Simulation (1000000) 8762.356\n",
       "   action   action_error energy_data difference_data correlation_data\n",
       "35 69952.04 NA           false       false           true            "
      ]
     },
     "metadata": {},
     "output_type": "display_data"
    },
    {
     "data": {
      "text/html": [
       "<table class=\"dataframe\">\n",
       "<caption>A data.frame: 1 × 7</caption>\n",
       "<thead>\n",
       "\t<tr><th></th><th scope=col>index</th><th scope=col>m12</th><th scope=col>m23</th><th scope=col>m13</th><th scope=col>corr12</th><th scope=col>corr23</th><th scope=col>corr13</th></tr>\n",
       "\t<tr><th></th><th scope=col>&lt;int&gt;</th><th scope=col>&lt;dbl&gt;</th><th scope=col>&lt;dbl&gt;</th><th scope=col>&lt;dbl&gt;</th><th scope=col>&lt;dbl&gt;</th><th scope=col>&lt;dbl&gt;</th><th scope=col>&lt;dbl&gt;</th></tr>\n",
       "</thead>\n",
       "<tbody>\n",
       "\t<tr><th scope=row>35</th><td>34</td><td>NaN</td><td>0.7010329</td><td>NaN</td><td>NaN</td><td>1.426466</td><td>NaN</td></tr>\n",
       "</tbody>\n",
       "</table>\n"
      ],
      "text/latex": [
       "A data.frame: 1 × 7\n",
       "\\begin{tabular}{r|lllllll}\n",
       "  & index & m12 & m23 & m13 & corr12 & corr23 & corr13\\\\\n",
       "  & <int> & <dbl> & <dbl> & <dbl> & <dbl> & <dbl> & <dbl>\\\\\n",
       "\\hline\n",
       "\t35 & 34 & NaN & 0.7010329 & NaN & NaN & 1.426466 & NaN\\\\\n",
       "\\end{tabular}\n"
      ],
      "text/markdown": [
       "\n",
       "A data.frame: 1 × 7\n",
       "\n",
       "| <!--/--> | index &lt;int&gt; | m12 &lt;dbl&gt; | m23 &lt;dbl&gt; | m13 &lt;dbl&gt; | corr12 &lt;dbl&gt; | corr23 &lt;dbl&gt; | corr13 &lt;dbl&gt; |\n",
       "|---|---|---|---|---|---|---|---|\n",
       "| 35 | 34 | NaN | 0.7010329 | NaN | NaN | 1.426466 | NaN |\n",
       "\n"
      ],
      "text/plain": [
       "   index m12 m23       m13 corr12 corr23   corr13\n",
       "35 34    NaN 0.7010329 NaN NaN    1.426466 NaN   "
      ]
     },
     "metadata": {},
     "output_type": "display_data"
    },
    {
     "data": {
      "image/png": "[encoded data removed]",
      "text/plain": [
       "plot without title"
      ]
     },
     "metadata": {
      "image/png": {
       "height": 420,
       "width": 420
      }
     },
     "output_type": "display_data"
    }
   ],
   "source": [
    "results <- read.csv(\"..\\\\..\\\\data\\\\results.csv\", header = TRUE, sep = \",\")\n",
    "fit <- read.csv(\"..\\\\..\\\\data\\\\results_fit.csv\", header = TRUE, sep = \",\")\n",
    "corr <- read.csv(\"..\\\\..\\\\data\\\\results_corr.csv\", header = TRUE, sep = \",\")\n",
    "\n",
    "index <- 34\n",
    "d <- read.csv(paste(\"..\\\\..\\\\data\\\\plot_data\\\\correlation_\", index, \".csv\", sep = \"\"), header = FALSE)\n",
    "colnames(d) <- c(\"corr_fn\")\n",
    "d$index <- 1:nrow(d) - 1\n",
    "d$corr_fn <- d$corr_fn[d$index == (nrow(d) / 2)] - d$corr_fn\n",
    "\n",
    "d$sym_corr_fn <- d$corr_fn\n",
    "for (i in 1:(nrow(d) - 1)) {\n",
    "\td$sym_corr_fn[d$index == i] <- (d$corr_fn[d$index == i] + d$corr_fn[d$index == (nrow(d) - i)]) / 2\n",
    "}\n",
    "\n",
    "results[results$index == index, ]\n",
    "params <- fit[fit$index == index, ]\n",
    "d$fit <- params$a * cosh(params$m * (d$index - params$n / 2)) + params$b\n",
    "corr[corr$index == index, ]\n",
    "plot(d$index, d$sym_corr_fn)\n",
    "lines(d$index, d$fit)"
   ]
  }
 ],
 "metadata": {
  "kernelspec": {
   "display_name": "R",
   "language": "R",
   "name": "ir"
  },
  "language_info": {
   "codemirror_mode": "r",
   "file_extension": ".r",
   "mimetype": "text/x-r-source",
   "name": "R",
   "pygments_lexer": "r",
   "version": "4.2.2"
  },
  "orig_nbformat": 4
 },
 "nbformat": 4,
 "nbformat_minor": 2
}
