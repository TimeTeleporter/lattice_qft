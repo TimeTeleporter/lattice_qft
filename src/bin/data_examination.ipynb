{
 "cells": [
  {
   "attachments": {},
   "cell_type": "markdown",
   "metadata": {},
   "source": [
    "# Data examination"
   ]
  },
  {
   "cell_type": "code",
   "execution_count": 2,
   "metadata": {
    "vscode": {
     "languageId": "r"
    }
   },
   "outputs": [],
   "source": [
    "results <- read.csv(\"..\\\\..\\\\data\\\\results.csv\", header = TRUE, sep = \",\")\n",
    "fit <- read.csv(\"..\\\\..\\\\data\\\\results_fit.csv\", header = TRUE, sep = \",\")\n",
    "corr <- read.csv(\"..\\\\..\\\\data\\\\results_corr.csv\", header = TRUE, sep = \",\")"
   ]
  },
  {
   "attachments": {},
   "cell_type": "markdown",
   "metadata": {},
   "source": [
    "## Correlation function"
   ]
  },
  {
   "cell_type": "code",
   "execution_count": 45,
   "metadata": {
    "vscode": {
     "languageId": "r"
    }
   },
   "outputs": [
    {
     "data": {
      "text/html": [
       "<table class=\"dataframe\">\n",
       "<caption>A data.frame: 1 × 14</caption>\n",
       "<thead>\n",
       "\t<tr><th></th><th scope=col>index</th><th scope=col>d</th><th scope=col>size</th><th scope=col>x</th><th scope=col>y</th><th scope=col>t</th><th scope=col>temp</th><th scope=col>comptype</th><th scope=col>comptime</th><th scope=col>action</th><th scope=col>action_error</th><th scope=col>energy_data</th><th scope=col>difference_data</th><th scope=col>correlation_data</th></tr>\n",
       "\t<tr><th></th><th scope=col>&lt;int&gt;</th><th scope=col>&lt;int&gt;</th><th scope=col>&lt;int&gt;</th><th scope=col>&lt;int&gt;</th><th scope=col>&lt;int&gt;</th><th scope=col>&lt;int&gt;</th><th scope=col>&lt;dbl&gt;</th><th scope=col>&lt;chr&gt;</th><th scope=col>&lt;dbl&gt;</th><th scope=col>&lt;dbl&gt;</th><th scope=col>&lt;lgl&gt;</th><th scope=col>&lt;chr&gt;</th><th scope=col>&lt;chr&gt;</th><th scope=col>&lt;chr&gt;</th></tr>\n",
       "</thead>\n",
       "<tbody>\n",
       "\t<tr><th scope=row>1</th><td>0</td><td>3</td><td>46656</td><td>36</td><td>36</td><td>36</td><td>0.02</td><td>Metropolis Simulation (1000000)</td><td>2619.722</td><td>23327.73</td><td>NA</td><td>false</td><td>false</td><td>true</td></tr>\n",
       "</tbody>\n",
       "</table>\n"
      ],
      "text/latex": [
       "A data.frame: 1 × 14\n",
       "\\begin{tabular}{r|llllllllllllll}\n",
       "  & index & d & size & x & y & t & temp & comptype & comptime & action & action\\_error & energy\\_data & difference\\_data & correlation\\_data\\\\\n",
       "  & <int> & <int> & <int> & <int> & <int> & <int> & <dbl> & <chr> & <dbl> & <dbl> & <lgl> & <chr> & <chr> & <chr>\\\\\n",
       "\\hline\n",
       "\t1 & 0 & 3 & 46656 & 36 & 36 & 36 & 0.02 & Metropolis Simulation (1000000) & 2619.722 & 23327.73 & NA & false & false & true\\\\\n",
       "\\end{tabular}\n"
      ],
      "text/markdown": [
       "\n",
       "A data.frame: 1 × 14\n",
       "\n",
       "| <!--/--> | index &lt;int&gt; | d &lt;int&gt; | size &lt;int&gt; | x &lt;int&gt; | y &lt;int&gt; | t &lt;int&gt; | temp &lt;dbl&gt; | comptype &lt;chr&gt; | comptime &lt;dbl&gt; | action &lt;dbl&gt; | action_error &lt;lgl&gt; | energy_data &lt;chr&gt; | difference_data &lt;chr&gt; | correlation_data &lt;chr&gt; |\n",
       "|---|---|---|---|---|---|---|---|---|---|---|---|---|---|---|\n",
       "| 1 | 0 | 3 | 46656 | 36 | 36 | 36 | 0.02 | Metropolis Simulation (1000000) | 2619.722 | 23327.73 | NA | false | false | true |\n",
       "\n"
      ],
      "text/plain": [
       "  index d size  x  y  t  temp comptype                        comptime action  \n",
       "1 0     3 46656 36 36 36 0.02 Metropolis Simulation (1000000) 2619.722 23327.73\n",
       "  action_error energy_data difference_data correlation_data\n",
       "1 NA           false       false           true            "
      ]
     },
     "metadata": {},
     "output_type": "display_data"
    },
    {
     "data": {
      "image/png": "[encoded data removed]",
      "text/plain": [
       "plot without title"
      ]
     },
     "metadata": {
      "image/png": {
       "height": 420,
       "width": 420
      }
     },
     "output_type": "display_data"
    }
   ],
   "source": [
    "index <- 0\n",
    "d <- read.csv(paste(\"..\\\\..\\\\data\\\\plot_data\\\\correlation_\", index, \".csv\", sep = \"\"), header = FALSE)\n",
    "colnames(d) <- c(\"corr_fn\")\n",
    "d$index <- 1:nrow(d) - 1\n",
    "d$corr_fn <- d$corr_fn[d$index == (nrow(d) / 2)] - d$corr_fn\n",
    "results[results$index == index, ]\n",
    "plot(d$index, d$corr_fn)"
   ]
  }
 ],
 "metadata": {
  "kernelspec": {
   "display_name": "R",
   "language": "R",
   "name": "ir"
  },
  "language_info": {
   "codemirror_mode": "r",
   "file_extension": ".r",
   "mimetype": "text/x-r-source",
   "name": "R",
   "pygments_lexer": "r",
   "version": "4.2.2"
  },
  "orig_nbformat": 4
 },
 "nbformat": 4,
 "nbformat_minor": 2
}
